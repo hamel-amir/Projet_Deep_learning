{
  "nbformat": 4,
  "nbformat_minor": 0,
  "metadata": {
    "colab": {
      "provenance": [],
      "include_colab_link": true
    },
    "kernelspec": {
      "name": "python3",
      "display_name": "Python 3"
    },
    "language_info": {
      "name": "python"
    },
    "accelerator": "GPU"
  },
  "cells": [
    {
      "cell_type": "markdown",
      "metadata": {
        "id": "view-in-github",
        "colab_type": "text"
      },
      "source": [
        "<a href=\"https://colab.research.google.com/github/Kenz2000/Deep-Learning-project/blob/main/VAT_Method_MNIST.ipynb\" target=\"_parent\"><img src=\"https://colab.research.google.com/assets/colab-badge.svg\" alt=\"Open In Colab\"/></a>"
      ]
    },
    {
      "cell_type": "code",
      "execution_count": 1,
      "metadata": {
        "id": "0xD4LFEcKr-3"
      },
      "outputs": [],
      "source": [
        "import matplotlib\n",
        "import numpy as np\n",
        "import matplotlib.pyplot as plt\n",
        "import pydot\n",
        "%matplotlib inline\n",
        "from tqdm import tqdm\n",
        "from tensorflow.keras.utils import to_categorical\n",
        "import tensorflow as tf\n",
        "from tensorflow.keras import layers\n",
        "from tensorflow.keras import Model,Sequential\n",
        "from tensorflow.keras.layers import Input, Dense, GaussianNoise, Dropout, BatchNormalization, ReLU, Activation, Flatten, Conv2D, MaxPooling2D\n",
        "from keras.callbacks import History\n",
        "\n",
        "from sklearn.metrics import accuracy_score\n",
        "import tensorflow_datasets as tfds"
      ]
    },
    {
      "cell_type": "code",
      "source": [
        "device_name = tf.test.gpu_device_name()\n",
        "if device_name != '/device:GPU:0':\n",
        "  raise SystemError('GPU device not found')\n",
        "print('Found GPU at: {}'.format(device_name))"
      ],
      "metadata": {
        "id": "jm3bfE0KKzsD",
        "colab": {
          "base_uri": "https://localhost:8080/"
        },
        "outputId": "8ab4c162-932d-424f-c367-049bc908875e"
      },
      "execution_count": 2,
      "outputs": [
        {
          "output_type": "stream",
          "name": "stdout",
          "text": [
            "Found GPU at: /device:GPU:0\n"
          ]
        }
      ]
    },
    {
      "cell_type": "code",
      "source": [
        "tf.keras.backend.set_floatx('float64') #Change numerical type to 'float64'\n",
        "#Load the data\n",
        "from keras.datasets import mnist\n",
        "(x_train_original, y_train_original), (x_test, y_test) = mnist.load_data()\n",
        "num_classes = y_train_original.max() +1 #number of labels\n",
        "y_train = to_categorical(y_train_original, num_classes)\n",
        "y_test = to_categorical(y_test, num_classes)\n",
        "#Normalize the data\n",
        "x_train = x_train_original/255\n",
        "x_test = x_test/255\n",
        "#Train-test split\n",
        "from sklearn.model_selection import train_test_split\n",
        "x_labeled, x_unlabeled, y_labeled, y_unlabeled = train_test_split(x_train, y_train,\n",
        "test_size=59900, random_state=42, shuffle= True,stratify=y_train)"
      ],
      "metadata": {
        "id": "p6Z_RP27K1db",
        "colab": {
          "base_uri": "https://localhost:8080/"
        },
        "outputId": "d7705971-5a69-4e2e-a7b2-8abd44ab5933"
      },
      "execution_count": 3,
      "outputs": [
        {
          "output_type": "stream",
          "name": "stdout",
          "text": [
            "Downloading data from https://storage.googleapis.com/tensorflow/tf-keras-datasets/mnist.npz\n",
            "11490434/11490434 [==============================] - 0s 0us/step\n"
          ]
        }
      ]
    },
    {
      "cell_type": "code",
      "source": [
        "print(\"x_train.shape\", x_train.shape)\n",
        "print(\"y_train.shape\", y_train.shape)\n",
        "print(\"x_test.shape\", x_test.shape)\n",
        "print(\"y_test.shape\", y_test.shape)\n",
        "print(\"x_labeled.shape\", x_labeled.shape)\n",
        "print(\"x_unlabeled.shape\", x_unlabeled.shape)"
      ],
      "metadata": {
        "colab": {
          "base_uri": "https://localhost:8080/"
        },
        "id": "iKk4-Fh7M10S",
        "outputId": "f3a66712-f53a-48ab-f00b-0db9ddfd20bf"
      },
      "execution_count": 4,
      "outputs": [
        {
          "output_type": "stream",
          "name": "stdout",
          "text": [
            "x_train.shape (60000, 28, 28)\n",
            "y_train.shape (60000, 10)\n",
            "x_test.shape (10000, 28, 28)\n",
            "y_test.shape (10000, 10)\n",
            "x_labeled.shape (100, 28, 28)\n",
            "x_unlabeled.shape (59900, 28, 28)\n"
          ]
        }
      ]
    },
    {
      "cell_type": "code",
      "source": [
        "n_filters = 5\n",
        "kernel_size = 5\n",
        "pool_size = 2\n",
        "n_classes = 10\n",
        "\n",
        "Baseline_model = Sequential([\n",
        "    Conv2D(n_filters,\n",
        "                  kernel_size,\n",
        "                  activation='relu',\n",
        "                  input_shape=(28, 28, 1)),\n",
        "    MaxPooling2D(pool_size=pool_size),\n",
        "    Flatten(),\n",
        "    Dense(10, activation=\"relu\"),\n",
        "    Dense(n_classes, activation='softmax')\n",
        "])"
      ],
      "metadata": {
        "id": "-njnsGZiLnLy"
      },
      "execution_count": 5,
      "outputs": []
    },
    {
      "cell_type": "code",
      "source": [
        "Baseline_model.summary()"
      ],
      "metadata": {
        "colab": {
          "base_uri": "https://localhost:8080/"
        },
        "id": "NFI9i-NIL7LL",
        "outputId": "81aeb785-0ea1-4075-9269-9a6902932eea"
      },
      "execution_count": 6,
      "outputs": [
        {
          "output_type": "stream",
          "name": "stdout",
          "text": [
            "Model: \"sequential\"\n",
            "_________________________________________________________________\n",
            " Layer (type)                Output Shape              Param #   \n",
            "=================================================================\n",
            " conv2d (Conv2D)             (None, 24, 24, 5)         130       \n",
            "                                                                 \n",
            " max_pooling2d (MaxPooling2  (None, 12, 12, 5)         0         \n",
            " D)                                                              \n",
            "                                                                 \n",
            " flatten (Flatten)           (None, 720)               0         \n",
            "                                                                 \n",
            " dense (Dense)               (None, 10)                7210      \n",
            "                                                                 \n",
            " dense_1 (Dense)             (None, 10)                110       \n",
            "                                                                 \n",
            "=================================================================\n",
            "Total params: 7450 (58.20 KB)\n",
            "Trainable params: 7450 (58.20 KB)\n",
            "Non-trainable params: 0 (0.00 Byte)\n",
            "_________________________________________________________________\n"
          ]
        }
      ]
    },
    {
      "cell_type": "code",
      "source": [
        "#from keras.utils.vis_utils import plot_model\n",
        "from tensorflow.keras.utils import plot_model\n",
        "plot_model(Baseline_model, to_file='model_plot.png', show_shapes=True, show_layer_names=True)"
      ],
      "metadata": {
        "colab": {
          "base_uri": "https://localhost:8080/",
          "height": 644
        },
        "id": "eK2Z0TAWjPKs",
        "outputId": "17576c70-f6a1-4628-db3f-e3720ebb3110"
      },
      "execution_count": 8,
      "outputs": [
        {
          "output_type": "execute_result",
          "data": {
            "image/png": "[encoded data removed]",
            "text/plain": [
              "<IPython.core.display.Image object>"
            ]
          },
          "metadata": {},
          "execution_count": 8
        }
      ]
    },
    {
      "cell_type": "code",
      "source": [
        "Baseline_model.compile(optimizer=\"adam\", loss=\"categorical_crossentropy\",\n",
        "              metrics=[\"accuracy\"])\n",
        "history = Baseline_model.fit(x_labeled, y_labeled, batch_size=128,\n",
        "         epochs=1000,  # trick to make number of batch updates similar to that of the semi-supervised model\n",
        "         verbose=2)"
      ],
      "metadata": {
        "colab": {
          "base_uri": "https://localhost:8080/"
        },
        "id": "_WYqJSJaMd-6",
        "outputId": "c4fb243c-a699-4278-ed25-818b3aaa3ee3"
      },
      "execution_count": 9,
      "outputs": [
        {
          "output_type": "stream",
          "name": "stdout",
          "text": [
            "Epoch 1/1000\n",
            "1/1 - 10s - loss: 2.2919 - accuracy: 0.0800 - 10s/epoch - 10s/step\n",
            "Epoch 2/1000\n",
            "1/1 - 0s - loss: 2.2661 - accuracy: 0.1200 - 15ms/epoch - 15ms/step\n",
            "Epoch 3/1000\n",
            "1/1 - 0s - loss: 2.2409 - accuracy: 0.1600 - 13ms/epoch - 13ms/step\n",
            "Epoch 4/1000\n",
            "1/1 - 0s - loss: 2.2158 - accuracy: 0.1900 - 11ms/epoch - 11ms/step\n",
            "Epoch 5/1000\n",
            "1/1 - 0s - loss: 2.1907 - accuracy: 0.2400 - 12ms/epoch - 12ms/step\n",
            "Epoch 6/1000\n",
            "1/1 - 0s - loss: 2.1652 - accuracy: 0.2700 - 13ms/epoch - 13ms/step\n",
            "Epoch 7/1000\n",
            "1/1 - 0s - loss: 2.1378 - accuracy: 0.3500 - 14ms/epoch - 14ms/step\n",
            "Epoch 8/1000\n",
            "1/1 - 0s - loss: 2.1097 - accuracy: 0.3300 - 14ms/epoch - 14ms/step\n",
            "Epoch 9/1000\n",
            "1/1 - 0s - loss: 2.0813 - accuracy: 0.3600 - 10ms/epoch - 10ms/step\n",
            "Epoch 10/1000\n",
            "1/1 - 0s - loss: 2.0530 - accuracy: 0.3900 - 14ms/epoch - 14ms/step\n",
            "Epoch 11/1000\n",
            "1/1 - 0s - loss: 2.0251 - accuracy: 0.3900 - 10ms/epoch - 10ms/step\n",
            "Epoch 12/1000\n",
            "1/1 - 0s - loss: 1.9977 - accuracy: 0.4300 - 12ms/epoch - 12ms/step\n",
            "Epoch 13/1000\n",
            "1/1 - 0s - loss: 1.9698 - accuracy: 0.4400 - 12ms/epoch - 12ms/step\n",
            "Epoch 14/1000\n",
            "1/1 - 0s - loss: 1.9411 - accuracy: 0.4500 - 11ms/epoch - 11ms/step\n",
            "Epoch 15/1000\n",
            "1/1 - 0s - loss: 1.9114 - accuracy: 0.4700 - 12ms/epoch - 12ms/step\n",
            "Epoch 16/1000\n",
            "1/1 - 0s - loss: 1.8810 - accuracy: 0.4900 - 12ms/epoch - 12ms/step\n",
            "Epoch 17/1000\n",
            "1/1 - 0s - loss: 1.8499 - accuracy: 0.5000 - 14ms/epoch - 14ms/step\n",
            "Epoch 18/1000\n",
            "1/1 - 0s - loss: 1.8183 - accuracy: 0.5100 - 15ms/epoch - 15ms/step\n",
            "Epoch 19/1000\n",
            "1/1 - 0s - loss: 1.7864 - accuracy: 0.5100 - 10ms/epoch - 10ms/step\n",
            "Epoch 20/1000\n",
            "1/1 - 0s - loss: 1.7545 - accuracy: 0.5100 - 13ms/epoch - 13ms/step\n",
            "Epoch 21/1000\n",
            "1/1 - 0s - loss: 1.7222 - accuracy: 0.5200 - 15ms/epoch - 15ms/step\n",
            "Epoch 22/1000\n",
            "1/1 - 0s - loss: 1.6897 - accuracy: 0.5300 - 11ms/epoch - 11ms/step\n",
            "Epoch 23/1000\n",
            "1/1 - 0s - loss: 1.6572 - accuracy: 0.5300 - 13ms/epoch - 13ms/step\n",
            "Epoch 24/1000\n",
            "1/1 - 0s - loss: 1.6246 - accuracy: 0.5300 - 13ms/epoch - 13ms/step\n",
            "Epoch 25/1000\n",
            "1/1 - 0s - loss: 1.5922 - accuracy: 0.5600 - 13ms/epoch - 13ms/step\n",
            "Epoch 26/1000\n",
            "1/1 - 0s - loss: 1.5594 - accuracy: 0.5700 - 13ms/epoch - 13ms/step\n",
            "Epoch 27/1000\n",
            "1/1 - 0s - loss: 1.5264 - accuracy: 0.5800 - 13ms/epoch - 13ms/step\n",
            "Epoch 28/1000\n",
            "1/1 - 0s - loss: 1.4932 - accuracy: 0.5900 - 12ms/epoch - 12ms/step\n",
            "Epoch 29/1000\n",
            "1/1 - 0s - loss: 1.4601 - accuracy: 0.6200 - 13ms/epoch - 13ms/step\n",
            "Epoch 30/1000\n",
            "1/1 - 0s - loss: 1.4273 - accuracy: 0.6300 - 13ms/epoch - 13ms/step\n",
            "Epoch 31/1000\n",
            "1/1 - 0s - loss: 1.3944 - accuracy: 0.6400 - 14ms/epoch - 14ms/step\n",
            "Epoch 32/1000\n",
            "1/1 - 0s - loss: 1.3619 - accuracy: 0.6300 - 16ms/epoch - 16ms/step\n",
            "Epoch 33/1000\n",
            "1/1 - 0s - loss: 1.3300 - accuracy: 0.6300 - 13ms/epoch - 13ms/step\n",
            "Epoch 34/1000\n",
            "1/1 - 0s - loss: 1.2983 - accuracy: 0.6500 - 13ms/epoch - 13ms/step\n",
            "Epoch 35/1000\n",
            "1/1 - 0s - loss: 1.2668 - accuracy: 0.6600 - 11ms/epoch - 11ms/step\n",
            "Epoch 36/1000\n",
            "1/1 - 0s - loss: 1.2357 - accuracy: 0.6800 - 15ms/epoch - 15ms/step\n",
            "Epoch 37/1000\n",
            "1/1 - 0s - loss: 1.2048 - accuracy: 0.6900 - 14ms/epoch - 14ms/step\n",
            "Epoch 38/1000\n",
            "1/1 - 0s - loss: 1.1745 - accuracy: 0.7000 - 13ms/epoch - 13ms/step\n",
            "Epoch 39/1000\n",
            "1/1 - 0s - loss: 1.1449 - accuracy: 0.6900 - 13ms/epoch - 13ms/step\n",
            "Epoch 40/1000\n",
            "1/1 - 0s - loss: 1.1160 - accuracy: 0.7100 - 11ms/epoch - 11ms/step\n",
            "Epoch 41/1000\n",
            "1/1 - 0s - loss: 1.0877 - accuracy: 0.7000 - 13ms/epoch - 13ms/step\n",
            "Epoch 42/1000\n",
            "1/1 - 0s - loss: 1.0600 - accuracy: 0.7100 - 14ms/epoch - 14ms/step\n",
            "Epoch 43/1000\n",
            "1/1 - 0s - loss: 1.0328 - accuracy: 0.7200 - 14ms/epoch - 14ms/step\n",
            "Epoch 44/1000\n",
            "1/1 - 0s - loss: 1.0061 - accuracy: 0.7200 - 14ms/epoch - 14ms/step\n",
            "Epoch 45/1000\n",
            "1/1 - 0s - loss: 0.9800 - accuracy: 0.7500 - 11ms/epoch - 11ms/step\n",
            "Epoch 46/1000\n",
            "1/1 - 0s - loss: 0.9546 - accuracy: 0.7700 - 10ms/epoch - 10ms/step\n",
            "Epoch 47/1000\n",
            "1/1 - 0s - loss: 0.9296 - accuracy: 0.7900 - 14ms/epoch - 14ms/step\n",
            "Epoch 48/1000\n",
            "1/1 - 0s - loss: 0.9050 - accuracy: 0.7900 - 11ms/epoch - 11ms/step\n",
            "Epoch 49/1000\n",
            "1/1 - 0s - loss: 0.8809 - accuracy: 0.7900 - 12ms/epoch - 12ms/step\n",
            "Epoch 50/1000\n",
            "1/1 - 0s - loss: 0.8572 - accuracy: 0.8000 - 11ms/epoch - 11ms/step\n",
            "Epoch 51/1000\n",
            "1/1 - 0s - loss: 0.8340 - accuracy: 0.8100 - 11ms/epoch - 11ms/step\n",
            "Epoch 52/1000\n",
            "1/1 - 0s - loss: 0.8112 - accuracy: 0.8200 - 11ms/epoch - 11ms/step\n",
            "Epoch 53/1000\n",
            "1/1 - 0s - loss: 0.7890 - accuracy: 0.8100 - 11ms/epoch - 11ms/step\n",
            "Epoch 54/1000\n",
            "1/1 - 0s - loss: 0.7672 - accuracy: 0.8200 - 11ms/epoch - 11ms/step\n",
            "Epoch 55/1000\n",
            "1/1 - 0s - loss: 0.7458 - accuracy: 0.8300 - 12ms/epoch - 12ms/step\n",
            "Epoch 56/1000\n",
            "1/1 - 0s - loss: 0.7249 - accuracy: 0.8300 - 12ms/epoch - 12ms/step\n",
            "Epoch 57/1000\n",
            "1/1 - 0s - loss: 0.7043 - accuracy: 0.8500 - 11ms/epoch - 11ms/step\n",
            "Epoch 58/1000\n",
            "1/1 - 0s - loss: 0.6841 - accuracy: 0.8800 - 11ms/epoch - 11ms/step\n",
            "Epoch 59/1000\n",
            "1/1 - 0s - loss: 0.6645 - accuracy: 0.8800 - 11ms/epoch - 11ms/step\n",
            "Epoch 60/1000\n",
            "1/1 - 0s - loss: 0.6451 - accuracy: 0.8800 - 11ms/epoch - 11ms/step\n",
            "Epoch 61/1000\n",
            "1/1 - 0s - loss: 0.6263 - accuracy: 0.8900 - 11ms/epoch - 11ms/step\n",
            "Epoch 62/1000\n",
            "1/1 - 0s - loss: 0.6080 - accuracy: 0.9000 - 11ms/epoch - 11ms/step\n",
            "Epoch 63/1000\n",
            "1/1 - 0s - loss: 0.5901 - accuracy: 0.9000 - 11ms/epoch - 11ms/step\n",
            "Epoch 64/1000\n",
            "1/1 - 0s - loss: 0.5726 - accuracy: 0.9000 - 11ms/epoch - 11ms/step\n",
            "Epoch 65/1000\n",
            "1/1 - 0s - loss: 0.5556 - accuracy: 0.9100 - 11ms/epoch - 11ms/step\n",
            "Epoch 66/1000\n",
            "1/1 - 0s - loss: 0.5389 - accuracy: 0.9100 - 11ms/epoch - 11ms/step\n",
            "Epoch 67/1000\n",
            "1/1 - 0s - loss: 0.5227 - accuracy: 0.9200 - 11ms/epoch - 11ms/step\n",
            "Epoch 68/1000\n",
            "1/1 - 0s - loss: 0.5070 - accuracy: 0.9400 - 11ms/epoch - 11ms/step\n",
            "Epoch 69/1000\n",
            "1/1 - 0s - loss: 0.4915 - accuracy: 0.9600 - 11ms/epoch - 11ms/step\n",
            "Epoch 70/1000\n",
            "1/1 - 0s - loss: 0.4764 - accuracy: 0.9700 - 11ms/epoch - 11ms/step\n",
            "Epoch 71/1000\n",
            "1/1 - 0s - loss: 0.4617 - accuracy: 0.9700 - 11ms/epoch - 11ms/step\n",
            "Epoch 72/1000\n",
            "1/1 - 0s - loss: 0.4473 - accuracy: 0.9700 - 11ms/epoch - 11ms/step\n",
            "Epoch 73/1000\n",
            "1/1 - 0s - loss: 0.4332 - accuracy: 0.9700 - 14ms/epoch - 14ms/step\n",
            "Epoch 74/1000\n",
            "1/1 - 0s - loss: 0.4195 - accuracy: 0.9800 - 10ms/epoch - 10ms/step\n",
            "Epoch 75/1000\n",
            "1/1 - 0s - loss: 0.4061 - accuracy: 0.9800 - 11ms/epoch - 11ms/step\n",
            "Epoch 76/1000\n",
            "1/1 - 0s - loss: 0.3931 - accuracy: 0.9800 - 11ms/epoch - 11ms/step\n",
            "Epoch 77/1000\n",
            "1/1 - 0s - loss: 0.3804 - accuracy: 0.9800 - 10ms/epoch - 10ms/step\n",
            "Epoch 78/1000\n",
            "1/1 - 0s - loss: 0.3682 - accuracy: 0.9800 - 11ms/epoch - 11ms/step\n",
            "Epoch 79/1000\n",
            "1/1 - 0s - loss: 0.3562 - accuracy: 0.9800 - 15ms/epoch - 15ms/step\n",
            "Epoch 80/1000\n",
            "1/1 - 0s - loss: 0.3445 - accuracy: 0.9800 - 13ms/epoch - 13ms/step\n",
            "Epoch 81/1000\n",
            "1/1 - 0s - loss: 0.3332 - accuracy: 0.9800 - 12ms/epoch - 12ms/step\n",
            "Epoch 82/1000\n",
            "1/1 - 0s - loss: 0.3223 - accuracy: 0.9800 - 12ms/epoch - 12ms/step\n",
            "Epoch 83/1000\n",
            "1/1 - 0s - loss: 0.3116 - accuracy: 0.9800 - 11ms/epoch - 11ms/step\n",
            "Epoch 84/1000\n",
            "1/1 - 0s - loss: 0.3013 - accuracy: 0.9800 - 11ms/epoch - 11ms/step\n",
            "Epoch 85/1000\n",
            "1/1 - 0s - loss: 0.2912 - accuracy: 0.9800 - 10ms/epoch - 10ms/step\n",
            "Epoch 86/1000\n",
            "1/1 - 0s - loss: 0.2815 - accuracy: 0.9800 - 11ms/epoch - 11ms/step\n",
            "Epoch 87/1000\n",
            "1/1 - 0s - loss: 0.2721 - accuracy: 0.9900 - 10ms/epoch - 10ms/step\n",
            "Epoch 88/1000\n",
            "1/1 - 0s - loss: 0.2629 - accuracy: 0.9900 - 11ms/epoch - 11ms/step\n",
            "Epoch 89/1000\n",
            "1/1 - 0s - loss: 0.2541 - accuracy: 0.9900 - 14ms/epoch - 14ms/step\n",
            "Epoch 90/1000\n",
            "1/1 - 0s - loss: 0.2455 - accuracy: 0.9900 - 10ms/epoch - 10ms/step\n",
            "Epoch 91/1000\n",
            "1/1 - 0s - loss: 0.2373 - accuracy: 0.9900 - 10ms/epoch - 10ms/step\n",
            "Epoch 92/1000\n",
            "1/1 - 0s - loss: 0.2293 - accuracy: 0.9900 - 11ms/epoch - 11ms/step\n",
            "Epoch 93/1000\n",
            "1/1 - 0s - loss: 0.2216 - accuracy: 0.9900 - 11ms/epoch - 11ms/step\n",
            "Epoch 94/1000\n",
            "1/1 - 0s - loss: 0.2141 - accuracy: 1.0000 - 15ms/epoch - 15ms/step\n",
            "Epoch 95/1000\n",
            "1/1 - 0s - loss: 0.2069 - accuracy: 1.0000 - 11ms/epoch - 11ms/step\n",
            "Epoch 96/1000\n",
            "1/1 - 0s - loss: 0.1999 - accuracy: 1.0000 - 10ms/epoch - 10ms/step\n",
            "Epoch 97/1000\n",
            "1/1 - 0s - loss: 0.1931 - accuracy: 1.0000 - 10ms/epoch - 10ms/step\n",
            "Epoch 98/1000\n",
            "1/1 - 0s - loss: 0.1866 - accuracy: 1.0000 - 11ms/epoch - 11ms/step\n",
            "Epoch 99/1000\n",
            "1/1 - 0s - loss: 0.1803 - accuracy: 1.0000 - 11ms/epoch - 11ms/step\n",
            "Epoch 100/1000\n",
            "1/1 - 0s - loss: 0.1743 - accuracy: 1.0000 - 12ms/epoch - 12ms/step\n",
            "Epoch 101/1000\n",
            "1/1 - 0s - loss: 0.1684 - accuracy: 1.0000 - 11ms/epoch - 11ms/step\n",
            "Epoch 102/1000\n",
            "1/1 - 0s - loss: 0.1628 - accuracy: 1.0000 - 12ms/epoch - 12ms/step\n",
            "Epoch 103/1000\n",
            "1/1 - 0s - loss: 0.1574 - accuracy: 1.0000 - 10ms/epoch - 10ms/step\n",
            "Epoch 104/1000\n",
            "1/1 - 0s - loss: 0.1521 - accuracy: 1.0000 - 10ms/epoch - 10ms/step\n",
            "Epoch 105/1000\n",
            "1/1 - 0s - loss: 0.1471 - accuracy: 1.0000 - 10ms/epoch - 10ms/step\n",
            "Epoch 106/1000\n",
            "1/1 - 0s - loss: 0.1423 - accuracy: 1.0000 - 12ms/epoch - 12ms/step\n",
            "Epoch 107/1000\n",
            "1/1 - 0s - loss: 0.1376 - accuracy: 1.0000 - 10ms/epoch - 10ms/step\n",
            "Epoch 108/1000\n",
            "1/1 - 0s - loss: 0.1331 - accuracy: 1.0000 - 11ms/epoch - 11ms/step\n",
            "Epoch 109/1000\n",
            "1/1 - 0s - loss: 0.1287 - accuracy: 1.0000 - 12ms/epoch - 12ms/step\n",
            "Epoch 110/1000\n",
            "1/1 - 0s - loss: 0.1246 - accuracy: 1.0000 - 12ms/epoch - 12ms/step\n",
            "Epoch 111/1000\n",
            "1/1 - 0s - loss: 0.1206 - accuracy: 1.0000 - 10ms/epoch - 10ms/step\n",
            "Epoch 112/1000\n",
            "1/1 - 0s - loss: 0.1167 - accuracy: 1.0000 - 11ms/epoch - 11ms/step\n",
            "Epoch 113/1000\n",
            "1/1 - 0s - loss: 0.1130 - accuracy: 1.0000 - 13ms/epoch - 13ms/step\n",
            "Epoch 114/1000\n",
            "1/1 - 0s - loss: 0.1095 - accuracy: 1.0000 - 10ms/epoch - 10ms/step\n",
            "Epoch 115/1000\n",
            "1/1 - 0s - loss: 0.1060 - accuracy: 1.0000 - 11ms/epoch - 11ms/step\n",
            "Epoch 116/1000\n",
            "1/1 - 0s - loss: 0.1027 - accuracy: 1.0000 - 11ms/epoch - 11ms/step\n",
            "Epoch 117/1000\n",
            "1/1 - 0s - loss: 0.0996 - accuracy: 1.0000 - 11ms/epoch - 11ms/step\n",
            "Epoch 118/1000\n",
            "1/1 - 0s - loss: 0.0965 - accuracy: 1.0000 - 12ms/epoch - 12ms/step\n",
            "Epoch 119/1000\n",
            "1/1 - 0s - loss: 0.0935 - accuracy: 1.0000 - 11ms/epoch - 11ms/step\n",
            "Epoch 120/1000\n",
            "1/1 - 0s - loss: 0.0907 - accuracy: 1.0000 - 11ms/epoch - 11ms/step\n",
            "Epoch 121/1000\n",
            "1/1 - 0s - loss: 0.0880 - accuracy: 1.0000 - 11ms/epoch - 11ms/step\n",
            "Epoch 122/1000\n",
            "1/1 - 0s - loss: 0.0854 - accuracy: 1.0000 - 11ms/epoch - 11ms/step\n",
            "Epoch 123/1000\n",
            "1/1 - 0s - loss: 0.0829 - accuracy: 1.0000 - 11ms/epoch - 11ms/step\n",
            "Epoch 124/1000\n",
            "1/1 - 0s - loss: 0.0805 - accuracy: 1.0000 - 11ms/epoch - 11ms/step\n",
            "Epoch 125/1000\n",
            "1/1 - 0s - loss: 0.0782 - accuracy: 1.0000 - 11ms/epoch - 11ms/step\n",
            "Epoch 126/1000\n",
            "1/1 - 0s - loss: 0.0760 - accuracy: 1.0000 - 11ms/epoch - 11ms/step\n",
            "Epoch 127/1000\n",
            "1/1 - 0s - loss: 0.0738 - accuracy: 1.0000 - 11ms/epoch - 11ms/step\n",
            "Epoch 128/1000\n",
            "1/1 - 0s - loss: 0.0718 - accuracy: 1.0000 - 10ms/epoch - 10ms/step\n",
            "Epoch 129/1000\n",
            "1/1 - 0s - loss: 0.0698 - accuracy: 1.0000 - 11ms/epoch - 11ms/step\n",
            "Epoch 130/1000\n",
            "1/1 - 0s - loss: 0.0679 - accuracy: 1.0000 - 11ms/epoch - 11ms/step\n",
            "Epoch 131/1000\n",
            "1/1 - 0s - loss: 0.0660 - accuracy: 1.0000 - 11ms/epoch - 11ms/step\n",
            "Epoch 132/1000\n",
            "1/1 - 0s - loss: 0.0642 - accuracy: 1.0000 - 11ms/epoch - 11ms/step\n",
            "Epoch 133/1000\n",
            "1/1 - 0s - loss: 0.0626 - accuracy: 1.0000 - 11ms/epoch - 11ms/step\n",
            "Epoch 134/1000\n",
            "1/1 - 0s - loss: 0.0609 - accuracy: 1.0000 - 11ms/epoch - 11ms/step\n",
            "Epoch 135/1000\n",
            "1/1 - 0s - loss: 0.0593 - accuracy: 1.0000 - 11ms/epoch - 11ms/step\n",
            "Epoch 136/1000\n",
            "1/1 - 0s - loss: 0.0578 - accuracy: 1.0000 - 11ms/epoch - 11ms/step\n",
            "Epoch 137/1000\n",
            "1/1 - 0s - loss: 0.0563 - accuracy: 1.0000 - 11ms/epoch - 11ms/step\n",
            "Epoch 138/1000\n",
            "1/1 - 0s - loss: 0.0549 - accuracy: 1.0000 - 11ms/epoch - 11ms/step\n",
            "Epoch 139/1000\n",
            "1/1 - 0s - loss: 0.0536 - accuracy: 1.0000 - 11ms/epoch - 11ms/step\n",
            "Epoch 140/1000\n",
            "1/1 - 0s - loss: 0.0522 - accuracy: 1.0000 - 10ms/epoch - 10ms/step\n",
            "Epoch 141/1000\n",
            "1/1 - 0s - loss: 0.0510 - accuracy: 1.0000 - 11ms/epoch - 11ms/step\n",
            "Epoch 142/1000\n",
            "1/1 - 0s - loss: 0.0498 - accuracy: 1.0000 - 11ms/epoch - 11ms/step\n",
            "Epoch 143/1000\n",
            "1/1 - 0s - loss: 0.0486 - accuracy: 1.0000 - 11ms/epoch - 11ms/step\n",
            "Epoch 144/1000\n",
            "1/1 - 0s - loss: 0.0474 - accuracy: 1.0000 - 11ms/epoch - 11ms/step\n",
            "Epoch 145/1000\n",
            "1/1 - 0s - loss: 0.0463 - accuracy: 1.0000 - 11ms/epoch - 11ms/step\n",
            "Epoch 146/1000\n",
            "1/1 - 0s - loss: 0.0453 - accuracy: 1.0000 - 11ms/epoch - 11ms/step\n",
            "Epoch 147/1000\n",
            "1/1 - 0s - loss: 0.0442 - accuracy: 1.0000 - 11ms/epoch - 11ms/step\n",
            "Epoch 148/1000\n",
            "1/1 - 0s - loss: 0.0432 - accuracy: 1.0000 - 13ms/epoch - 13ms/step\n",
            "Epoch 149/1000\n",
            "1/1 - 0s - loss: 0.0423 - accuracy: 1.0000 - 11ms/epoch - 11ms/step\n",
            "Epoch 150/1000\n",
            "1/1 - 0s - loss: 0.0414 - accuracy: 1.0000 - 11ms/epoch - 11ms/step\n",
            "Epoch 151/1000\n",
            "1/1 - 0s - loss: 0.0405 - accuracy: 1.0000 - 11ms/epoch - 11ms/step\n",
            "Epoch 152/1000\n",
            "1/1 - 0s - loss: 0.0396 - accuracy: 1.0000 - 11ms/epoch - 11ms/step\n",
            "Epoch 153/1000\n",
            "1/1 - 0s - loss: 0.0388 - accuracy: 1.0000 - 11ms/epoch - 11ms/step\n",
            "Epoch 154/1000\n",
            "1/1 - 0s - loss: 0.0379 - accuracy: 1.0000 - 10ms/epoch - 10ms/step\n",
            "Epoch 155/1000\n",
            "1/1 - 0s - loss: 0.0372 - accuracy: 1.0000 - 11ms/epoch - 11ms/step\n",
            "Epoch 156/1000\n",
            "1/1 - 0s - loss: 0.0364 - accuracy: 1.0000 - 11ms/epoch - 11ms/step\n",
            "Epoch 157/1000\n",
            "1/1 - 0s - loss: 0.0357 - accuracy: 1.0000 - 11ms/epoch - 11ms/step\n",
            "Epoch 158/1000\n",
            "1/1 - 0s - loss: 0.0350 - accuracy: 1.0000 - 11ms/epoch - 11ms/step\n",
            "Epoch 159/1000\n",
            "1/1 - 0s - loss: 0.0343 - accuracy: 1.0000 - 11ms/epoch - 11ms/step\n",
            "Epoch 160/1000\n",
            "1/1 - 0s - loss: 0.0336 - accuracy: 1.0000 - 11ms/epoch - 11ms/step\n",
            "Epoch 161/1000\n",
            "1/1 - 0s - loss: 0.0329 - accuracy: 1.0000 - 11ms/epoch - 11ms/step\n",
            "Epoch 162/1000\n",
            "1/1 - 0s - loss: 0.0323 - accuracy: 1.0000 - 11ms/epoch - 11ms/step\n",
            "Epoch 163/1000\n",
            "1/1 - 0s - loss: 0.0317 - accuracy: 1.0000 - 10ms/epoch - 10ms/step\n",
            "Epoch 164/1000\n",
            "1/1 - 0s - loss: 0.0311 - accuracy: 1.0000 - 11ms/epoch - 11ms/step\n",
            "Epoch 165/1000\n",
            "1/1 - 0s - loss: 0.0305 - accuracy: 1.0000 - 11ms/epoch - 11ms/step\n",
            "Epoch 166/1000\n",
            "1/1 - 0s - loss: 0.0300 - accuracy: 1.0000 - 12ms/epoch - 12ms/step\n",
            "Epoch 167/1000\n",
            "1/1 - 0s - loss: 0.0294 - accuracy: 1.0000 - 10ms/epoch - 10ms/step\n",
            "Epoch 168/1000\n",
            "1/1 - 0s - loss: 0.0289 - accuracy: 1.0000 - 11ms/epoch - 11ms/step\n",
            "Epoch 169/1000\n",
            "1/1 - 0s - loss: 0.0284 - accuracy: 1.0000 - 14ms/epoch - 14ms/step\n",
            "Epoch 170/1000\n",
            "1/1 - 0s - loss: 0.0279 - accuracy: 1.0000 - 13ms/epoch - 13ms/step\n",
            "Epoch 171/1000\n",
            "1/1 - 0s - loss: 0.0274 - accuracy: 1.0000 - 11ms/epoch - 11ms/step\n",
            "Epoch 172/1000\n",
            "1/1 - 0s - loss: 0.0269 - accuracy: 1.0000 - 11ms/epoch - 11ms/step\n",
            "Epoch 173/1000\n",
            "1/1 - 0s - loss: 0.0265 - accuracy: 1.0000 - 11ms/epoch - 11ms/step\n",
            "Epoch 174/1000\n",
            "1/1 - 0s - loss: 0.0260 - accuracy: 1.0000 - 11ms/epoch - 11ms/step\n",
            "Epoch 175/1000\n",
            "1/1 - 0s - loss: 0.0256 - accuracy: 1.0000 - 11ms/epoch - 11ms/step\n",
            "Epoch 176/1000\n",
            "1/1 - 0s - loss: 0.0252 - accuracy: 1.0000 - 11ms/epoch - 11ms/step\n",
            "Epoch 177/1000\n",
            "1/1 - 0s - loss: 0.0247 - accuracy: 1.0000 - 11ms/epoch - 11ms/step\n",
            "Epoch 178/1000\n",
            "1/1 - 0s - loss: 0.0244 - accuracy: 1.0000 - 11ms/epoch - 11ms/step\n",
            "Epoch 179/1000\n",
            "1/1 - 0s - loss: 0.0240 - accuracy: 1.0000 - 13ms/epoch - 13ms/step\n",
            "Epoch 180/1000\n",
            "1/1 - 0s - loss: 0.0236 - accuracy: 1.0000 - 12ms/epoch - 12ms/step\n",
            "Epoch 181/1000\n",
            "1/1 - 0s - loss: 0.0232 - accuracy: 1.0000 - 13ms/epoch - 13ms/step\n",
            "Epoch 182/1000\n",
            "1/1 - 0s - loss: 0.0228 - accuracy: 1.0000 - 14ms/epoch - 14ms/step\n",
            "Epoch 183/1000\n",
            "1/1 - 0s - loss: 0.0225 - accuracy: 1.0000 - 11ms/epoch - 11ms/step\n",
            "Epoch 184/1000\n",
            "1/1 - 0s - loss: 0.0221 - accuracy: 1.0000 - 14ms/epoch - 14ms/step\n",
            "Epoch 185/1000\n",
            "1/1 - 0s - loss: 0.0218 - accuracy: 1.0000 - 14ms/epoch - 14ms/step\n",
            "Epoch 186/1000\n",
            "1/1 - 0s - loss: 0.0215 - accuracy: 1.0000 - 12ms/epoch - 12ms/step\n",
            "Epoch 187/1000\n",
            "1/1 - 0s - loss: 0.0212 - accuracy: 1.0000 - 12ms/epoch - 12ms/step\n",
            "Epoch 188/1000\n",
            "1/1 - 0s - loss: 0.0208 - accuracy: 1.0000 - 12ms/epoch - 12ms/step\n",
            "Epoch 189/1000\n",
            "1/1 - 0s - loss: 0.0205 - accuracy: 1.0000 - 12ms/epoch - 12ms/step\n",
            "Epoch 190/1000\n",
            "1/1 - 0s - loss: 0.0202 - accuracy: 1.0000 - 12ms/epoch - 12ms/step\n",
            "Epoch 191/1000\n",
            "1/1 - 0s - loss: 0.0200 - accuracy: 1.0000 - 12ms/epoch - 12ms/step\n",
            "Epoch 192/1000\n",
            "1/1 - 0s - loss: 0.0197 - accuracy: 1.0000 - 11ms/epoch - 11ms/step\n",
            "Epoch 193/1000\n",
            "1/1 - 0s - loss: 0.0194 - accuracy: 1.0000 - 11ms/epoch - 11ms/step\n",
            "Epoch 194/1000\n",
            "1/1 - 0s - loss: 0.0191 - accuracy: 1.0000 - 11ms/epoch - 11ms/step\n",
            "Epoch 195/1000\n",
            "1/1 - 0s - loss: 0.0188 - accuracy: 1.0000 - 12ms/epoch - 12ms/step\n",
            "Epoch 196/1000\n",
            "1/1 - 0s - loss: 0.0186 - accuracy: 1.0000 - 11ms/epoch - 11ms/step\n",
            "Epoch 197/1000\n",
            "1/1 - 0s - loss: 0.0183 - accuracy: 1.0000 - 11ms/epoch - 11ms/step\n",
            "Epoch 198/1000\n",
            "1/1 - 0s - loss: 0.0181 - accuracy: 1.0000 - 11ms/epoch - 11ms/step\n",
            "Epoch 199/1000\n",
            "1/1 - 0s - loss: 0.0178 - accuracy: 1.0000 - 11ms/epoch - 11ms/step\n",
            "Epoch 200/1000\n",
            "1/1 - 0s - loss: 0.0176 - accuracy: 1.0000 - 11ms/epoch - 11ms/step\n",
            "Epoch 201/1000\n",
            "1/1 - 0s - loss: 0.0174 - accuracy: 1.0000 - 11ms/epoch - 11ms/step\n",
            "Epoch 202/1000\n",
            "1/1 - 0s - loss: 0.0171 - accuracy: 1.0000 - 10ms/epoch - 10ms/step\n",
            "Epoch 203/1000\n",
            "1/1 - 0s - loss: 0.0169 - accuracy: 1.0000 - 11ms/epoch - 11ms/step\n",
            "Epoch 204/1000\n",
            "1/1 - 0s - loss: 0.0167 - accuracy: 1.0000 - 11ms/epoch - 11ms/step\n",
            "Epoch 205/1000\n",
            "1/1 - 0s - loss: 0.0165 - accuracy: 1.0000 - 11ms/epoch - 11ms/step\n",
            "Epoch 206/1000\n",
            "1/1 - 0s - loss: 0.0163 - accuracy: 1.0000 - 11ms/epoch - 11ms/step\n",
            "Epoch 207/1000\n",
            "1/1 - 0s - loss: 0.0161 - accuracy: 1.0000 - 11ms/epoch - 11ms/step\n",
            "Epoch 208/1000\n",
            "1/1 - 0s - loss: 0.0158 - accuracy: 1.0000 - 11ms/epoch - 11ms/step\n",
            "Epoch 209/1000\n",
            "1/1 - 0s - loss: 0.0157 - accuracy: 1.0000 - 11ms/epoch - 11ms/step\n",
            "Epoch 210/1000\n",
            "1/1 - 0s - loss: 0.0155 - accuracy: 1.0000 - 11ms/epoch - 11ms/step\n",
            "Epoch 211/1000\n",
            "1/1 - 0s - loss: 0.0153 - accuracy: 1.0000 - 11ms/epoch - 11ms/step\n",
            "Epoch 212/1000\n",
            "1/1 - 0s - loss: 0.0151 - accuracy: 1.0000 - 11ms/epoch - 11ms/step\n",
            "Epoch 213/1000\n",
            "1/1 - 0s - loss: 0.0149 - accuracy: 1.0000 - 11ms/epoch - 11ms/step\n",
            "Epoch 214/1000\n",
            "1/1 - 0s - loss: 0.0147 - accuracy: 1.0000 - 11ms/epoch - 11ms/step\n",
            "Epoch 215/1000\n",
            "1/1 - 0s - loss: 0.0145 - accuracy: 1.0000 - 11ms/epoch - 11ms/step\n",
            "Epoch 216/1000\n",
            "1/1 - 0s - loss: 0.0144 - accuracy: 1.0000 - 10ms/epoch - 10ms/step\n",
            "Epoch 217/1000\n",
            "1/1 - 0s - loss: 0.0142 - accuracy: 1.0000 - 10ms/epoch - 10ms/step\n",
            "Epoch 218/1000\n",
            "1/1 - 0s - loss: 0.0140 - accuracy: 1.0000 - 10ms/epoch - 10ms/step\n",
            "Epoch 219/1000\n",
            "1/1 - 0s - loss: 0.0139 - accuracy: 1.0000 - 11ms/epoch - 11ms/step\n",
            "Epoch 220/1000\n",
            "1/1 - 0s - loss: 0.0137 - accuracy: 1.0000 - 10ms/epoch - 10ms/step\n",
            "Epoch 221/1000\n",
            "1/1 - 0s - loss: 0.0135 - accuracy: 1.0000 - 10ms/epoch - 10ms/step\n",
            "Epoch 222/1000\n",
            "1/1 - 0s - loss: 0.0134 - accuracy: 1.0000 - 10ms/epoch - 10ms/step\n",
            "Epoch 223/1000\n",
            "1/1 - 0s - loss: 0.0132 - accuracy: 1.0000 - 13ms/epoch - 13ms/step\n",
            "Epoch 224/1000\n",
            "1/1 - 0s - loss: 0.0131 - accuracy: 1.0000 - 11ms/epoch - 11ms/step\n",
            "Epoch 225/1000\n",
            "1/1 - 0s - loss: 0.0129 - accuracy: 1.0000 - 11ms/epoch - 11ms/step\n",
            "Epoch 226/1000\n",
            "1/1 - 0s - loss: 0.0128 - accuracy: 1.0000 - 11ms/epoch - 11ms/step\n",
            "Epoch 227/1000\n",
            "1/1 - 0s - loss: 0.0127 - accuracy: 1.0000 - 16ms/epoch - 16ms/step\n",
            "Epoch 228/1000\n",
            "1/1 - 0s - loss: 0.0125 - accuracy: 1.0000 - 11ms/epoch - 11ms/step\n",
            "Epoch 229/1000\n",
            "1/1 - 0s - loss: 0.0124 - accuracy: 1.0000 - 10ms/epoch - 10ms/step\n",
            "Epoch 230/1000\n",
            "1/1 - 0s - loss: 0.0123 - accuracy: 1.0000 - 11ms/epoch - 11ms/step\n",
            "Epoch 231/1000\n",
            "1/1 - 0s - loss: 0.0121 - accuracy: 1.0000 - 10ms/epoch - 10ms/step\n",
            "Epoch 232/1000\n",
            "1/1 - 0s - loss: 0.0120 - accuracy: 1.0000 - 10ms/epoch - 10ms/step\n",
            "Epoch 233/1000\n",
            "1/1 - 0s - loss: 0.0119 - accuracy: 1.0000 - 10ms/epoch - 10ms/step\n",
            "Epoch 234/1000\n",
            "1/1 - 0s - loss: 0.0117 - accuracy: 1.0000 - 10ms/epoch - 10ms/step\n",
            "Epoch 235/1000\n",
            "1/1 - 0s - loss: 0.0116 - accuracy: 1.0000 - 10ms/epoch - 10ms/step\n",
            "Epoch 236/1000\n",
            "1/1 - 0s - loss: 0.0115 - accuracy: 1.0000 - 11ms/epoch - 11ms/step\n",
            "Epoch 237/1000\n",
            "1/1 - 0s - loss: 0.0114 - accuracy: 1.0000 - 13ms/epoch - 13ms/step\n",
            "Epoch 238/1000\n",
            "1/1 - 0s - loss: 0.0113 - accuracy: 1.0000 - 10ms/epoch - 10ms/step\n",
            "Epoch 239/1000\n",
            "1/1 - 0s - loss: 0.0111 - accuracy: 1.0000 - 13ms/epoch - 13ms/step\n",
            "Epoch 240/1000\n",
            "1/1 - 0s - loss: 0.0110 - accuracy: 1.0000 - 11ms/epoch - 11ms/step\n",
            "Epoch 241/1000\n",
            "1/1 - 0s - loss: 0.0109 - accuracy: 1.0000 - 10ms/epoch - 10ms/step\n",
            "Epoch 242/1000\n",
            "1/1 - 0s - loss: 0.0108 - accuracy: 1.0000 - 12ms/epoch - 12ms/step\n",
            "Epoch 243/1000\n",
            "1/1 - 0s - loss: 0.0107 - accuracy: 1.0000 - 10ms/epoch - 10ms/step\n",
            "Epoch 244/1000\n",
            "1/1 - 0s - loss: 0.0106 - accuracy: 1.0000 - 11ms/epoch - 11ms/step\n",
            "Epoch 245/1000\n",
            "1/1 - 0s - loss: 0.0105 - accuracy: 1.0000 - 11ms/epoch - 11ms/step\n",
            "Epoch 246/1000\n",
            "1/1 - 0s - loss: 0.0104 - accuracy: 1.0000 - 11ms/epoch - 11ms/step\n",
            "Epoch 247/1000\n",
            "1/1 - 0s - loss: 0.0103 - accuracy: 1.0000 - 12ms/epoch - 12ms/step\n",
            "Epoch 248/1000\n",
            "1/1 - 0s - loss: 0.0102 - accuracy: 1.0000 - 12ms/epoch - 12ms/step\n",
            "Epoch 249/1000\n",
            "1/1 - 0s - loss: 0.0101 - accuracy: 1.0000 - 10ms/epoch - 10ms/step\n",
            "Epoch 250/1000\n",
            "1/1 - 0s - loss: 0.0100 - accuracy: 1.0000 - 11ms/epoch - 11ms/step\n",
            "Epoch 251/1000\n",
            "1/1 - 0s - loss: 0.0099 - accuracy: 1.0000 - 10ms/epoch - 10ms/step\n",
            "Epoch 252/1000\n",
            "1/1 - 0s - loss: 0.0098 - accuracy: 1.0000 - 12ms/epoch - 12ms/step\n",
            "Epoch 253/1000\n",
            "1/1 - 0s - loss: 0.0097 - accuracy: 1.0000 - 11ms/epoch - 11ms/step\n",
            "Epoch 254/1000\n",
            "1/1 - 0s - loss: 0.0096 - accuracy: 1.0000 - 11ms/epoch - 11ms/step\n",
            "Epoch 255/1000\n",
            "1/1 - 0s - loss: 0.0095 - accuracy: 1.0000 - 11ms/epoch - 11ms/step\n",
            "Epoch 256/1000\n",
            "1/1 - 0s - loss: 0.0094 - accuracy: 1.0000 - 12ms/epoch - 12ms/step\n",
            "Epoch 257/1000\n",
            "1/1 - 0s - loss: 0.0093 - accuracy: 1.0000 - 13ms/epoch - 13ms/step\n",
            "Epoch 258/1000\n",
            "1/1 - 0s - loss: 0.0093 - accuracy: 1.0000 - 12ms/epoch - 12ms/step\n",
            "Epoch 259/1000\n",
            "1/1 - 0s - loss: 0.0092 - accuracy: 1.0000 - 11ms/epoch - 11ms/step\n",
            "Epoch 260/1000\n",
            "1/1 - 0s - loss: 0.0091 - accuracy: 1.0000 - 11ms/epoch - 11ms/step\n",
            "Epoch 261/1000\n",
            "1/1 - 0s - loss: 0.0090 - accuracy: 1.0000 - 10ms/epoch - 10ms/step\n",
            "Epoch 262/1000\n",
            "1/1 - 0s - loss: 0.0089 - accuracy: 1.0000 - 14ms/epoch - 14ms/step\n",
            "Epoch 263/1000\n",
            "1/1 - 0s - loss: 0.0088 - accuracy: 1.0000 - 10ms/epoch - 10ms/step\n",
            "Epoch 264/1000\n",
            "1/1 - 0s - loss: 0.0088 - accuracy: 1.0000 - 11ms/epoch - 11ms/step\n",
            "Epoch 265/1000\n",
            "1/1 - 0s - loss: 0.0087 - accuracy: 1.0000 - 12ms/epoch - 12ms/step\n",
            "Epoch 266/1000\n",
            "1/1 - 0s - loss: 0.0086 - accuracy: 1.0000 - 11ms/epoch - 11ms/step\n",
            "Epoch 267/1000\n",
            "1/1 - 0s - loss: 0.0085 - accuracy: 1.0000 - 12ms/epoch - 12ms/step\n",
            "Epoch 268/1000\n",
            "1/1 - 0s - loss: 0.0085 - accuracy: 1.0000 - 12ms/epoch - 12ms/step\n",
            "Epoch 269/1000\n",
            "1/1 - 0s - loss: 0.0084 - accuracy: 1.0000 - 12ms/epoch - 12ms/step\n",
            "Epoch 270/1000\n",
            "1/1 - 0s - loss: 0.0083 - accuracy: 1.0000 - 10ms/epoch - 10ms/step\n",
            "Epoch 271/1000\n",
            "1/1 - 0s - loss: 0.0082 - accuracy: 1.0000 - 15ms/epoch - 15ms/step\n",
            "Epoch 272/1000\n",
            "1/1 - 0s - loss: 0.0082 - accuracy: 1.0000 - 10ms/epoch - 10ms/step\n",
            "Epoch 273/1000\n",
            "1/1 - 0s - loss: 0.0081 - accuracy: 1.0000 - 13ms/epoch - 13ms/step\n",
            "Epoch 274/1000\n",
            "1/1 - 0s - loss: 0.0080 - accuracy: 1.0000 - 11ms/epoch - 11ms/step\n",
            "Epoch 275/1000\n",
            "1/1 - 0s - loss: 0.0080 - accuracy: 1.0000 - 12ms/epoch - 12ms/step\n",
            "Epoch 276/1000\n",
            "1/1 - 0s - loss: 0.0079 - accuracy: 1.0000 - 12ms/epoch - 12ms/step\n",
            "Epoch 277/1000\n",
            "1/1 - 0s - loss: 0.0078 - accuracy: 1.0000 - 12ms/epoch - 12ms/step\n",
            "Epoch 278/1000\n",
            "1/1 - 0s - loss: 0.0078 - accuracy: 1.0000 - 11ms/epoch - 11ms/step\n",
            "Epoch 279/1000\n",
            "1/1 - 0s - loss: 0.0077 - accuracy: 1.0000 - 11ms/epoch - 11ms/step\n",
            "Epoch 280/1000\n",
            "1/1 - 0s - loss: 0.0076 - accuracy: 1.0000 - 11ms/epoch - 11ms/step\n",
            "Epoch 281/1000\n",
            "1/1 - 0s - loss: 0.0076 - accuracy: 1.0000 - 12ms/epoch - 12ms/step\n",
            "Epoch 282/1000\n",
            "1/1 - 0s - loss: 0.0075 - accuracy: 1.0000 - 13ms/epoch - 13ms/step\n",
            "Epoch 283/1000\n",
            "1/1 - 0s - loss: 0.0074 - accuracy: 1.0000 - 10ms/epoch - 10ms/step\n",
            "Epoch 284/1000\n",
            "1/1 - 0s - loss: 0.0074 - accuracy: 1.0000 - 15ms/epoch - 15ms/step\n",
            "Epoch 285/1000\n",
            "1/1 - 0s - loss: 0.0073 - accuracy: 1.0000 - 12ms/epoch - 12ms/step\n",
            "Epoch 286/1000\n",
            "1/1 - 0s - loss: 0.0073 - accuracy: 1.0000 - 11ms/epoch - 11ms/step\n",
            "Epoch 287/1000\n",
            "1/1 - 0s - loss: 0.0072 - accuracy: 1.0000 - 12ms/epoch - 12ms/step\n",
            "Epoch 288/1000\n",
            "1/1 - 0s - loss: 0.0072 - accuracy: 1.0000 - 10ms/epoch - 10ms/step\n",
            "Epoch 289/1000\n",
            "1/1 - 0s - loss: 0.0071 - accuracy: 1.0000 - 12ms/epoch - 12ms/step\n",
            "Epoch 290/1000\n",
            "1/1 - 0s - loss: 0.0070 - accuracy: 1.0000 - 10ms/epoch - 10ms/step\n",
            "Epoch 291/1000\n",
            "1/1 - 0s - loss: 0.0070 - accuracy: 1.0000 - 10ms/epoch - 10ms/step\n",
            "Epoch 292/1000\n",
            "1/1 - 0s - loss: 0.0069 - accuracy: 1.0000 - 10ms/epoch - 10ms/step\n",
            "Epoch 293/1000\n",
            "1/1 - 0s - loss: 0.0069 - accuracy: 1.0000 - 10ms/epoch - 10ms/step\n",
            "Epoch 294/1000\n",
            "1/1 - 0s - loss: 0.0068 - accuracy: 1.0000 - 11ms/epoch - 11ms/step\n",
            "Epoch 295/1000\n",
            "1/1 - 0s - loss: 0.0068 - accuracy: 1.0000 - 16ms/epoch - 16ms/step\n",
            "Epoch 296/1000\n",
            "1/1 - 0s - loss: 0.0067 - accuracy: 1.0000 - 12ms/epoch - 12ms/step\n",
            "Epoch 297/1000\n",
            "1/1 - 0s - loss: 0.0067 - accuracy: 1.0000 - 12ms/epoch - 12ms/step\n",
            "Epoch 298/1000\n",
            "1/1 - 0s - loss: 0.0066 - accuracy: 1.0000 - 10ms/epoch - 10ms/step\n",
            "Epoch 299/1000\n",
            "1/1 - 0s - loss: 0.0066 - accuracy: 1.0000 - 11ms/epoch - 11ms/step\n",
            "Epoch 300/1000\n",
            "1/1 - 0s - loss: 0.0065 - accuracy: 1.0000 - 13ms/epoch - 13ms/step\n",
            "Epoch 301/1000\n",
            "1/1 - 0s - loss: 0.0065 - accuracy: 1.0000 - 13ms/epoch - 13ms/step\n",
            "Epoch 302/1000\n",
            "1/1 - 0s - loss: 0.0064 - accuracy: 1.0000 - 13ms/epoch - 13ms/step\n",
            "Epoch 303/1000\n",
            "1/1 - 0s - loss: 0.0064 - accuracy: 1.0000 - 10ms/epoch - 10ms/step\n",
            "Epoch 304/1000\n",
            "1/1 - 0s - loss: 0.0063 - accuracy: 1.0000 - 11ms/epoch - 11ms/step\n",
            "Epoch 305/1000\n",
            "1/1 - 0s - loss: 0.0063 - accuracy: 1.0000 - 11ms/epoch - 11ms/step\n",
            "Epoch 306/1000\n",
            "1/1 - 0s - loss: 0.0062 - accuracy: 1.0000 - 10ms/epoch - 10ms/step\n",
            "Epoch 307/1000\n",
            "1/1 - 0s - loss: 0.0062 - accuracy: 1.0000 - 10ms/epoch - 10ms/step\n",
            "Epoch 308/1000\n",
            "1/1 - 0s - loss: 0.0061 - accuracy: 1.0000 - 11ms/epoch - 11ms/step\n",
            "Epoch 309/1000\n",
            "1/1 - 0s - loss: 0.0061 - accuracy: 1.0000 - 11ms/epoch - 11ms/step\n",
            "Epoch 310/1000\n",
            "1/1 - 0s - loss: 0.0060 - accuracy: 1.0000 - 11ms/epoch - 11ms/step\n",
            "Epoch 311/1000\n",
            "1/1 - 0s - loss: 0.0060 - accuracy: 1.0000 - 10ms/epoch - 10ms/step\n",
            "Epoch 312/1000\n",
            "1/1 - 0s - loss: 0.0060 - accuracy: 1.0000 - 11ms/epoch - 11ms/step\n",
            "Epoch 313/1000\n",
            "1/1 - 0s - loss: 0.0059 - accuracy: 1.0000 - 10ms/epoch - 10ms/step\n",
            "Epoch 314/1000\n",
            "1/1 - 0s - loss: 0.0059 - accuracy: 1.0000 - 13ms/epoch - 13ms/step\n",
            "Epoch 315/1000\n",
            "1/1 - 0s - loss: 0.0058 - accuracy: 1.0000 - 9ms/epoch - 9ms/step\n",
            "Epoch 316/1000\n",
            "1/1 - 0s - loss: 0.0058 - accuracy: 1.0000 - 10ms/epoch - 10ms/step\n",
            "Epoch 317/1000\n",
            "1/1 - 0s - loss: 0.0058 - accuracy: 1.0000 - 11ms/epoch - 11ms/step\n",
            "Epoch 318/1000\n",
            "1/1 - 0s - loss: 0.0057 - accuracy: 1.0000 - 10ms/epoch - 10ms/step\n",
            "Epoch 319/1000\n",
            "1/1 - 0s - loss: 0.0057 - accuracy: 1.0000 - 11ms/epoch - 11ms/step\n",
            "Epoch 320/1000\n",
            "1/1 - 0s - loss: 0.0056 - accuracy: 1.0000 - 12ms/epoch - 12ms/step\n",
            "Epoch 321/1000\n",
            "1/1 - 0s - loss: 0.0056 - accuracy: 1.0000 - 11ms/epoch - 11ms/step\n",
            "Epoch 322/1000\n",
            "1/1 - 0s - loss: 0.0056 - accuracy: 1.0000 - 10ms/epoch - 10ms/step\n",
            "Epoch 323/1000\n",
            "1/1 - 0s - loss: 0.0055 - accuracy: 1.0000 - 11ms/epoch - 11ms/step\n",
            "Epoch 324/1000\n",
            "1/1 - 0s - loss: 0.0055 - accuracy: 1.0000 - 13ms/epoch - 13ms/step\n",
            "Epoch 325/1000\n",
            "1/1 - 0s - loss: 0.0054 - accuracy: 1.0000 - 11ms/epoch - 11ms/step\n",
            "Epoch 326/1000\n",
            "1/1 - 0s - loss: 0.0054 - accuracy: 1.0000 - 11ms/epoch - 11ms/step\n",
            "Epoch 327/1000\n",
            "1/1 - 0s - loss: 0.0054 - accuracy: 1.0000 - 10ms/epoch - 10ms/step\n",
            "Epoch 328/1000\n",
            "1/1 - 0s - loss: 0.0053 - accuracy: 1.0000 - 11ms/epoch - 11ms/step\n",
            "Epoch 329/1000\n",
            "1/1 - 0s - loss: 0.0053 - accuracy: 1.0000 - 10ms/epoch - 10ms/step\n",
            "Epoch 330/1000\n",
            "1/1 - 0s - loss: 0.0053 - accuracy: 1.0000 - 9ms/epoch - 9ms/step\n",
            "Epoch 331/1000\n",
            "1/1 - 0s - loss: 0.0052 - accuracy: 1.0000 - 10ms/epoch - 10ms/step\n",
            "Epoch 332/1000\n",
            "1/1 - 0s - loss: 0.0052 - accuracy: 1.0000 - 11ms/epoch - 11ms/step\n",
            "Epoch 333/1000\n",
            "1/1 - 0s - loss: 0.0052 - accuracy: 1.0000 - 10ms/epoch - 10ms/step\n",
            "Epoch 334/1000\n",
            "1/1 - 0s - loss: 0.0051 - accuracy: 1.0000 - 10ms/epoch - 10ms/step\n",
            "Epoch 335/1000\n",
            "1/1 - 0s - loss: 0.0051 - accuracy: 1.0000 - 10ms/epoch - 10ms/step\n",
            "Epoch 336/1000\n",
            "1/1 - 0s - loss: 0.0051 - accuracy: 1.0000 - 10ms/epoch - 10ms/step\n",
            "Epoch 337/1000\n",
            "1/1 - 0s - loss: 0.0050 - accuracy: 1.0000 - 10ms/epoch - 10ms/step\n",
            "Epoch 338/1000\n",
            "1/1 - 0s - loss: 0.0050 - accuracy: 1.0000 - 11ms/epoch - 11ms/step\n",
            "Epoch 339/1000\n",
            "1/1 - 0s - loss: 0.0050 - accuracy: 1.0000 - 10ms/epoch - 10ms/step\n",
            "Epoch 340/1000\n",
            "1/1 - 0s - loss: 0.0049 - accuracy: 1.0000 - 10ms/epoch - 10ms/step\n",
            "Epoch 341/1000\n",
            "1/1 - 0s - loss: 0.0049 - accuracy: 1.0000 - 10ms/epoch - 10ms/step\n",
            "Epoch 342/1000\n",
            "1/1 - 0s - loss: 0.0049 - accuracy: 1.0000 - 11ms/epoch - 11ms/step\n",
            "Epoch 343/1000\n",
            "1/1 - 0s - loss: 0.0048 - accuracy: 1.0000 - 10ms/epoch - 10ms/step\n",
            "Epoch 344/1000\n",
            "1/1 - 0s - loss: 0.0048 - accuracy: 1.0000 - 13ms/epoch - 13ms/step\n",
            "Epoch 345/1000\n",
            "1/1 - 0s - loss: 0.0048 - accuracy: 1.0000 - 10ms/epoch - 10ms/step\n",
            "Epoch 346/1000\n",
            "1/1 - 0s - loss: 0.0047 - accuracy: 1.0000 - 13ms/epoch - 13ms/step\n",
            "Epoch 347/1000\n",
            "1/1 - 0s - loss: 0.0047 - accuracy: 1.0000 - 10ms/epoch - 10ms/step\n",
            "Epoch 348/1000\n",
            "1/1 - 0s - loss: 0.0047 - accuracy: 1.0000 - 11ms/epoch - 11ms/step\n",
            "Epoch 349/1000\n",
            "1/1 - 0s - loss: 0.0046 - accuracy: 1.0000 - 11ms/epoch - 11ms/step\n",
            "Epoch 350/1000\n",
            "1/1 - 0s - loss: 0.0046 - accuracy: 1.0000 - 12ms/epoch - 12ms/step\n",
            "Epoch 351/1000\n",
            "1/1 - 0s - loss: 0.0046 - accuracy: 1.0000 - 10ms/epoch - 10ms/step\n",
            "Epoch 352/1000\n",
            "1/1 - 0s - loss: 0.0046 - accuracy: 1.0000 - 10ms/epoch - 10ms/step\n",
            "Epoch 353/1000\n",
            "1/1 - 0s - loss: 0.0045 - accuracy: 1.0000 - 10ms/epoch - 10ms/step\n",
            "Epoch 354/1000\n",
            "1/1 - 0s - loss: 0.0045 - accuracy: 1.0000 - 9ms/epoch - 9ms/step\n",
            "Epoch 355/1000\n",
            "1/1 - 0s - loss: 0.0045 - accuracy: 1.0000 - 10ms/epoch - 10ms/step\n",
            "Epoch 356/1000\n",
            "1/1 - 0s - loss: 0.0044 - accuracy: 1.0000 - 11ms/epoch - 11ms/step\n",
            "Epoch 357/1000\n",
            "1/1 - 0s - loss: 0.0044 - accuracy: 1.0000 - 10ms/epoch - 10ms/step\n",
            "Epoch 358/1000\n",
            "1/1 - 0s - loss: 0.0044 - accuracy: 1.0000 - 11ms/epoch - 11ms/step\n",
            "Epoch 359/1000\n",
            "1/1 - 0s - loss: 0.0044 - accuracy: 1.0000 - 14ms/epoch - 14ms/step\n",
            "Epoch 360/1000\n",
            "1/1 - 0s - loss: 0.0043 - accuracy: 1.0000 - 10ms/epoch - 10ms/step\n",
            "Epoch 361/1000\n",
            "1/1 - 0s - loss: 0.0043 - accuracy: 1.0000 - 11ms/epoch - 11ms/step\n",
            "Epoch 362/1000\n",
            "1/1 - 0s - loss: 0.0043 - accuracy: 1.0000 - 11ms/epoch - 11ms/step\n",
            "Epoch 363/1000\n",
            "1/1 - 0s - loss: 0.0043 - accuracy: 1.0000 - 11ms/epoch - 11ms/step\n",
            "Epoch 364/1000\n",
            "1/1 - 0s - loss: 0.0042 - accuracy: 1.0000 - 10ms/epoch - 10ms/step\n",
            "Epoch 365/1000\n",
            "1/1 - 0s - loss: 0.0042 - accuracy: 1.0000 - 10ms/epoch - 10ms/step\n",
            "Epoch 366/1000\n",
            "1/1 - 0s - loss: 0.0042 - accuracy: 1.0000 - 13ms/epoch - 13ms/step\n",
            "Epoch 367/1000\n",
            "1/1 - 0s - loss: 0.0042 - accuracy: 1.0000 - 9ms/epoch - 9ms/step\n",
            "Epoch 368/1000\n",
            "1/1 - 0s - loss: 0.0041 - accuracy: 1.0000 - 11ms/epoch - 11ms/step\n",
            "Epoch 369/1000\n",
            "1/1 - 0s - loss: 0.0041 - accuracy: 1.0000 - 11ms/epoch - 11ms/step\n",
            "Epoch 370/1000\n",
            "1/1 - 0s - loss: 0.0041 - accuracy: 1.0000 - 10ms/epoch - 10ms/step\n",
            "Epoch 371/1000\n",
            "1/1 - 0s - loss: 0.0041 - accuracy: 1.0000 - 11ms/epoch - 11ms/step\n",
            "Epoch 372/1000\n",
            "1/1 - 0s - loss: 0.0040 - accuracy: 1.0000 - 11ms/epoch - 11ms/step\n",
            "Epoch 373/1000\n",
            "1/1 - 0s - loss: 0.0040 - accuracy: 1.0000 - 11ms/epoch - 11ms/step\n",
            "Epoch 374/1000\n",
            "1/1 - 0s - loss: 0.0040 - accuracy: 1.0000 - 11ms/epoch - 11ms/step\n",
            "Epoch 375/1000\n",
            "1/1 - 0s - loss: 0.0040 - accuracy: 1.0000 - 11ms/epoch - 11ms/step\n",
            "Epoch 376/1000\n",
            "1/1 - 0s - loss: 0.0040 - accuracy: 1.0000 - 12ms/epoch - 12ms/step\n",
            "Epoch 377/1000\n",
            "1/1 - 0s - loss: 0.0039 - accuracy: 1.0000 - 12ms/epoch - 12ms/step\n",
            "Epoch 378/1000\n",
            "1/1 - 0s - loss: 0.0039 - accuracy: 1.0000 - 11ms/epoch - 11ms/step\n",
            "Epoch 379/1000\n",
            "1/1 - 0s - loss: 0.0039 - accuracy: 1.0000 - 14ms/epoch - 14ms/step\n",
            "Epoch 380/1000\n",
            "1/1 - 0s - loss: 0.0039 - accuracy: 1.0000 - 11ms/epoch - 11ms/step\n",
            "Epoch 381/1000\n",
            "1/1 - 0s - loss: 0.0038 - accuracy: 1.0000 - 11ms/epoch - 11ms/step\n",
            "Epoch 382/1000\n",
            "1/1 - 0s - loss: 0.0038 - accuracy: 1.0000 - 11ms/epoch - 11ms/step\n",
            "Epoch 383/1000\n",
            "1/1 - 0s - loss: 0.0038 - accuracy: 1.0000 - 10ms/epoch - 10ms/step\n",
            "Epoch 384/1000\n",
            "1/1 - 0s - loss: 0.0038 - accuracy: 1.0000 - 11ms/epoch - 11ms/step\n",
            "Epoch 385/1000\n",
            "1/1 - 0s - loss: 0.0038 - accuracy: 1.0000 - 10ms/epoch - 10ms/step\n",
            "Epoch 386/1000\n",
            "1/1 - 0s - loss: 0.0037 - accuracy: 1.0000 - 10ms/epoch - 10ms/step\n",
            "Epoch 387/1000\n",
            "1/1 - 0s - loss: 0.0037 - accuracy: 1.0000 - 11ms/epoch - 11ms/step\n",
            "Epoch 388/1000\n",
            "1/1 - 0s - loss: 0.0037 - accuracy: 1.0000 - 10ms/epoch - 10ms/step\n",
            "Epoch 389/1000\n",
            "1/1 - 0s - loss: 0.0037 - accuracy: 1.0000 - 11ms/epoch - 11ms/step\n",
            "Epoch 390/1000\n",
            "1/1 - 0s - loss: 0.0037 - accuracy: 1.0000 - 14ms/epoch - 14ms/step\n",
            "Epoch 391/1000\n",
            "1/1 - 0s - loss: 0.0036 - accuracy: 1.0000 - 11ms/epoch - 11ms/step\n",
            "Epoch 392/1000\n",
            "1/1 - 0s - loss: 0.0036 - accuracy: 1.0000 - 11ms/epoch - 11ms/step\n",
            "Epoch 393/1000\n",
            "1/1 - 0s - loss: 0.0036 - accuracy: 1.0000 - 11ms/epoch - 11ms/step\n",
            "Epoch 394/1000\n",
            "1/1 - 0s - loss: 0.0036 - accuracy: 1.0000 - 11ms/epoch - 11ms/step\n",
            "Epoch 395/1000\n",
            "1/1 - 0s - loss: 0.0036 - accuracy: 1.0000 - 10ms/epoch - 10ms/step\n",
            "Epoch 396/1000\n",
            "1/1 - 0s - loss: 0.0035 - accuracy: 1.0000 - 11ms/epoch - 11ms/step\n",
            "Epoch 397/1000\n",
            "1/1 - 0s - loss: 0.0035 - accuracy: 1.0000 - 12ms/epoch - 12ms/step\n",
            "Epoch 398/1000\n",
            "1/1 - 0s - loss: 0.0035 - accuracy: 1.0000 - 10ms/epoch - 10ms/step\n",
            "Epoch 399/1000\n",
            "1/1 - 0s - loss: 0.0035 - accuracy: 1.0000 - 10ms/epoch - 10ms/step\n",
            "Epoch 400/1000\n",
            "1/1 - 0s - loss: 0.0035 - accuracy: 1.0000 - 10ms/epoch - 10ms/step\n",
            "Epoch 401/1000\n",
            "1/1 - 0s - loss: 0.0034 - accuracy: 1.0000 - 10ms/epoch - 10ms/step\n",
            "Epoch 402/1000\n",
            "1/1 - 0s - loss: 0.0034 - accuracy: 1.0000 - 11ms/epoch - 11ms/step\n",
            "Epoch 403/1000\n",
            "1/1 - 0s - loss: 0.0034 - accuracy: 1.0000 - 10ms/epoch - 10ms/step\n",
            "Epoch 404/1000\n",
            "1/1 - 0s - loss: 0.0034 - accuracy: 1.0000 - 13ms/epoch - 13ms/step\n",
            "Epoch 405/1000\n",
            "1/1 - 0s - loss: 0.0034 - accuracy: 1.0000 - 10ms/epoch - 10ms/step\n",
            "Epoch 406/1000\n",
            "1/1 - 0s - loss: 0.0033 - accuracy: 1.0000 - 10ms/epoch - 10ms/step\n",
            "Epoch 407/1000\n",
            "1/1 - 0s - loss: 0.0033 - accuracy: 1.0000 - 10ms/epoch - 10ms/step\n",
            "Epoch 408/1000\n",
            "1/1 - 0s - loss: 0.0033 - accuracy: 1.0000 - 11ms/epoch - 11ms/step\n",
            "Epoch 409/1000\n",
            "1/1 - 0s - loss: 0.0033 - accuracy: 1.0000 - 11ms/epoch - 11ms/step\n",
            "Epoch 410/1000\n",
            "1/1 - 0s - loss: 0.0033 - accuracy: 1.0000 - 12ms/epoch - 12ms/step\n",
            "Epoch 411/1000\n",
            "1/1 - 0s - loss: 0.0033 - accuracy: 1.0000 - 11ms/epoch - 11ms/step\n",
            "Epoch 412/1000\n",
            "1/1 - 0s - loss: 0.0032 - accuracy: 1.0000 - 11ms/epoch - 11ms/step\n",
            "Epoch 413/1000\n",
            "1/1 - 0s - loss: 0.0032 - accuracy: 1.0000 - 12ms/epoch - 12ms/step\n",
            "Epoch 414/1000\n",
            "1/1 - 0s - loss: 0.0032 - accuracy: 1.0000 - 12ms/epoch - 12ms/step\n",
            "Epoch 415/1000\n",
            "1/1 - 0s - loss: 0.0032 - accuracy: 1.0000 - 11ms/epoch - 11ms/step\n",
            "Epoch 416/1000\n",
            "1/1 - 0s - loss: 0.0032 - accuracy: 1.0000 - 11ms/epoch - 11ms/step\n",
            "Epoch 417/1000\n",
            "1/1 - 0s - loss: 0.0032 - accuracy: 1.0000 - 12ms/epoch - 12ms/step\n",
            "Epoch 418/1000\n",
            "1/1 - 0s - loss: 0.0031 - accuracy: 1.0000 - 10ms/epoch - 10ms/step\n",
            "Epoch 419/1000\n",
            "1/1 - 0s - loss: 0.0031 - accuracy: 1.0000 - 11ms/epoch - 11ms/step\n",
            "Epoch 420/1000\n",
            "1/1 - 0s - loss: 0.0031 - accuracy: 1.0000 - 10ms/epoch - 10ms/step\n",
            "Epoch 421/1000\n",
            "1/1 - 0s - loss: 0.0031 - accuracy: 1.0000 - 12ms/epoch - 12ms/step\n",
            "Epoch 422/1000\n",
            "1/1 - 0s - loss: 0.0031 - accuracy: 1.0000 - 11ms/epoch - 11ms/step\n",
            "Epoch 423/1000\n",
            "1/1 - 0s - loss: 0.0031 - accuracy: 1.0000 - 11ms/epoch - 11ms/step\n",
            "Epoch 424/1000\n",
            "1/1 - 0s - loss: 0.0031 - accuracy: 1.0000 - 10ms/epoch - 10ms/step\n",
            "Epoch 425/1000\n",
            "1/1 - 0s - loss: 0.0030 - accuracy: 1.0000 - 12ms/epoch - 12ms/step\n",
            "Epoch 426/1000\n",
            "1/1 - 0s - loss: 0.0030 - accuracy: 1.0000 - 10ms/epoch - 10ms/step\n",
            "Epoch 427/1000\n",
            "1/1 - 0s - loss: 0.0030 - accuracy: 1.0000 - 10ms/epoch - 10ms/step\n",
            "Epoch 428/1000\n",
            "1/1 - 0s - loss: 0.0030 - accuracy: 1.0000 - 11ms/epoch - 11ms/step\n",
            "Epoch 429/1000\n",
            "1/1 - 0s - loss: 0.0030 - accuracy: 1.0000 - 12ms/epoch - 12ms/step\n",
            "Epoch 430/1000\n",
            "1/1 - 0s - loss: 0.0030 - accuracy: 1.0000 - 10ms/epoch - 10ms/step\n",
            "Epoch 431/1000\n",
            "1/1 - 0s - loss: 0.0029 - accuracy: 1.0000 - 11ms/epoch - 11ms/step\n",
            "Epoch 432/1000\n",
            "1/1 - 0s - loss: 0.0029 - accuracy: 1.0000 - 11ms/epoch - 11ms/step\n",
            "Epoch 433/1000\n",
            "1/1 - 0s - loss: 0.0029 - accuracy: 1.0000 - 11ms/epoch - 11ms/step\n",
            "Epoch 434/1000\n",
            "1/1 - 0s - loss: 0.0029 - accuracy: 1.0000 - 12ms/epoch - 12ms/step\n",
            "Epoch 435/1000\n",
            "1/1 - 0s - loss: 0.0029 - accuracy: 1.0000 - 10ms/epoch - 10ms/step\n",
            "Epoch 436/1000\n",
            "1/1 - 0s - loss: 0.0029 - accuracy: 1.0000 - 11ms/epoch - 11ms/step\n",
            "Epoch 437/1000\n",
            "1/1 - 0s - loss: 0.0029 - accuracy: 1.0000 - 10ms/epoch - 10ms/step\n",
            "Epoch 438/1000\n",
            "1/1 - 0s - loss: 0.0028 - accuracy: 1.0000 - 10ms/epoch - 10ms/step\n",
            "Epoch 439/1000\n",
            "1/1 - 0s - loss: 0.0028 - accuracy: 1.0000 - 11ms/epoch - 11ms/step\n",
            "Epoch 440/1000\n",
            "1/1 - 0s - loss: 0.0028 - accuracy: 1.0000 - 13ms/epoch - 13ms/step\n",
            "Epoch 441/1000\n",
            "1/1 - 0s - loss: 0.0028 - accuracy: 1.0000 - 15ms/epoch - 15ms/step\n",
            "Epoch 442/1000\n",
            "1/1 - 0s - loss: 0.0028 - accuracy: 1.0000 - 12ms/epoch - 12ms/step\n",
            "Epoch 443/1000\n",
            "1/1 - 0s - loss: 0.0028 - accuracy: 1.0000 - 11ms/epoch - 11ms/step\n",
            "Epoch 444/1000\n",
            "1/1 - 0s - loss: 0.0028 - accuracy: 1.0000 - 10ms/epoch - 10ms/step\n",
            "Epoch 445/1000\n",
            "1/1 - 0s - loss: 0.0028 - accuracy: 1.0000 - 12ms/epoch - 12ms/step\n",
            "Epoch 446/1000\n",
            "1/1 - 0s - loss: 0.0027 - accuracy: 1.0000 - 13ms/epoch - 13ms/step\n",
            "Epoch 447/1000\n",
            "1/1 - 0s - loss: 0.0027 - accuracy: 1.0000 - 11ms/epoch - 11ms/step\n",
            "Epoch 448/1000\n",
            "1/1 - 0s - loss: 0.0027 - accuracy: 1.0000 - 13ms/epoch - 13ms/step\n",
            "Epoch 449/1000\n",
            "1/1 - 0s - loss: 0.0027 - accuracy: 1.0000 - 12ms/epoch - 12ms/step\n",
            "Epoch 450/1000\n",
            "1/1 - 0s - loss: 0.0027 - accuracy: 1.0000 - 11ms/epoch - 11ms/step\n",
            "Epoch 451/1000\n",
            "1/1 - 0s - loss: 0.0027 - accuracy: 1.0000 - 11ms/epoch - 11ms/step\n",
            "Epoch 452/1000\n",
            "1/1 - 0s - loss: 0.0027 - accuracy: 1.0000 - 12ms/epoch - 12ms/step\n",
            "Epoch 453/1000\n",
            "1/1 - 0s - loss: 0.0027 - accuracy: 1.0000 - 10ms/epoch - 10ms/step\n",
            "Epoch 454/1000\n",
            "1/1 - 0s - loss: 0.0026 - accuracy: 1.0000 - 15ms/epoch - 15ms/step\n",
            "Epoch 455/1000\n",
            "1/1 - 0s - loss: 0.0026 - accuracy: 1.0000 - 11ms/epoch - 11ms/step\n",
            "Epoch 456/1000\n",
            "1/1 - 0s - loss: 0.0026 - accuracy: 1.0000 - 11ms/epoch - 11ms/step\n",
            "Epoch 457/1000\n",
            "1/1 - 0s - loss: 0.0026 - accuracy: 1.0000 - 12ms/epoch - 12ms/step\n",
            "Epoch 458/1000\n",
            "1/1 - 0s - loss: 0.0026 - accuracy: 1.0000 - 11ms/epoch - 11ms/step\n",
            "Epoch 459/1000\n",
            "1/1 - 0s - loss: 0.0026 - accuracy: 1.0000 - 12ms/epoch - 12ms/step\n",
            "Epoch 460/1000\n",
            "1/1 - 0s - loss: 0.0026 - accuracy: 1.0000 - 11ms/epoch - 11ms/step\n",
            "Epoch 461/1000\n",
            "1/1 - 0s - loss: 0.0026 - accuracy: 1.0000 - 12ms/epoch - 12ms/step\n",
            "Epoch 462/1000\n",
            "1/1 - 0s - loss: 0.0025 - accuracy: 1.0000 - 11ms/epoch - 11ms/step\n",
            "Epoch 463/1000\n",
            "1/1 - 0s - loss: 0.0025 - accuracy: 1.0000 - 11ms/epoch - 11ms/step\n",
            "Epoch 464/1000\n",
            "1/1 - 0s - loss: 0.0025 - accuracy: 1.0000 - 10ms/epoch - 10ms/step\n",
            "Epoch 465/1000\n",
            "1/1 - 0s - loss: 0.0025 - accuracy: 1.0000 - 11ms/epoch - 11ms/step\n",
            "Epoch 466/1000\n",
            "1/1 - 0s - loss: 0.0025 - accuracy: 1.0000 - 11ms/epoch - 11ms/step\n",
            "Epoch 467/1000\n",
            "1/1 - 0s - loss: 0.0025 - accuracy: 1.0000 - 13ms/epoch - 13ms/step\n",
            "Epoch 468/1000\n",
            "1/1 - 0s - loss: 0.0025 - accuracy: 1.0000 - 13ms/epoch - 13ms/step\n",
            "Epoch 469/1000\n",
            "1/1 - 0s - loss: 0.0025 - accuracy: 1.0000 - 11ms/epoch - 11ms/step\n",
            "Epoch 470/1000\n",
            "1/1 - 0s - loss: 0.0025 - accuracy: 1.0000 - 11ms/epoch - 11ms/step\n",
            "Epoch 471/1000\n",
            "1/1 - 0s - loss: 0.0024 - accuracy: 1.0000 - 12ms/epoch - 12ms/step\n",
            "Epoch 472/1000\n",
            "1/1 - 0s - loss: 0.0024 - accuracy: 1.0000 - 11ms/epoch - 11ms/step\n",
            "Epoch 473/1000\n",
            "1/1 - 0s - loss: 0.0024 - accuracy: 1.0000 - 11ms/epoch - 11ms/step\n",
            "Epoch 474/1000\n",
            "1/1 - 0s - loss: 0.0024 - accuracy: 1.0000 - 12ms/epoch - 12ms/step\n",
            "Epoch 475/1000\n",
            "1/1 - 0s - loss: 0.0024 - accuracy: 1.0000 - 11ms/epoch - 11ms/step\n",
            "Epoch 476/1000\n",
            "1/1 - 0s - loss: 0.0024 - accuracy: 1.0000 - 11ms/epoch - 11ms/step\n",
            "Epoch 477/1000\n",
            "1/1 - 0s - loss: 0.0024 - accuracy: 1.0000 - 11ms/epoch - 11ms/step\n",
            "Epoch 478/1000\n",
            "1/1 - 0s - loss: 0.0024 - accuracy: 1.0000 - 11ms/epoch - 11ms/step\n",
            "Epoch 479/1000\n",
            "1/1 - 0s - loss: 0.0024 - accuracy: 1.0000 - 11ms/epoch - 11ms/step\n",
            "Epoch 480/1000\n",
            "1/1 - 0s - loss: 0.0023 - accuracy: 1.0000 - 11ms/epoch - 11ms/step\n",
            "Epoch 481/1000\n",
            "1/1 - 0s - loss: 0.0023 - accuracy: 1.0000 - 13ms/epoch - 13ms/step\n",
            "Epoch 482/1000\n",
            "1/1 - 0s - loss: 0.0023 - accuracy: 1.0000 - 11ms/epoch - 11ms/step\n",
            "Epoch 483/1000\n",
            "1/1 - 0s - loss: 0.0023 - accuracy: 1.0000 - 10ms/epoch - 10ms/step\n",
            "Epoch 484/1000\n",
            "1/1 - 0s - loss: 0.0023 - accuracy: 1.0000 - 10ms/epoch - 10ms/step\n",
            "Epoch 485/1000\n",
            "1/1 - 0s - loss: 0.0023 - accuracy: 1.0000 - 12ms/epoch - 12ms/step\n",
            "Epoch 486/1000\n",
            "1/1 - 0s - loss: 0.0023 - accuracy: 1.0000 - 10ms/epoch - 10ms/step\n",
            "Epoch 487/1000\n",
            "1/1 - 0s - loss: 0.0023 - accuracy: 1.0000 - 11ms/epoch - 11ms/step\n",
            "Epoch 488/1000\n",
            "1/1 - 0s - loss: 0.0023 - accuracy: 1.0000 - 11ms/epoch - 11ms/step\n",
            "Epoch 489/1000\n",
            "1/1 - 0s - loss: 0.0023 - accuracy: 1.0000 - 11ms/epoch - 11ms/step\n",
            "Epoch 490/1000\n",
            "1/1 - 0s - loss: 0.0022 - accuracy: 1.0000 - 11ms/epoch - 11ms/step\n",
            "Epoch 491/1000\n",
            "1/1 - 0s - loss: 0.0022 - accuracy: 1.0000 - 16ms/epoch - 16ms/step\n",
            "Epoch 492/1000\n",
            "1/1 - 0s - loss: 0.0022 - accuracy: 1.0000 - 11ms/epoch - 11ms/step\n",
            "Epoch 493/1000\n",
            "1/1 - 0s - loss: 0.0022 - accuracy: 1.0000 - 11ms/epoch - 11ms/step\n",
            "Epoch 494/1000\n",
            "1/1 - 0s - loss: 0.0022 - accuracy: 1.0000 - 12ms/epoch - 12ms/step\n",
            "Epoch 495/1000\n",
            "1/1 - 0s - loss: 0.0022 - accuracy: 1.0000 - 11ms/epoch - 11ms/step\n",
            "Epoch 496/1000\n",
            "1/1 - 0s - loss: 0.0022 - accuracy: 1.0000 - 11ms/epoch - 11ms/step\n",
            "Epoch 497/1000\n",
            "1/1 - 0s - loss: 0.0022 - accuracy: 1.0000 - 11ms/epoch - 11ms/step\n",
            "Epoch 498/1000\n",
            "1/1 - 0s - loss: 0.0022 - accuracy: 1.0000 - 11ms/epoch - 11ms/step\n",
            "Epoch 499/1000\n",
            "1/1 - 0s - loss: 0.0022 - accuracy: 1.0000 - 11ms/epoch - 11ms/step\n",
            "Epoch 500/1000\n",
            "1/1 - 0s - loss: 0.0022 - accuracy: 1.0000 - 11ms/epoch - 11ms/step\n",
            "Epoch 501/1000\n",
            "1/1 - 0s - loss: 0.0021 - accuracy: 1.0000 - 11ms/epoch - 11ms/step\n",
            "Epoch 502/1000\n",
            "1/1 - 0s - loss: 0.0021 - accuracy: 1.0000 - 11ms/epoch - 11ms/step\n",
            "Epoch 503/1000\n",
            "1/1 - 0s - loss: 0.0021 - accuracy: 1.0000 - 11ms/epoch - 11ms/step\n",
            "Epoch 504/1000\n",
            "1/1 - 0s - loss: 0.0021 - accuracy: 1.0000 - 12ms/epoch - 12ms/step\n",
            "Epoch 505/1000\n",
            "1/1 - 0s - loss: 0.0021 - accuracy: 1.0000 - 10ms/epoch - 10ms/step\n",
            "Epoch 506/1000\n",
            "1/1 - 0s - loss: 0.0021 - accuracy: 1.0000 - 10ms/epoch - 10ms/step\n",
            "Epoch 507/1000\n",
            "1/1 - 0s - loss: 0.0021 - accuracy: 1.0000 - 12ms/epoch - 12ms/step\n",
            "Epoch 508/1000\n",
            "1/1 - 0s - loss: 0.0021 - accuracy: 1.0000 - 10ms/epoch - 10ms/step\n",
            "Epoch 509/1000\n",
            "1/1 - 0s - loss: 0.0021 - accuracy: 1.0000 - 11ms/epoch - 11ms/step\n",
            "Epoch 510/1000\n",
            "1/1 - 0s - loss: 0.0021 - accuracy: 1.0000 - 9ms/epoch - 9ms/step\n",
            "Epoch 511/1000\n",
            "1/1 - 0s - loss: 0.0021 - accuracy: 1.0000 - 10ms/epoch - 10ms/step\n",
            "Epoch 512/1000\n",
            "1/1 - 0s - loss: 0.0021 - accuracy: 1.0000 - 9ms/epoch - 9ms/step\n",
            "Epoch 513/1000\n",
            "1/1 - 0s - loss: 0.0020 - accuracy: 1.0000 - 10ms/epoch - 10ms/step\n",
            "Epoch 514/1000\n",
            "1/1 - 0s - loss: 0.0020 - accuracy: 1.0000 - 10ms/epoch - 10ms/step\n",
            "Epoch 515/1000\n",
            "1/1 - 0s - loss: 0.0020 - accuracy: 1.0000 - 9ms/epoch - 9ms/step\n",
            "Epoch 516/1000\n",
            "1/1 - 0s - loss: 0.0020 - accuracy: 1.0000 - 11ms/epoch - 11ms/step\n",
            "Epoch 517/1000\n",
            "1/1 - 0s - loss: 0.0020 - accuracy: 1.0000 - 11ms/epoch - 11ms/step\n",
            "Epoch 518/1000\n",
            "1/1 - 0s - loss: 0.0020 - accuracy: 1.0000 - 11ms/epoch - 11ms/step\n",
            "Epoch 519/1000\n",
            "1/1 - 0s - loss: 0.0020 - accuracy: 1.0000 - 11ms/epoch - 11ms/step\n",
            "Epoch 520/1000\n",
            "1/1 - 0s - loss: 0.0020 - accuracy: 1.0000 - 11ms/epoch - 11ms/step\n",
            "Epoch 521/1000\n",
            "1/1 - 0s - loss: 0.0020 - accuracy: 1.0000 - 11ms/epoch - 11ms/step\n",
            "Epoch 522/1000\n",
            "1/1 - 0s - loss: 0.0020 - accuracy: 1.0000 - 11ms/epoch - 11ms/step\n",
            "Epoch 523/1000\n",
            "1/1 - 0s - loss: 0.0020 - accuracy: 1.0000 - 11ms/epoch - 11ms/step\n",
            "Epoch 524/1000\n",
            "1/1 - 0s - loss: 0.0020 - accuracy: 1.0000 - 11ms/epoch - 11ms/step\n",
            "Epoch 525/1000\n",
            "1/1 - 0s - loss: 0.0019 - accuracy: 1.0000 - 9ms/epoch - 9ms/step\n",
            "Epoch 526/1000\n",
            "1/1 - 0s - loss: 0.0019 - accuracy: 1.0000 - 10ms/epoch - 10ms/step\n",
            "Epoch 527/1000\n",
            "1/1 - 0s - loss: 0.0019 - accuracy: 1.0000 - 9ms/epoch - 9ms/step\n",
            "Epoch 528/1000\n",
            "1/1 - 0s - loss: 0.0019 - accuracy: 1.0000 - 10ms/epoch - 10ms/step\n",
            "Epoch 529/1000\n",
            "1/1 - 0s - loss: 0.0019 - accuracy: 1.0000 - 10ms/epoch - 10ms/step\n",
            "Epoch 530/1000\n",
            "1/1 - 0s - loss: 0.0019 - accuracy: 1.0000 - 10ms/epoch - 10ms/step\n",
            "Epoch 531/1000\n",
            "1/1 - 0s - loss: 0.0019 - accuracy: 1.0000 - 10ms/epoch - 10ms/step\n",
            "Epoch 532/1000\n",
            "1/1 - 0s - loss: 0.0019 - accuracy: 1.0000 - 10ms/epoch - 10ms/step\n",
            "Epoch 533/1000\n",
            "1/1 - 0s - loss: 0.0019 - accuracy: 1.0000 - 10ms/epoch - 10ms/step\n",
            "Epoch 534/1000\n",
            "1/1 - 0s - loss: 0.0019 - accuracy: 1.0000 - 11ms/epoch - 11ms/step\n",
            "Epoch 535/1000\n",
            "1/1 - 0s - loss: 0.0019 - accuracy: 1.0000 - 12ms/epoch - 12ms/step\n",
            "Epoch 536/1000\n",
            "1/1 - 0s - loss: 0.0019 - accuracy: 1.0000 - 10ms/epoch - 10ms/step\n",
            "Epoch 537/1000\n",
            "1/1 - 0s - loss: 0.0019 - accuracy: 1.0000 - 11ms/epoch - 11ms/step\n",
            "Epoch 538/1000\n",
            "1/1 - 0s - loss: 0.0019 - accuracy: 1.0000 - 10ms/epoch - 10ms/step\n",
            "Epoch 539/1000\n",
            "1/1 - 0s - loss: 0.0018 - accuracy: 1.0000 - 11ms/epoch - 11ms/step\n",
            "Epoch 540/1000\n",
            "1/1 - 0s - loss: 0.0018 - accuracy: 1.0000 - 11ms/epoch - 11ms/step\n",
            "Epoch 541/1000\n",
            "1/1 - 0s - loss: 0.0018 - accuracy: 1.0000 - 11ms/epoch - 11ms/step\n",
            "Epoch 542/1000\n",
            "1/1 - 0s - loss: 0.0018 - accuracy: 1.0000 - 13ms/epoch - 13ms/step\n",
            "Epoch 543/1000\n",
            "1/1 - 0s - loss: 0.0018 - accuracy: 1.0000 - 12ms/epoch - 12ms/step\n",
            "Epoch 544/1000\n",
            "1/1 - 0s - loss: 0.0018 - accuracy: 1.0000 - 14ms/epoch - 14ms/step\n",
            "Epoch 545/1000\n",
            "1/1 - 0s - loss: 0.0018 - accuracy: 1.0000 - 11ms/epoch - 11ms/step\n",
            "Epoch 546/1000\n",
            "1/1 - 0s - loss: 0.0018 - accuracy: 1.0000 - 12ms/epoch - 12ms/step\n",
            "Epoch 547/1000\n",
            "1/1 - 0s - loss: 0.0018 - accuracy: 1.0000 - 11ms/epoch - 11ms/step\n",
            "Epoch 548/1000\n",
            "1/1 - 0s - loss: 0.0018 - accuracy: 1.0000 - 12ms/epoch - 12ms/step\n",
            "Epoch 549/1000\n",
            "1/1 - 0s - loss: 0.0018 - accuracy: 1.0000 - 11ms/epoch - 11ms/step\n",
            "Epoch 550/1000\n",
            "1/1 - 0s - loss: 0.0018 - accuracy: 1.0000 - 11ms/epoch - 11ms/step\n",
            "Epoch 551/1000\n",
            "1/1 - 0s - loss: 0.0018 - accuracy: 1.0000 - 13ms/epoch - 13ms/step\n",
            "Epoch 552/1000\n",
            "1/1 - 0s - loss: 0.0018 - accuracy: 1.0000 - 13ms/epoch - 13ms/step\n",
            "Epoch 553/1000\n",
            "1/1 - 0s - loss: 0.0017 - accuracy: 1.0000 - 11ms/epoch - 11ms/step\n",
            "Epoch 554/1000\n",
            "1/1 - 0s - loss: 0.0017 - accuracy: 1.0000 - 10ms/epoch - 10ms/step\n",
            "Epoch 555/1000\n",
            "1/1 - 0s - loss: 0.0017 - accuracy: 1.0000 - 11ms/epoch - 11ms/step\n",
            "Epoch 556/1000\n",
            "1/1 - 0s - loss: 0.0017 - accuracy: 1.0000 - 11ms/epoch - 11ms/step\n",
            "Epoch 557/1000\n",
            "1/1 - 0s - loss: 0.0017 - accuracy: 1.0000 - 14ms/epoch - 14ms/step\n",
            "Epoch 558/1000\n",
            "1/1 - 0s - loss: 0.0017 - accuracy: 1.0000 - 11ms/epoch - 11ms/step\n",
            "Epoch 559/1000\n",
            "1/1 - 0s - loss: 0.0017 - accuracy: 1.0000 - 10ms/epoch - 10ms/step\n",
            "Epoch 560/1000\n",
            "1/1 - 0s - loss: 0.0017 - accuracy: 1.0000 - 11ms/epoch - 11ms/step\n",
            "Epoch 561/1000\n",
            "1/1 - 0s - loss: 0.0017 - accuracy: 1.0000 - 10ms/epoch - 10ms/step\n",
            "Epoch 562/1000\n",
            "1/1 - 0s - loss: 0.0017 - accuracy: 1.0000 - 12ms/epoch - 12ms/step\n",
            "Epoch 563/1000\n",
            "1/1 - 0s - loss: 0.0017 - accuracy: 1.0000 - 11ms/epoch - 11ms/step\n",
            "Epoch 564/1000\n",
            "1/1 - 0s - loss: 0.0017 - accuracy: 1.0000 - 11ms/epoch - 11ms/step\n",
            "Epoch 565/1000\n",
            "1/1 - 0s - loss: 0.0017 - accuracy: 1.0000 - 11ms/epoch - 11ms/step\n",
            "Epoch 566/1000\n",
            "1/1 - 0s - loss: 0.0017 - accuracy: 1.0000 - 14ms/epoch - 14ms/step\n",
            "Epoch 567/1000\n",
            "1/1 - 0s - loss: 0.0017 - accuracy: 1.0000 - 13ms/epoch - 13ms/step\n",
            "Epoch 568/1000\n",
            "1/1 - 0s - loss: 0.0017 - accuracy: 1.0000 - 10ms/epoch - 10ms/step\n",
            "Epoch 569/1000\n",
            "1/1 - 0s - loss: 0.0016 - accuracy: 1.0000 - 11ms/epoch - 11ms/step\n",
            "Epoch 570/1000\n",
            "1/1 - 0s - loss: 0.0016 - accuracy: 1.0000 - 11ms/epoch - 11ms/step\n",
            "Epoch 571/1000\n",
            "1/1 - 0s - loss: 0.0016 - accuracy: 1.0000 - 10ms/epoch - 10ms/step\n",
            "Epoch 572/1000\n",
            "1/1 - 0s - loss: 0.0016 - accuracy: 1.0000 - 9ms/epoch - 9ms/step\n",
            "Epoch 573/1000\n",
            "1/1 - 0s - loss: 0.0016 - accuracy: 1.0000 - 11ms/epoch - 11ms/step\n",
            "Epoch 574/1000\n",
            "1/1 - 0s - loss: 0.0016 - accuracy: 1.0000 - 11ms/epoch - 11ms/step\n",
            "Epoch 575/1000\n",
            "1/1 - 0s - loss: 0.0016 - accuracy: 1.0000 - 11ms/epoch - 11ms/step\n",
            "Epoch 576/1000\n",
            "1/1 - 0s - loss: 0.0016 - accuracy: 1.0000 - 9ms/epoch - 9ms/step\n",
            "Epoch 577/1000\n",
            "1/1 - 0s - loss: 0.0016 - accuracy: 1.0000 - 10ms/epoch - 10ms/step\n",
            "Epoch 578/1000\n",
            "1/1 - 0s - loss: 0.0016 - accuracy: 1.0000 - 10ms/epoch - 10ms/step\n",
            "Epoch 579/1000\n",
            "1/1 - 0s - loss: 0.0016 - accuracy: 1.0000 - 10ms/epoch - 10ms/step\n",
            "Epoch 580/1000\n",
            "1/1 - 0s - loss: 0.0016 - accuracy: 1.0000 - 11ms/epoch - 11ms/step\n",
            "Epoch 581/1000\n",
            "1/1 - 0s - loss: 0.0016 - accuracy: 1.0000 - 10ms/epoch - 10ms/step\n",
            "Epoch 582/1000\n",
            "1/1 - 0s - loss: 0.0016 - accuracy: 1.0000 - 11ms/epoch - 11ms/step\n",
            "Epoch 583/1000\n",
            "1/1 - 0s - loss: 0.0016 - accuracy: 1.0000 - 11ms/epoch - 11ms/step\n",
            "Epoch 584/1000\n",
            "1/1 - 0s - loss: 0.0016 - accuracy: 1.0000 - 11ms/epoch - 11ms/step\n",
            "Epoch 585/1000\n",
            "1/1 - 0s - loss: 0.0016 - accuracy: 1.0000 - 11ms/epoch - 11ms/step\n",
            "Epoch 586/1000\n",
            "1/1 - 0s - loss: 0.0016 - accuracy: 1.0000 - 12ms/epoch - 12ms/step\n",
            "Epoch 587/1000\n",
            "1/1 - 0s - loss: 0.0015 - accuracy: 1.0000 - 11ms/epoch - 11ms/step\n",
            "Epoch 588/1000\n",
            "1/1 - 0s - loss: 0.0015 - accuracy: 1.0000 - 10ms/epoch - 10ms/step\n",
            "Epoch 589/1000\n",
            "1/1 - 0s - loss: 0.0015 - accuracy: 1.0000 - 11ms/epoch - 11ms/step\n",
            "Epoch 590/1000\n",
            "1/1 - 0s - loss: 0.0015 - accuracy: 1.0000 - 11ms/epoch - 11ms/step\n",
            "Epoch 591/1000\n",
            "1/1 - 0s - loss: 0.0015 - accuracy: 1.0000 - 11ms/epoch - 11ms/step\n",
            "Epoch 592/1000\n",
            "1/1 - 0s - loss: 0.0015 - accuracy: 1.0000 - 10ms/epoch - 10ms/step\n",
            "Epoch 593/1000\n",
            "1/1 - 0s - loss: 0.0015 - accuracy: 1.0000 - 11ms/epoch - 11ms/step\n",
            "Epoch 594/1000\n",
            "1/1 - 0s - loss: 0.0015 - accuracy: 1.0000 - 11ms/epoch - 11ms/step\n",
            "Epoch 595/1000\n",
            "1/1 - 0s - loss: 0.0015 - accuracy: 1.0000 - 11ms/epoch - 11ms/step\n",
            "Epoch 596/1000\n",
            "1/1 - 0s - loss: 0.0015 - accuracy: 1.0000 - 12ms/epoch - 12ms/step\n",
            "Epoch 597/1000\n",
            "1/1 - 0s - loss: 0.0015 - accuracy: 1.0000 - 10ms/epoch - 10ms/step\n",
            "Epoch 598/1000\n",
            "1/1 - 0s - loss: 0.0015 - accuracy: 1.0000 - 10ms/epoch - 10ms/step\n",
            "Epoch 599/1000\n",
            "1/1 - 0s - loss: 0.0015 - accuracy: 1.0000 - 19ms/epoch - 19ms/step\n",
            "Epoch 600/1000\n",
            "1/1 - 0s - loss: 0.0015 - accuracy: 1.0000 - 10ms/epoch - 10ms/step\n",
            "Epoch 601/1000\n",
            "1/1 - 0s - loss: 0.0015 - accuracy: 1.0000 - 11ms/epoch - 11ms/step\n",
            "Epoch 602/1000\n",
            "1/1 - 0s - loss: 0.0015 - accuracy: 1.0000 - 11ms/epoch - 11ms/step\n",
            "Epoch 603/1000\n",
            "1/1 - 0s - loss: 0.0015 - accuracy: 1.0000 - 11ms/epoch - 11ms/step\n",
            "Epoch 604/1000\n",
            "1/1 - 0s - loss: 0.0015 - accuracy: 1.0000 - 10ms/epoch - 10ms/step\n",
            "Epoch 605/1000\n",
            "1/1 - 0s - loss: 0.0015 - accuracy: 1.0000 - 10ms/epoch - 10ms/step\n",
            "Epoch 606/1000\n",
            "1/1 - 0s - loss: 0.0014 - accuracy: 1.0000 - 12ms/epoch - 12ms/step\n",
            "Epoch 607/1000\n",
            "1/1 - 0s - loss: 0.0014 - accuracy: 1.0000 - 11ms/epoch - 11ms/step\n",
            "Epoch 608/1000\n",
            "1/1 - 0s - loss: 0.0014 - accuracy: 1.0000 - 10ms/epoch - 10ms/step\n",
            "Epoch 609/1000\n",
            "1/1 - 0s - loss: 0.0014 - accuracy: 1.0000 - 10ms/epoch - 10ms/step\n",
            "Epoch 610/1000\n",
            "1/1 - 0s - loss: 0.0014 - accuracy: 1.0000 - 10ms/epoch - 10ms/step\n",
            "Epoch 611/1000\n",
            "1/1 - 0s - loss: 0.0014 - accuracy: 1.0000 - 13ms/epoch - 13ms/step\n",
            "Epoch 612/1000\n",
            "1/1 - 0s - loss: 0.0014 - accuracy: 1.0000 - 11ms/epoch - 11ms/step\n",
            "Epoch 613/1000\n",
            "1/1 - 0s - loss: 0.0014 - accuracy: 1.0000 - 12ms/epoch - 12ms/step\n",
            "Epoch 614/1000\n",
            "1/1 - 0s - loss: 0.0014 - accuracy: 1.0000 - 11ms/epoch - 11ms/step\n",
            "Epoch 615/1000\n",
            "1/1 - 0s - loss: 0.0014 - accuracy: 1.0000 - 13ms/epoch - 13ms/step\n",
            "Epoch 616/1000\n",
            "1/1 - 0s - loss: 0.0014 - accuracy: 1.0000 - 10ms/epoch - 10ms/step\n",
            "Epoch 617/1000\n",
            "1/1 - 0s - loss: 0.0014 - accuracy: 1.0000 - 12ms/epoch - 12ms/step\n",
            "Epoch 618/1000\n",
            "1/1 - 0s - loss: 0.0014 - accuracy: 1.0000 - 11ms/epoch - 11ms/step\n",
            "Epoch 619/1000\n",
            "1/1 - 0s - loss: 0.0014 - accuracy: 1.0000 - 11ms/epoch - 11ms/step\n",
            "Epoch 620/1000\n",
            "1/1 - 0s - loss: 0.0014 - accuracy: 1.0000 - 11ms/epoch - 11ms/step\n",
            "Epoch 621/1000\n",
            "1/1 - 0s - loss: 0.0014 - accuracy: 1.0000 - 10ms/epoch - 10ms/step\n",
            "Epoch 622/1000\n",
            "1/1 - 0s - loss: 0.0014 - accuracy: 1.0000 - 11ms/epoch - 11ms/step\n",
            "Epoch 623/1000\n",
            "1/1 - 0s - loss: 0.0014 - accuracy: 1.0000 - 11ms/epoch - 11ms/step\n",
            "Epoch 624/1000\n",
            "1/1 - 0s - loss: 0.0014 - accuracy: 1.0000 - 11ms/epoch - 11ms/step\n",
            "Epoch 625/1000\n",
            "1/1 - 0s - loss: 0.0014 - accuracy: 1.0000 - 11ms/epoch - 11ms/step\n",
            "Epoch 626/1000\n",
            "1/1 - 0s - loss: 0.0014 - accuracy: 1.0000 - 12ms/epoch - 12ms/step\n",
            "Epoch 627/1000\n",
            "1/1 - 0s - loss: 0.0013 - accuracy: 1.0000 - 11ms/epoch - 11ms/step\n",
            "Epoch 628/1000\n",
            "1/1 - 0s - loss: 0.0013 - accuracy: 1.0000 - 9ms/epoch - 9ms/step\n",
            "Epoch 629/1000\n",
            "1/1 - 0s - loss: 0.0013 - accuracy: 1.0000 - 12ms/epoch - 12ms/step\n",
            "Epoch 630/1000\n",
            "1/1 - 0s - loss: 0.0013 - accuracy: 1.0000 - 10ms/epoch - 10ms/step\n",
            "Epoch 631/1000\n",
            "1/1 - 0s - loss: 0.0013 - accuracy: 1.0000 - 10ms/epoch - 10ms/step\n",
            "Epoch 632/1000\n",
            "1/1 - 0s - loss: 0.0013 - accuracy: 1.0000 - 10ms/epoch - 10ms/step\n",
            "Epoch 633/1000\n",
            "1/1 - 0s - loss: 0.0013 - accuracy: 1.0000 - 11ms/epoch - 11ms/step\n",
            "Epoch 634/1000\n",
            "1/1 - 0s - loss: 0.0013 - accuracy: 1.0000 - 10ms/epoch - 10ms/step\n",
            "Epoch 635/1000\n",
            "1/1 - 0s - loss: 0.0013 - accuracy: 1.0000 - 10ms/epoch - 10ms/step\n",
            "Epoch 636/1000\n",
            "1/1 - 0s - loss: 0.0013 - accuracy: 1.0000 - 9ms/epoch - 9ms/step\n",
            "Epoch 637/1000\n",
            "1/1 - 0s - loss: 0.0013 - accuracy: 1.0000 - 10ms/epoch - 10ms/step\n",
            "Epoch 638/1000\n",
            "1/1 - 0s - loss: 0.0013 - accuracy: 1.0000 - 9ms/epoch - 9ms/step\n",
            "Epoch 639/1000\n",
            "1/1 - 0s - loss: 0.0013 - accuracy: 1.0000 - 11ms/epoch - 11ms/step\n",
            "Epoch 640/1000\n",
            "1/1 - 0s - loss: 0.0013 - accuracy: 1.0000 - 10ms/epoch - 10ms/step\n",
            "Epoch 641/1000\n",
            "1/1 - 0s - loss: 0.0013 - accuracy: 1.0000 - 11ms/epoch - 11ms/step\n",
            "Epoch 642/1000\n",
            "1/1 - 0s - loss: 0.0013 - accuracy: 1.0000 - 11ms/epoch - 11ms/step\n",
            "Epoch 643/1000\n",
            "1/1 - 0s - loss: 0.0013 - accuracy: 1.0000 - 9ms/epoch - 9ms/step\n",
            "Epoch 644/1000\n",
            "1/1 - 0s - loss: 0.0013 - accuracy: 1.0000 - 9ms/epoch - 9ms/step\n",
            "Epoch 645/1000\n",
            "1/1 - 0s - loss: 0.0013 - accuracy: 1.0000 - 9ms/epoch - 9ms/step\n",
            "Epoch 646/1000\n",
            "1/1 - 0s - loss: 0.0013 - accuracy: 1.0000 - 9ms/epoch - 9ms/step\n",
            "Epoch 647/1000\n",
            "1/1 - 0s - loss: 0.0013 - accuracy: 1.0000 - 9ms/epoch - 9ms/step\n",
            "Epoch 648/1000\n",
            "1/1 - 0s - loss: 0.0013 - accuracy: 1.0000 - 9ms/epoch - 9ms/step\n",
            "Epoch 649/1000\n",
            "1/1 - 0s - loss: 0.0013 - accuracy: 1.0000 - 9ms/epoch - 9ms/step\n",
            "Epoch 650/1000\n",
            "1/1 - 0s - loss: 0.0013 - accuracy: 1.0000 - 9ms/epoch - 9ms/step\n",
            "Epoch 651/1000\n",
            "1/1 - 0s - loss: 0.0012 - accuracy: 1.0000 - 9ms/epoch - 9ms/step\n",
            "Epoch 652/1000\n",
            "1/1 - 0s - loss: 0.0012 - accuracy: 1.0000 - 9ms/epoch - 9ms/step\n",
            "Epoch 653/1000\n",
            "1/1 - 0s - loss: 0.0012 - accuracy: 1.0000 - 9ms/epoch - 9ms/step\n",
            "Epoch 654/1000\n",
            "1/1 - 0s - loss: 0.0012 - accuracy: 1.0000 - 11ms/epoch - 11ms/step\n",
            "Epoch 655/1000\n",
            "1/1 - 0s - loss: 0.0012 - accuracy: 1.0000 - 9ms/epoch - 9ms/step\n",
            "Epoch 656/1000\n",
            "1/1 - 0s - loss: 0.0012 - accuracy: 1.0000 - 10ms/epoch - 10ms/step\n",
            "Epoch 657/1000\n",
            "1/1 - 0s - loss: 0.0012 - accuracy: 1.0000 - 11ms/epoch - 11ms/step\n",
            "Epoch 658/1000\n",
            "1/1 - 0s - loss: 0.0012 - accuracy: 1.0000 - 11ms/epoch - 11ms/step\n",
            "Epoch 659/1000\n",
            "1/1 - 0s - loss: 0.0012 - accuracy: 1.0000 - 10ms/epoch - 10ms/step\n",
            "Epoch 660/1000\n",
            "1/1 - 0s - loss: 0.0012 - accuracy: 1.0000 - 10ms/epoch - 10ms/step\n",
            "Epoch 661/1000\n",
            "1/1 - 0s - loss: 0.0012 - accuracy: 1.0000 - 12ms/epoch - 12ms/step\n",
            "Epoch 662/1000\n",
            "1/1 - 0s - loss: 0.0012 - accuracy: 1.0000 - 11ms/epoch - 11ms/step\n",
            "Epoch 663/1000\n",
            "1/1 - 0s - loss: 0.0012 - accuracy: 1.0000 - 10ms/epoch - 10ms/step\n",
            "Epoch 664/1000\n",
            "1/1 - 0s - loss: 0.0012 - accuracy: 1.0000 - 11ms/epoch - 11ms/step\n",
            "Epoch 665/1000\n",
            "1/1 - 0s - loss: 0.0012 - accuracy: 1.0000 - 14ms/epoch - 14ms/step\n",
            "Epoch 666/1000\n",
            "1/1 - 0s - loss: 0.0012 - accuracy: 1.0000 - 11ms/epoch - 11ms/step\n",
            "Epoch 667/1000\n",
            "1/1 - 0s - loss: 0.0012 - accuracy: 1.0000 - 9ms/epoch - 9ms/step\n",
            "Epoch 668/1000\n",
            "1/1 - 0s - loss: 0.0012 - accuracy: 1.0000 - 13ms/epoch - 13ms/step\n",
            "Epoch 669/1000\n",
            "1/1 - 0s - loss: 0.0012 - accuracy: 1.0000 - 12ms/epoch - 12ms/step\n",
            "Epoch 670/1000\n",
            "1/1 - 0s - loss: 0.0012 - accuracy: 1.0000 - 9ms/epoch - 9ms/step\n",
            "Epoch 671/1000\n",
            "1/1 - 0s - loss: 0.0012 - accuracy: 1.0000 - 11ms/epoch - 11ms/step\n",
            "Epoch 672/1000\n",
            "1/1 - 0s - loss: 0.0012 - accuracy: 1.0000 - 12ms/epoch - 12ms/step\n",
            "Epoch 673/1000\n",
            "1/1 - 0s - loss: 0.0012 - accuracy: 1.0000 - 11ms/epoch - 11ms/step\n",
            "Epoch 674/1000\n",
            "1/1 - 0s - loss: 0.0012 - accuracy: 1.0000 - 11ms/epoch - 11ms/step\n",
            "Epoch 675/1000\n",
            "1/1 - 0s - loss: 0.0012 - accuracy: 1.0000 - 12ms/epoch - 12ms/step\n",
            "Epoch 676/1000\n",
            "1/1 - 0s - loss: 0.0012 - accuracy: 1.0000 - 10ms/epoch - 10ms/step\n",
            "Epoch 677/1000\n",
            "1/1 - 0s - loss: 0.0012 - accuracy: 1.0000 - 10ms/epoch - 10ms/step\n",
            "Epoch 678/1000\n",
            "1/1 - 0s - loss: 0.0011 - accuracy: 1.0000 - 9ms/epoch - 9ms/step\n",
            "Epoch 679/1000\n",
            "1/1 - 0s - loss: 0.0011 - accuracy: 1.0000 - 9ms/epoch - 9ms/step\n",
            "Epoch 680/1000\n",
            "1/1 - 0s - loss: 0.0011 - accuracy: 1.0000 - 10ms/epoch - 10ms/step\n",
            "Epoch 681/1000\n",
            "1/1 - 0s - loss: 0.0011 - accuracy: 1.0000 - 10ms/epoch - 10ms/step\n",
            "Epoch 682/1000\n",
            "1/1 - 0s - loss: 0.0011 - accuracy: 1.0000 - 9ms/epoch - 9ms/step\n",
            "Epoch 683/1000\n",
            "1/1 - 0s - loss: 0.0011 - accuracy: 1.0000 - 11ms/epoch - 11ms/step\n",
            "Epoch 684/1000\n",
            "1/1 - 0s - loss: 0.0011 - accuracy: 1.0000 - 10ms/epoch - 10ms/step\n",
            "Epoch 685/1000\n",
            "1/1 - 0s - loss: 0.0011 - accuracy: 1.0000 - 11ms/epoch - 11ms/step\n",
            "Epoch 686/1000\n",
            "1/1 - 0s - loss: 0.0011 - accuracy: 1.0000 - 16ms/epoch - 16ms/step\n",
            "Epoch 687/1000\n",
            "1/1 - 0s - loss: 0.0011 - accuracy: 1.0000 - 9ms/epoch - 9ms/step\n",
            "Epoch 688/1000\n",
            "1/1 - 0s - loss: 0.0011 - accuracy: 1.0000 - 9ms/epoch - 9ms/step\n",
            "Epoch 689/1000\n",
            "1/1 - 0s - loss: 0.0011 - accuracy: 1.0000 - 11ms/epoch - 11ms/step\n",
            "Epoch 690/1000\n",
            "1/1 - 0s - loss: 0.0011 - accuracy: 1.0000 - 9ms/epoch - 9ms/step\n",
            "Epoch 691/1000\n",
            "1/1 - 0s - loss: 0.0011 - accuracy: 1.0000 - 10ms/epoch - 10ms/step\n",
            "Epoch 692/1000\n",
            "1/1 - 0s - loss: 0.0011 - accuracy: 1.0000 - 10ms/epoch - 10ms/step\n",
            "Epoch 693/1000\n",
            "1/1 - 0s - loss: 0.0011 - accuracy: 1.0000 - 9ms/epoch - 9ms/step\n",
            "Epoch 694/1000\n",
            "1/1 - 0s - loss: 0.0011 - accuracy: 1.0000 - 15ms/epoch - 15ms/step\n",
            "Epoch 695/1000\n",
            "1/1 - 0s - loss: 0.0011 - accuracy: 1.0000 - 9ms/epoch - 9ms/step\n",
            "Epoch 696/1000\n",
            "1/1 - 0s - loss: 0.0011 - accuracy: 1.0000 - 9ms/epoch - 9ms/step\n",
            "Epoch 697/1000\n",
            "1/1 - 0s - loss: 0.0011 - accuracy: 1.0000 - 11ms/epoch - 11ms/step\n",
            "Epoch 698/1000\n",
            "1/1 - 0s - loss: 0.0011 - accuracy: 1.0000 - 10ms/epoch - 10ms/step\n",
            "Epoch 699/1000\n",
            "1/1 - 0s - loss: 0.0011 - accuracy: 1.0000 - 12ms/epoch - 12ms/step\n",
            "Epoch 700/1000\n",
            "1/1 - 0s - loss: 0.0011 - accuracy: 1.0000 - 12ms/epoch - 12ms/step\n",
            "Epoch 701/1000\n",
            "1/1 - 0s - loss: 0.0011 - accuracy: 1.0000 - 10ms/epoch - 10ms/step\n",
            "Epoch 702/1000\n",
            "1/1 - 0s - loss: 0.0011 - accuracy: 1.0000 - 10ms/epoch - 10ms/step\n",
            "Epoch 703/1000\n",
            "1/1 - 0s - loss: 0.0011 - accuracy: 1.0000 - 14ms/epoch - 14ms/step\n",
            "Epoch 704/1000\n",
            "1/1 - 0s - loss: 0.0011 - accuracy: 1.0000 - 10ms/epoch - 10ms/step\n",
            "Epoch 705/1000\n",
            "1/1 - 0s - loss: 0.0011 - accuracy: 1.0000 - 10ms/epoch - 10ms/step\n",
            "Epoch 706/1000\n",
            "1/1 - 0s - loss: 0.0011 - accuracy: 1.0000 - 11ms/epoch - 11ms/step\n",
            "Epoch 707/1000\n",
            "1/1 - 0s - loss: 0.0011 - accuracy: 1.0000 - 10ms/epoch - 10ms/step\n",
            "Epoch 708/1000\n",
            "1/1 - 0s - loss: 0.0011 - accuracy: 1.0000 - 12ms/epoch - 12ms/step\n",
            "Epoch 709/1000\n",
            "1/1 - 0s - loss: 0.0010 - accuracy: 1.0000 - 11ms/epoch - 11ms/step\n",
            "Epoch 710/1000\n",
            "1/1 - 0s - loss: 0.0010 - accuracy: 1.0000 - 12ms/epoch - 12ms/step\n",
            "Epoch 711/1000\n",
            "1/1 - 0s - loss: 0.0010 - accuracy: 1.0000 - 11ms/epoch - 11ms/step\n",
            "Epoch 712/1000\n",
            "1/1 - 0s - loss: 0.0010 - accuracy: 1.0000 - 10ms/epoch - 10ms/step\n",
            "Epoch 713/1000\n",
            "1/1 - 0s - loss: 0.0010 - accuracy: 1.0000 - 10ms/epoch - 10ms/step\n",
            "Epoch 714/1000\n",
            "1/1 - 0s - loss: 0.0010 - accuracy: 1.0000 - 11ms/epoch - 11ms/step\n",
            "Epoch 715/1000\n",
            "1/1 - 0s - loss: 0.0010 - accuracy: 1.0000 - 11ms/epoch - 11ms/step\n",
            "Epoch 716/1000\n",
            "1/1 - 0s - loss: 0.0010 - accuracy: 1.0000 - 11ms/epoch - 11ms/step\n",
            "Epoch 717/1000\n",
            "1/1 - 0s - loss: 0.0010 - accuracy: 1.0000 - 13ms/epoch - 13ms/step\n",
            "Epoch 718/1000\n",
            "1/1 - 0s - loss: 0.0010 - accuracy: 1.0000 - 11ms/epoch - 11ms/step\n",
            "Epoch 719/1000\n",
            "1/1 - 0s - loss: 0.0010 - accuracy: 1.0000 - 11ms/epoch - 11ms/step\n",
            "Epoch 720/1000\n",
            "1/1 - 0s - loss: 0.0010 - accuracy: 1.0000 - 16ms/epoch - 16ms/step\n",
            "Epoch 721/1000\n",
            "1/1 - 0s - loss: 0.0010 - accuracy: 1.0000 - 11ms/epoch - 11ms/step\n",
            "Epoch 722/1000\n",
            "1/1 - 0s - loss: 0.0010 - accuracy: 1.0000 - 11ms/epoch - 11ms/step\n",
            "Epoch 723/1000\n",
            "1/1 - 0s - loss: 0.0010 - accuracy: 1.0000 - 12ms/epoch - 12ms/step\n",
            "Epoch 724/1000\n",
            "1/1 - 0s - loss: 0.0010 - accuracy: 1.0000 - 11ms/epoch - 11ms/step\n",
            "Epoch 725/1000\n",
            "1/1 - 0s - loss: 0.0010 - accuracy: 1.0000 - 12ms/epoch - 12ms/step\n",
            "Epoch 726/1000\n",
            "1/1 - 0s - loss: 9.9935e-04 - accuracy: 1.0000 - 11ms/epoch - 11ms/step\n",
            "Epoch 727/1000\n",
            "1/1 - 0s - loss: 9.9647e-04 - accuracy: 1.0000 - 11ms/epoch - 11ms/step\n",
            "Epoch 728/1000\n",
            "1/1 - 0s - loss: 9.9364e-04 - accuracy: 1.0000 - 13ms/epoch - 13ms/step\n",
            "Epoch 729/1000\n",
            "1/1 - 0s - loss: 9.9091e-04 - accuracy: 1.0000 - 11ms/epoch - 11ms/step\n",
            "Epoch 730/1000\n",
            "1/1 - 0s - loss: 9.8807e-04 - accuracy: 1.0000 - 11ms/epoch - 11ms/step\n",
            "Epoch 731/1000\n",
            "1/1 - 0s - loss: 9.8531e-04 - accuracy: 1.0000 - 11ms/epoch - 11ms/step\n",
            "Epoch 732/1000\n",
            "1/1 - 0s - loss: 9.8259e-04 - accuracy: 1.0000 - 13ms/epoch - 13ms/step\n",
            "Epoch 733/1000\n",
            "1/1 - 0s - loss: 9.7984e-04 - accuracy: 1.0000 - 13ms/epoch - 13ms/step\n",
            "Epoch 734/1000\n",
            "1/1 - 0s - loss: 9.7707e-04 - accuracy: 1.0000 - 12ms/epoch - 12ms/step\n",
            "Epoch 735/1000\n",
            "1/1 - 0s - loss: 9.7437e-04 - accuracy: 1.0000 - 10ms/epoch - 10ms/step\n",
            "Epoch 736/1000\n",
            "1/1 - 0s - loss: 9.7168e-04 - accuracy: 1.0000 - 10ms/epoch - 10ms/step\n",
            "Epoch 737/1000\n",
            "1/1 - 0s - loss: 9.6893e-04 - accuracy: 1.0000 - 11ms/epoch - 11ms/step\n",
            "Epoch 738/1000\n",
            "1/1 - 0s - loss: 9.6625e-04 - accuracy: 1.0000 - 12ms/epoch - 12ms/step\n",
            "Epoch 739/1000\n",
            "1/1 - 0s - loss: 9.6358e-04 - accuracy: 1.0000 - 12ms/epoch - 12ms/step\n",
            "Epoch 740/1000\n",
            "1/1 - 0s - loss: 9.6089e-04 - accuracy: 1.0000 - 12ms/epoch - 12ms/step\n",
            "Epoch 741/1000\n",
            "1/1 - 0s - loss: 9.5826e-04 - accuracy: 1.0000 - 10ms/epoch - 10ms/step\n",
            "Epoch 742/1000\n",
            "1/1 - 0s - loss: 9.5561e-04 - accuracy: 1.0000 - 11ms/epoch - 11ms/step\n",
            "Epoch 743/1000\n",
            "1/1 - 0s - loss: 9.5299e-04 - accuracy: 1.0000 - 10ms/epoch - 10ms/step\n",
            "Epoch 744/1000\n",
            "1/1 - 0s - loss: 9.5034e-04 - accuracy: 1.0000 - 10ms/epoch - 10ms/step\n",
            "Epoch 745/1000\n",
            "1/1 - 0s - loss: 9.4779e-04 - accuracy: 1.0000 - 11ms/epoch - 11ms/step\n",
            "Epoch 746/1000\n",
            "1/1 - 0s - loss: 9.4513e-04 - accuracy: 1.0000 - 12ms/epoch - 12ms/step\n",
            "Epoch 747/1000\n",
            "1/1 - 0s - loss: 9.4257e-04 - accuracy: 1.0000 - 10ms/epoch - 10ms/step\n",
            "Epoch 748/1000\n",
            "1/1 - 0s - loss: 9.3999e-04 - accuracy: 1.0000 - 11ms/epoch - 11ms/step\n",
            "Epoch 749/1000\n",
            "1/1 - 0s - loss: 9.3743e-04 - accuracy: 1.0000 - 11ms/epoch - 11ms/step\n",
            "Epoch 750/1000\n",
            "1/1 - 0s - loss: 9.3485e-04 - accuracy: 1.0000 - 11ms/epoch - 11ms/step\n",
            "Epoch 751/1000\n",
            "1/1 - 0s - loss: 9.3233e-04 - accuracy: 1.0000 - 10ms/epoch - 10ms/step\n",
            "Epoch 752/1000\n",
            "1/1 - 0s - loss: 9.2981e-04 - accuracy: 1.0000 - 11ms/epoch - 11ms/step\n",
            "Epoch 753/1000\n",
            "1/1 - 0s - loss: 9.2724e-04 - accuracy: 1.0000 - 14ms/epoch - 14ms/step\n",
            "Epoch 754/1000\n",
            "1/1 - 0s - loss: 9.2477e-04 - accuracy: 1.0000 - 10ms/epoch - 10ms/step\n",
            "Epoch 755/1000\n",
            "1/1 - 0s - loss: 9.2225e-04 - accuracy: 1.0000 - 10ms/epoch - 10ms/step\n",
            "Epoch 756/1000\n",
            "1/1 - 0s - loss: 9.1973e-04 - accuracy: 1.0000 - 10ms/epoch - 10ms/step\n",
            "Epoch 757/1000\n",
            "1/1 - 0s - loss: 9.1727e-04 - accuracy: 1.0000 - 11ms/epoch - 11ms/step\n",
            "Epoch 758/1000\n",
            "1/1 - 0s - loss: 9.1480e-04 - accuracy: 1.0000 - 11ms/epoch - 11ms/step\n",
            "Epoch 759/1000\n",
            "1/1 - 0s - loss: 9.1232e-04 - accuracy: 1.0000 - 13ms/epoch - 13ms/step\n",
            "Epoch 760/1000\n",
            "1/1 - 0s - loss: 9.0987e-04 - accuracy: 1.0000 - 10ms/epoch - 10ms/step\n",
            "Epoch 761/1000\n",
            "1/1 - 0s - loss: 9.0745e-04 - accuracy: 1.0000 - 9ms/epoch - 9ms/step\n",
            "Epoch 762/1000\n",
            "1/1 - 0s - loss: 9.0498e-04 - accuracy: 1.0000 - 13ms/epoch - 13ms/step\n",
            "Epoch 763/1000\n",
            "1/1 - 0s - loss: 9.0257e-04 - accuracy: 1.0000 - 10ms/epoch - 10ms/step\n",
            "Epoch 764/1000\n",
            "1/1 - 0s - loss: 9.0015e-04 - accuracy: 1.0000 - 10ms/epoch - 10ms/step\n",
            "Epoch 765/1000\n",
            "1/1 - 0s - loss: 8.9779e-04 - accuracy: 1.0000 - 9ms/epoch - 9ms/step\n",
            "Epoch 766/1000\n",
            "1/1 - 0s - loss: 8.9534e-04 - accuracy: 1.0000 - 11ms/epoch - 11ms/step\n",
            "Epoch 767/1000\n",
            "1/1 - 0s - loss: 8.9304e-04 - accuracy: 1.0000 - 9ms/epoch - 9ms/step\n",
            "Epoch 768/1000\n",
            "1/1 - 0s - loss: 8.9068e-04 - accuracy: 1.0000 - 10ms/epoch - 10ms/step\n",
            "Epoch 769/1000\n",
            "1/1 - 0s - loss: 8.8826e-04 - accuracy: 1.0000 - 10ms/epoch - 10ms/step\n",
            "Epoch 770/1000\n",
            "1/1 - 0s - loss: 8.8586e-04 - accuracy: 1.0000 - 9ms/epoch - 9ms/step\n",
            "Epoch 771/1000\n",
            "1/1 - 0s - loss: 8.8361e-04 - accuracy: 1.0000 - 11ms/epoch - 11ms/step\n",
            "Epoch 772/1000\n",
            "1/1 - 0s - loss: 8.8118e-04 - accuracy: 1.0000 - 9ms/epoch - 9ms/step\n",
            "Epoch 773/1000\n",
            "1/1 - 0s - loss: 8.7889e-04 - accuracy: 1.0000 - 10ms/epoch - 10ms/step\n",
            "Epoch 774/1000\n",
            "1/1 - 0s - loss: 8.7661e-04 - accuracy: 1.0000 - 11ms/epoch - 11ms/step\n",
            "Epoch 775/1000\n",
            "1/1 - 0s - loss: 8.7428e-04 - accuracy: 1.0000 - 11ms/epoch - 11ms/step\n",
            "Epoch 776/1000\n",
            "1/1 - 0s - loss: 8.7192e-04 - accuracy: 1.0000 - 11ms/epoch - 11ms/step\n",
            "Epoch 777/1000\n",
            "1/1 - 0s - loss: 8.6964e-04 - accuracy: 1.0000 - 12ms/epoch - 12ms/step\n",
            "Epoch 778/1000\n",
            "1/1 - 0s - loss: 8.6732e-04 - accuracy: 1.0000 - 11ms/epoch - 11ms/step\n",
            "Epoch 779/1000\n",
            "1/1 - 0s - loss: 8.6505e-04 - accuracy: 1.0000 - 11ms/epoch - 11ms/step\n",
            "Epoch 780/1000\n",
            "1/1 - 0s - loss: 8.6278e-04 - accuracy: 1.0000 - 11ms/epoch - 11ms/step\n",
            "Epoch 781/1000\n",
            "1/1 - 0s - loss: 8.6054e-04 - accuracy: 1.0000 - 9ms/epoch - 9ms/step\n",
            "Epoch 782/1000\n",
            "1/1 - 0s - loss: 8.5829e-04 - accuracy: 1.0000 - 11ms/epoch - 11ms/step\n",
            "Epoch 783/1000\n",
            "1/1 - 0s - loss: 8.5605e-04 - accuracy: 1.0000 - 10ms/epoch - 10ms/step\n",
            "Epoch 784/1000\n",
            "1/1 - 0s - loss: 8.5381e-04 - accuracy: 1.0000 - 11ms/epoch - 11ms/step\n",
            "Epoch 785/1000\n",
            "1/1 - 0s - loss: 8.5162e-04 - accuracy: 1.0000 - 11ms/epoch - 11ms/step\n",
            "Epoch 786/1000\n",
            "1/1 - 0s - loss: 8.4936e-04 - accuracy: 1.0000 - 15ms/epoch - 15ms/step\n",
            "Epoch 787/1000\n",
            "1/1 - 0s - loss: 8.4716e-04 - accuracy: 1.0000 - 10ms/epoch - 10ms/step\n",
            "Epoch 788/1000\n",
            "1/1 - 0s - loss: 8.4495e-04 - accuracy: 1.0000 - 11ms/epoch - 11ms/step\n",
            "Epoch 789/1000\n",
            "1/1 - 0s - loss: 8.4275e-04 - accuracy: 1.0000 - 10ms/epoch - 10ms/step\n",
            "Epoch 790/1000\n",
            "1/1 - 0s - loss: 8.4059e-04 - accuracy: 1.0000 - 10ms/epoch - 10ms/step\n",
            "Epoch 791/1000\n",
            "1/1 - 0s - loss: 8.3838e-04 - accuracy: 1.0000 - 10ms/epoch - 10ms/step\n",
            "Epoch 792/1000\n",
            "1/1 - 0s - loss: 8.3626e-04 - accuracy: 1.0000 - 10ms/epoch - 10ms/step\n",
            "Epoch 793/1000\n",
            "1/1 - 0s - loss: 8.3409e-04 - accuracy: 1.0000 - 11ms/epoch - 11ms/step\n",
            "Epoch 794/1000\n",
            "1/1 - 0s - loss: 8.3194e-04 - accuracy: 1.0000 - 9ms/epoch - 9ms/step\n",
            "Epoch 795/1000\n",
            "1/1 - 0s - loss: 8.2981e-04 - accuracy: 1.0000 - 9ms/epoch - 9ms/step\n",
            "Epoch 796/1000\n",
            "1/1 - 0s - loss: 8.2768e-04 - accuracy: 1.0000 - 11ms/epoch - 11ms/step\n",
            "Epoch 797/1000\n",
            "1/1 - 0s - loss: 8.2553e-04 - accuracy: 1.0000 - 12ms/epoch - 12ms/step\n",
            "Epoch 798/1000\n",
            "1/1 - 0s - loss: 8.2344e-04 - accuracy: 1.0000 - 11ms/epoch - 11ms/step\n",
            "Epoch 799/1000\n",
            "1/1 - 0s - loss: 8.2133e-04 - accuracy: 1.0000 - 10ms/epoch - 10ms/step\n",
            "Epoch 800/1000\n",
            "1/1 - 0s - loss: 8.1922e-04 - accuracy: 1.0000 - 11ms/epoch - 11ms/step\n",
            "Epoch 801/1000\n",
            "1/1 - 0s - loss: 8.1714e-04 - accuracy: 1.0000 - 13ms/epoch - 13ms/step\n",
            "Epoch 802/1000\n",
            "1/1 - 0s - loss: 8.1506e-04 - accuracy: 1.0000 - 11ms/epoch - 11ms/step\n",
            "Epoch 803/1000\n",
            "1/1 - 0s - loss: 8.1297e-04 - accuracy: 1.0000 - 12ms/epoch - 12ms/step\n",
            "Epoch 804/1000\n",
            "1/1 - 0s - loss: 8.1091e-04 - accuracy: 1.0000 - 11ms/epoch - 11ms/step\n",
            "Epoch 805/1000\n",
            "1/1 - 0s - loss: 8.0885e-04 - accuracy: 1.0000 - 11ms/epoch - 11ms/step\n",
            "Epoch 806/1000\n",
            "1/1 - 0s - loss: 8.0679e-04 - accuracy: 1.0000 - 11ms/epoch - 11ms/step\n",
            "Epoch 807/1000\n",
            "1/1 - 0s - loss: 8.0475e-04 - accuracy: 1.0000 - 10ms/epoch - 10ms/step\n",
            "Epoch 808/1000\n",
            "1/1 - 0s - loss: 8.0271e-04 - accuracy: 1.0000 - 12ms/epoch - 12ms/step\n",
            "Epoch 809/1000\n",
            "1/1 - 0s - loss: 8.0069e-04 - accuracy: 1.0000 - 15ms/epoch - 15ms/step\n",
            "Epoch 810/1000\n",
            "1/1 - 0s - loss: 7.9866e-04 - accuracy: 1.0000 - 11ms/epoch - 11ms/step\n",
            "Epoch 811/1000\n",
            "1/1 - 0s - loss: 7.9664e-04 - accuracy: 1.0000 - 11ms/epoch - 11ms/step\n",
            "Epoch 812/1000\n",
            "1/1 - 0s - loss: 7.9467e-04 - accuracy: 1.0000 - 11ms/epoch - 11ms/step\n",
            "Epoch 813/1000\n",
            "1/1 - 0s - loss: 7.9266e-04 - accuracy: 1.0000 - 11ms/epoch - 11ms/step\n",
            "Epoch 814/1000\n",
            "1/1 - 0s - loss: 7.9067e-04 - accuracy: 1.0000 - 10ms/epoch - 10ms/step\n",
            "Epoch 815/1000\n",
            "1/1 - 0s - loss: 7.8869e-04 - accuracy: 1.0000 - 9ms/epoch - 9ms/step\n",
            "Epoch 816/1000\n",
            "1/1 - 0s - loss: 7.8670e-04 - accuracy: 1.0000 - 11ms/epoch - 11ms/step\n",
            "Epoch 817/1000\n",
            "1/1 - 0s - loss: 7.8474e-04 - accuracy: 1.0000 - 11ms/epoch - 11ms/step\n",
            "Epoch 818/1000\n",
            "1/1 - 0s - loss: 7.8278e-04 - accuracy: 1.0000 - 10ms/epoch - 10ms/step\n",
            "Epoch 819/1000\n",
            "1/1 - 0s - loss: 7.8081e-04 - accuracy: 1.0000 - 11ms/epoch - 11ms/step\n",
            "Epoch 820/1000\n",
            "1/1 - 0s - loss: 7.7887e-04 - accuracy: 1.0000 - 11ms/epoch - 11ms/step\n",
            "Epoch 821/1000\n",
            "1/1 - 0s - loss: 7.7691e-04 - accuracy: 1.0000 - 11ms/epoch - 11ms/step\n",
            "Epoch 822/1000\n",
            "1/1 - 0s - loss: 7.7501e-04 - accuracy: 1.0000 - 9ms/epoch - 9ms/step\n",
            "Epoch 823/1000\n",
            "1/1 - 0s - loss: 7.7310e-04 - accuracy: 1.0000 - 11ms/epoch - 11ms/step\n",
            "Epoch 824/1000\n",
            "1/1 - 0s - loss: 7.7120e-04 - accuracy: 1.0000 - 11ms/epoch - 11ms/step\n",
            "Epoch 825/1000\n",
            "1/1 - 0s - loss: 7.6926e-04 - accuracy: 1.0000 - 11ms/epoch - 11ms/step\n",
            "Epoch 826/1000\n",
            "1/1 - 0s - loss: 7.6737e-04 - accuracy: 1.0000 - 14ms/epoch - 14ms/step\n",
            "Epoch 827/1000\n",
            "1/1 - 0s - loss: 7.6545e-04 - accuracy: 1.0000 - 10ms/epoch - 10ms/step\n",
            "Epoch 828/1000\n",
            "1/1 - 0s - loss: 7.6357e-04 - accuracy: 1.0000 - 9ms/epoch - 9ms/step\n",
            "Epoch 829/1000\n",
            "1/1 - 0s - loss: 7.6170e-04 - accuracy: 1.0000 - 9ms/epoch - 9ms/step\n",
            "Epoch 830/1000\n",
            "1/1 - 0s - loss: 7.5980e-04 - accuracy: 1.0000 - 10ms/epoch - 10ms/step\n",
            "Epoch 831/1000\n",
            "1/1 - 0s - loss: 7.5792e-04 - accuracy: 1.0000 - 10ms/epoch - 10ms/step\n",
            "Epoch 832/1000\n",
            "1/1 - 0s - loss: 7.5607e-04 - accuracy: 1.0000 - 11ms/epoch - 11ms/step\n",
            "Epoch 833/1000\n",
            "1/1 - 0s - loss: 7.5420e-04 - accuracy: 1.0000 - 11ms/epoch - 11ms/step\n",
            "Epoch 834/1000\n",
            "1/1 - 0s - loss: 7.5235e-04 - accuracy: 1.0000 - 11ms/epoch - 11ms/step\n",
            "Epoch 835/1000\n",
            "1/1 - 0s - loss: 7.5052e-04 - accuracy: 1.0000 - 11ms/epoch - 11ms/step\n",
            "Epoch 836/1000\n",
            "1/1 - 0s - loss: 7.4867e-04 - accuracy: 1.0000 - 10ms/epoch - 10ms/step\n",
            "Epoch 837/1000\n",
            "1/1 - 0s - loss: 7.4686e-04 - accuracy: 1.0000 - 11ms/epoch - 11ms/step\n",
            "Epoch 838/1000\n",
            "1/1 - 0s - loss: 7.4501e-04 - accuracy: 1.0000 - 12ms/epoch - 12ms/step\n",
            "Epoch 839/1000\n",
            "1/1 - 0s - loss: 7.4320e-04 - accuracy: 1.0000 - 12ms/epoch - 12ms/step\n",
            "Epoch 840/1000\n",
            "1/1 - 0s - loss: 7.4139e-04 - accuracy: 1.0000 - 11ms/epoch - 11ms/step\n",
            "Epoch 841/1000\n",
            "1/1 - 0s - loss: 7.3958e-04 - accuracy: 1.0000 - 14ms/epoch - 14ms/step\n",
            "Epoch 842/1000\n",
            "1/1 - 0s - loss: 7.3777e-04 - accuracy: 1.0000 - 11ms/epoch - 11ms/step\n",
            "Epoch 843/1000\n",
            "1/1 - 0s - loss: 7.3600e-04 - accuracy: 1.0000 - 11ms/epoch - 11ms/step\n",
            "Epoch 844/1000\n",
            "1/1 - 0s - loss: 7.3423e-04 - accuracy: 1.0000 - 13ms/epoch - 13ms/step\n",
            "Epoch 845/1000\n",
            "1/1 - 0s - loss: 7.3246e-04 - accuracy: 1.0000 - 13ms/epoch - 13ms/step\n",
            "Epoch 846/1000\n",
            "1/1 - 0s - loss: 7.3065e-04 - accuracy: 1.0000 - 12ms/epoch - 12ms/step\n",
            "Epoch 847/1000\n",
            "1/1 - 0s - loss: 7.2895e-04 - accuracy: 1.0000 - 12ms/epoch - 12ms/step\n",
            "Epoch 848/1000\n",
            "1/1 - 0s - loss: 7.2714e-04 - accuracy: 1.0000 - 12ms/epoch - 12ms/step\n",
            "Epoch 849/1000\n",
            "1/1 - 0s - loss: 7.2545e-04 - accuracy: 1.0000 - 12ms/epoch - 12ms/step\n",
            "Epoch 850/1000\n",
            "1/1 - 0s - loss: 7.2374e-04 - accuracy: 1.0000 - 11ms/epoch - 11ms/step\n",
            "Epoch 851/1000\n",
            "1/1 - 0s - loss: 7.2199e-04 - accuracy: 1.0000 - 19ms/epoch - 19ms/step\n",
            "Epoch 852/1000\n",
            "1/1 - 0s - loss: 7.2021e-04 - accuracy: 1.0000 - 11ms/epoch - 11ms/step\n",
            "Epoch 853/1000\n",
            "1/1 - 0s - loss: 7.1844e-04 - accuracy: 1.0000 - 11ms/epoch - 11ms/step\n",
            "Epoch 854/1000\n",
            "1/1 - 0s - loss: 7.1677e-04 - accuracy: 1.0000 - 13ms/epoch - 13ms/step\n",
            "Epoch 855/1000\n",
            "1/1 - 0s - loss: 7.1500e-04 - accuracy: 1.0000 - 10ms/epoch - 10ms/step\n",
            "Epoch 856/1000\n",
            "1/1 - 0s - loss: 7.1333e-04 - accuracy: 1.0000 - 11ms/epoch - 11ms/step\n",
            "Epoch 857/1000\n",
            "1/1 - 0s - loss: 7.1164e-04 - accuracy: 1.0000 - 11ms/epoch - 11ms/step\n",
            "Epoch 858/1000\n",
            "1/1 - 0s - loss: 7.0994e-04 - accuracy: 1.0000 - 10ms/epoch - 10ms/step\n",
            "Epoch 859/1000\n",
            "1/1 - 0s - loss: 7.0819e-04 - accuracy: 1.0000 - 12ms/epoch - 12ms/step\n",
            "Epoch 860/1000\n",
            "1/1 - 0s - loss: 7.0658e-04 - accuracy: 1.0000 - 10ms/epoch - 10ms/step\n",
            "Epoch 861/1000\n",
            "1/1 - 0s - loss: 7.0487e-04 - accuracy: 1.0000 - 12ms/epoch - 12ms/step\n",
            "Epoch 862/1000\n",
            "1/1 - 0s - loss: 7.0320e-04 - accuracy: 1.0000 - 11ms/epoch - 11ms/step\n",
            "Epoch 863/1000\n",
            "1/1 - 0s - loss: 7.0157e-04 - accuracy: 1.0000 - 10ms/epoch - 10ms/step\n",
            "Epoch 864/1000\n",
            "1/1 - 0s - loss: 6.9989e-04 - accuracy: 1.0000 - 16ms/epoch - 16ms/step\n",
            "Epoch 865/1000\n",
            "1/1 - 0s - loss: 6.9821e-04 - accuracy: 1.0000 - 9ms/epoch - 9ms/step\n",
            "Epoch 866/1000\n",
            "1/1 - 0s - loss: 6.9657e-04 - accuracy: 1.0000 - 11ms/epoch - 11ms/step\n",
            "Epoch 867/1000\n",
            "1/1 - 0s - loss: 6.9495e-04 - accuracy: 1.0000 - 11ms/epoch - 11ms/step\n",
            "Epoch 868/1000\n",
            "1/1 - 0s - loss: 6.9328e-04 - accuracy: 1.0000 - 13ms/epoch - 13ms/step\n",
            "Epoch 869/1000\n",
            "1/1 - 0s - loss: 6.9166e-04 - accuracy: 1.0000 - 10ms/epoch - 10ms/step\n",
            "Epoch 870/1000\n",
            "1/1 - 0s - loss: 6.9006e-04 - accuracy: 1.0000 - 11ms/epoch - 11ms/step\n",
            "Epoch 871/1000\n",
            "1/1 - 0s - loss: 6.8843e-04 - accuracy: 1.0000 - 12ms/epoch - 12ms/step\n",
            "Epoch 872/1000\n",
            "1/1 - 0s - loss: 6.8680e-04 - accuracy: 1.0000 - 11ms/epoch - 11ms/step\n",
            "Epoch 873/1000\n",
            "1/1 - 0s - loss: 6.8517e-04 - accuracy: 1.0000 - 10ms/epoch - 10ms/step\n",
            "Epoch 874/1000\n",
            "1/1 - 0s - loss: 6.8358e-04 - accuracy: 1.0000 - 11ms/epoch - 11ms/step\n",
            "Epoch 875/1000\n",
            "1/1 - 0s - loss: 6.8199e-04 - accuracy: 1.0000 - 10ms/epoch - 10ms/step\n",
            "Epoch 876/1000\n",
            "1/1 - 0s - loss: 6.8036e-04 - accuracy: 1.0000 - 11ms/epoch - 11ms/step\n",
            "Epoch 877/1000\n",
            "1/1 - 0s - loss: 6.7878e-04 - accuracy: 1.0000 - 11ms/epoch - 11ms/step\n",
            "Epoch 878/1000\n",
            "1/1 - 0s - loss: 6.7721e-04 - accuracy: 1.0000 - 11ms/epoch - 11ms/step\n",
            "Epoch 879/1000\n",
            "1/1 - 0s - loss: 6.7562e-04 - accuracy: 1.0000 - 12ms/epoch - 12ms/step\n",
            "Epoch 880/1000\n",
            "1/1 - 0s - loss: 6.7404e-04 - accuracy: 1.0000 - 11ms/epoch - 11ms/step\n",
            "Epoch 881/1000\n",
            "1/1 - 0s - loss: 6.7247e-04 - accuracy: 1.0000 - 11ms/epoch - 11ms/step\n",
            "Epoch 882/1000\n",
            "1/1 - 0s - loss: 6.7096e-04 - accuracy: 1.0000 - 11ms/epoch - 11ms/step\n",
            "Epoch 883/1000\n",
            "1/1 - 0s - loss: 6.6936e-04 - accuracy: 1.0000 - 15ms/epoch - 15ms/step\n",
            "Epoch 884/1000\n",
            "1/1 - 0s - loss: 6.6781e-04 - accuracy: 1.0000 - 11ms/epoch - 11ms/step\n",
            "Epoch 885/1000\n",
            "1/1 - 0s - loss: 6.6629e-04 - accuracy: 1.0000 - 13ms/epoch - 13ms/step\n",
            "Epoch 886/1000\n",
            "1/1 - 0s - loss: 6.6473e-04 - accuracy: 1.0000 - 14ms/epoch - 14ms/step\n",
            "Epoch 887/1000\n",
            "1/1 - 0s - loss: 6.6318e-04 - accuracy: 1.0000 - 10ms/epoch - 10ms/step\n",
            "Epoch 888/1000\n",
            "1/1 - 0s - loss: 6.6169e-04 - accuracy: 1.0000 - 9ms/epoch - 9ms/step\n",
            "Epoch 889/1000\n",
            "1/1 - 0s - loss: 6.6013e-04 - accuracy: 1.0000 - 10ms/epoch - 10ms/step\n",
            "Epoch 890/1000\n",
            "1/1 - 0s - loss: 6.5863e-04 - accuracy: 1.0000 - 12ms/epoch - 12ms/step\n",
            "Epoch 891/1000\n",
            "1/1 - 0s - loss: 6.5714e-04 - accuracy: 1.0000 - 11ms/epoch - 11ms/step\n",
            "Epoch 892/1000\n",
            "1/1 - 0s - loss: 6.5563e-04 - accuracy: 1.0000 - 10ms/epoch - 10ms/step\n",
            "Epoch 893/1000\n",
            "1/1 - 0s - loss: 6.5409e-04 - accuracy: 1.0000 - 10ms/epoch - 10ms/step\n",
            "Epoch 894/1000\n",
            "1/1 - 0s - loss: 6.5258e-04 - accuracy: 1.0000 - 11ms/epoch - 11ms/step\n",
            "Epoch 895/1000\n",
            "1/1 - 0s - loss: 6.5112e-04 - accuracy: 1.0000 - 14ms/epoch - 14ms/step\n",
            "Epoch 896/1000\n",
            "1/1 - 0s - loss: 6.4960e-04 - accuracy: 1.0000 - 12ms/epoch - 12ms/step\n",
            "Epoch 897/1000\n",
            "1/1 - 0s - loss: 6.4811e-04 - accuracy: 1.0000 - 9ms/epoch - 9ms/step\n",
            "Epoch 898/1000\n",
            "1/1 - 0s - loss: 6.4666e-04 - accuracy: 1.0000 - 12ms/epoch - 12ms/step\n",
            "Epoch 899/1000\n",
            "1/1 - 0s - loss: 6.4518e-04 - accuracy: 1.0000 - 12ms/epoch - 12ms/step\n",
            "Epoch 900/1000\n",
            "1/1 - 0s - loss: 6.4369e-04 - accuracy: 1.0000 - 12ms/epoch - 12ms/step\n",
            "Epoch 901/1000\n",
            "1/1 - 0s - loss: 6.4225e-04 - accuracy: 1.0000 - 15ms/epoch - 15ms/step\n",
            "Epoch 902/1000\n",
            "1/1 - 0s - loss: 6.4076e-04 - accuracy: 1.0000 - 12ms/epoch - 12ms/step\n",
            "Epoch 903/1000\n",
            "1/1 - 0s - loss: 6.3931e-04 - accuracy: 1.0000 - 11ms/epoch - 11ms/step\n",
            "Epoch 904/1000\n",
            "1/1 - 0s - loss: 6.3786e-04 - accuracy: 1.0000 - 11ms/epoch - 11ms/step\n",
            "Epoch 905/1000\n",
            "1/1 - 0s - loss: 6.3642e-04 - accuracy: 1.0000 - 11ms/epoch - 11ms/step\n",
            "Epoch 906/1000\n",
            "1/1 - 0s - loss: 6.3498e-04 - accuracy: 1.0000 - 11ms/epoch - 11ms/step\n",
            "Epoch 907/1000\n",
            "1/1 - 0s - loss: 6.3353e-04 - accuracy: 1.0000 - 11ms/epoch - 11ms/step\n",
            "Epoch 908/1000\n",
            "1/1 - 0s - loss: 6.3213e-04 - accuracy: 1.0000 - 12ms/epoch - 12ms/step\n",
            "Epoch 909/1000\n",
            "1/1 - 0s - loss: 6.3071e-04 - accuracy: 1.0000 - 10ms/epoch - 10ms/step\n",
            "Epoch 910/1000\n",
            "1/1 - 0s - loss: 6.2926e-04 - accuracy: 1.0000 - 10ms/epoch - 10ms/step\n",
            "Epoch 911/1000\n",
            "1/1 - 0s - loss: 6.2785e-04 - accuracy: 1.0000 - 10ms/epoch - 10ms/step\n",
            "Epoch 912/1000\n",
            "1/1 - 0s - loss: 6.2644e-04 - accuracy: 1.0000 - 9ms/epoch - 9ms/step\n",
            "Epoch 913/1000\n",
            "1/1 - 0s - loss: 6.2504e-04 - accuracy: 1.0000 - 11ms/epoch - 11ms/step\n",
            "Epoch 914/1000\n",
            "1/1 - 0s - loss: 6.2362e-04 - accuracy: 1.0000 - 8ms/epoch - 8ms/step\n",
            "Epoch 915/1000\n",
            "1/1 - 0s - loss: 6.2224e-04 - accuracy: 1.0000 - 11ms/epoch - 11ms/step\n",
            "Epoch 916/1000\n",
            "1/1 - 0s - loss: 6.2084e-04 - accuracy: 1.0000 - 11ms/epoch - 11ms/step\n",
            "Epoch 917/1000\n",
            "1/1 - 0s - loss: 6.1947e-04 - accuracy: 1.0000 - 13ms/epoch - 13ms/step\n",
            "Epoch 918/1000\n",
            "1/1 - 0s - loss: 6.1806e-04 - accuracy: 1.0000 - 10ms/epoch - 10ms/step\n",
            "Epoch 919/1000\n",
            "1/1 - 0s - loss: 6.1669e-04 - accuracy: 1.0000 - 12ms/epoch - 12ms/step\n",
            "Epoch 920/1000\n",
            "1/1 - 0s - loss: 6.1531e-04 - accuracy: 1.0000 - 11ms/epoch - 11ms/step\n",
            "Epoch 921/1000\n",
            "1/1 - 0s - loss: 6.1393e-04 - accuracy: 1.0000 - 13ms/epoch - 13ms/step\n",
            "Epoch 922/1000\n",
            "1/1 - 0s - loss: 6.1256e-04 - accuracy: 1.0000 - 10ms/epoch - 10ms/step\n",
            "Epoch 923/1000\n",
            "1/1 - 0s - loss: 6.1122e-04 - accuracy: 1.0000 - 15ms/epoch - 15ms/step\n",
            "Epoch 924/1000\n",
            "1/1 - 0s - loss: 6.0987e-04 - accuracy: 1.0000 - 10ms/epoch - 10ms/step\n",
            "Epoch 925/1000\n",
            "1/1 - 0s - loss: 6.0852e-04 - accuracy: 1.0000 - 10ms/epoch - 10ms/step\n",
            "Epoch 926/1000\n",
            "1/1 - 0s - loss: 6.0717e-04 - accuracy: 1.0000 - 11ms/epoch - 11ms/step\n",
            "Epoch 927/1000\n",
            "1/1 - 0s - loss: 6.0581e-04 - accuracy: 1.0000 - 10ms/epoch - 10ms/step\n",
            "Epoch 928/1000\n",
            "1/1 - 0s - loss: 6.0449e-04 - accuracy: 1.0000 - 11ms/epoch - 11ms/step\n",
            "Epoch 929/1000\n",
            "1/1 - 0s - loss: 6.0315e-04 - accuracy: 1.0000 - 11ms/epoch - 11ms/step\n",
            "Epoch 930/1000\n",
            "1/1 - 0s - loss: 6.0180e-04 - accuracy: 1.0000 - 12ms/epoch - 12ms/step\n",
            "Epoch 931/1000\n",
            "1/1 - 0s - loss: 6.0050e-04 - accuracy: 1.0000 - 12ms/epoch - 12ms/step\n",
            "Epoch 932/1000\n",
            "1/1 - 0s - loss: 5.9918e-04 - accuracy: 1.0000 - 10ms/epoch - 10ms/step\n",
            "Epoch 933/1000\n",
            "1/1 - 0s - loss: 5.9785e-04 - accuracy: 1.0000 - 10ms/epoch - 10ms/step\n",
            "Epoch 934/1000\n",
            "1/1 - 0s - loss: 5.9656e-04 - accuracy: 1.0000 - 10ms/epoch - 10ms/step\n",
            "Epoch 935/1000\n",
            "1/1 - 0s - loss: 5.9525e-04 - accuracy: 1.0000 - 10ms/epoch - 10ms/step\n",
            "Epoch 936/1000\n",
            "1/1 - 0s - loss: 5.9394e-04 - accuracy: 1.0000 - 11ms/epoch - 11ms/step\n",
            "Epoch 937/1000\n",
            "1/1 - 0s - loss: 5.9262e-04 - accuracy: 1.0000 - 12ms/epoch - 12ms/step\n",
            "Epoch 938/1000\n",
            "1/1 - 0s - loss: 5.9135e-04 - accuracy: 1.0000 - 10ms/epoch - 10ms/step\n",
            "Epoch 939/1000\n",
            "1/1 - 0s - loss: 5.9006e-04 - accuracy: 1.0000 - 12ms/epoch - 12ms/step\n",
            "Epoch 940/1000\n",
            "1/1 - 0s - loss: 5.8876e-04 - accuracy: 1.0000 - 10ms/epoch - 10ms/step\n",
            "Epoch 941/1000\n",
            "1/1 - 0s - loss: 5.8746e-04 - accuracy: 1.0000 - 13ms/epoch - 13ms/step\n",
            "Epoch 942/1000\n",
            "1/1 - 0s - loss: 5.8621e-04 - accuracy: 1.0000 - 11ms/epoch - 11ms/step\n",
            "Epoch 943/1000\n",
            "1/1 - 0s - loss: 5.8495e-04 - accuracy: 1.0000 - 11ms/epoch - 11ms/step\n",
            "Epoch 944/1000\n",
            "1/1 - 0s - loss: 5.8367e-04 - accuracy: 1.0000 - 11ms/epoch - 11ms/step\n",
            "Epoch 945/1000\n",
            "1/1 - 0s - loss: 5.8239e-04 - accuracy: 1.0000 - 12ms/epoch - 12ms/step\n",
            "Epoch 946/1000\n",
            "1/1 - 0s - loss: 5.8112e-04 - accuracy: 1.0000 - 12ms/epoch - 12ms/step\n",
            "Epoch 947/1000\n",
            "1/1 - 0s - loss: 5.7986e-04 - accuracy: 1.0000 - 10ms/epoch - 10ms/step\n",
            "Epoch 948/1000\n",
            "1/1 - 0s - loss: 5.7861e-04 - accuracy: 1.0000 - 11ms/epoch - 11ms/step\n",
            "Epoch 949/1000\n",
            "1/1 - 0s - loss: 5.7737e-04 - accuracy: 1.0000 - 11ms/epoch - 11ms/step\n",
            "Epoch 950/1000\n",
            "1/1 - 0s - loss: 5.7610e-04 - accuracy: 1.0000 - 12ms/epoch - 12ms/step\n",
            "Epoch 951/1000\n",
            "1/1 - 0s - loss: 5.7487e-04 - accuracy: 1.0000 - 10ms/epoch - 10ms/step\n",
            "Epoch 952/1000\n",
            "1/1 - 0s - loss: 5.7363e-04 - accuracy: 1.0000 - 13ms/epoch - 13ms/step\n",
            "Epoch 953/1000\n",
            "1/1 - 0s - loss: 5.7240e-04 - accuracy: 1.0000 - 11ms/epoch - 11ms/step\n",
            "Epoch 954/1000\n",
            "1/1 - 0s - loss: 5.7115e-04 - accuracy: 1.0000 - 11ms/epoch - 11ms/step\n",
            "Epoch 955/1000\n",
            "1/1 - 0s - loss: 5.6991e-04 - accuracy: 1.0000 - 11ms/epoch - 11ms/step\n",
            "Epoch 956/1000\n",
            "1/1 - 0s - loss: 5.6870e-04 - accuracy: 1.0000 - 14ms/epoch - 14ms/step\n",
            "Epoch 957/1000\n",
            "1/1 - 0s - loss: 5.6747e-04 - accuracy: 1.0000 - 11ms/epoch - 11ms/step\n",
            "Epoch 958/1000\n",
            "1/1 - 0s - loss: 5.6626e-04 - accuracy: 1.0000 - 10ms/epoch - 10ms/step\n",
            "Epoch 959/1000\n",
            "1/1 - 0s - loss: 5.6507e-04 - accuracy: 1.0000 - 11ms/epoch - 11ms/step\n",
            "Epoch 960/1000\n",
            "1/1 - 0s - loss: 5.6386e-04 - accuracy: 1.0000 - 11ms/epoch - 11ms/step\n",
            "Epoch 961/1000\n",
            "1/1 - 0s - loss: 5.6264e-04 - accuracy: 1.0000 - 14ms/epoch - 14ms/step\n",
            "Epoch 962/1000\n",
            "1/1 - 0s - loss: 5.6145e-04 - accuracy: 1.0000 - 13ms/epoch - 13ms/step\n",
            "Epoch 963/1000\n",
            "1/1 - 0s - loss: 5.6023e-04 - accuracy: 1.0000 - 11ms/epoch - 11ms/step\n",
            "Epoch 964/1000\n",
            "1/1 - 0s - loss: 5.5907e-04 - accuracy: 1.0000 - 11ms/epoch - 11ms/step\n",
            "Epoch 965/1000\n",
            "1/1 - 0s - loss: 5.5789e-04 - accuracy: 1.0000 - 10ms/epoch - 10ms/step\n",
            "Epoch 966/1000\n",
            "1/1 - 0s - loss: 5.5668e-04 - accuracy: 1.0000 - 10ms/epoch - 10ms/step\n",
            "Epoch 967/1000\n",
            "1/1 - 0s - loss: 5.5548e-04 - accuracy: 1.0000 - 11ms/epoch - 11ms/step\n",
            "Epoch 968/1000\n",
            "1/1 - 0s - loss: 5.5434e-04 - accuracy: 1.0000 - 10ms/epoch - 10ms/step\n",
            "Epoch 969/1000\n",
            "1/1 - 0s - loss: 5.5313e-04 - accuracy: 1.0000 - 11ms/epoch - 11ms/step\n",
            "Epoch 970/1000\n",
            "1/1 - 0s - loss: 5.5197e-04 - accuracy: 1.0000 - 10ms/epoch - 10ms/step\n",
            "Epoch 971/1000\n",
            "1/1 - 0s - loss: 5.5082e-04 - accuracy: 1.0000 - 13ms/epoch - 13ms/step\n",
            "Epoch 972/1000\n",
            "1/1 - 0s - loss: 5.4965e-04 - accuracy: 1.0000 - 15ms/epoch - 15ms/step\n",
            "Epoch 973/1000\n",
            "1/1 - 0s - loss: 5.4847e-04 - accuracy: 1.0000 - 14ms/epoch - 14ms/step\n",
            "Epoch 974/1000\n",
            "1/1 - 0s - loss: 5.4733e-04 - accuracy: 1.0000 - 12ms/epoch - 12ms/step\n",
            "Epoch 975/1000\n",
            "1/1 - 0s - loss: 5.4617e-04 - accuracy: 1.0000 - 13ms/epoch - 13ms/step\n",
            "Epoch 976/1000\n",
            "1/1 - 0s - loss: 5.4502e-04 - accuracy: 1.0000 - 10ms/epoch - 10ms/step\n",
            "Epoch 977/1000\n",
            "1/1 - 0s - loss: 5.4388e-04 - accuracy: 1.0000 - 11ms/epoch - 11ms/step\n",
            "Epoch 978/1000\n",
            "1/1 - 0s - loss: 5.4274e-04 - accuracy: 1.0000 - 14ms/epoch - 14ms/step\n",
            "Epoch 979/1000\n",
            "1/1 - 0s - loss: 5.4160e-04 - accuracy: 1.0000 - 10ms/epoch - 10ms/step\n",
            "Epoch 980/1000\n",
            "1/1 - 0s - loss: 5.4046e-04 - accuracy: 1.0000 - 10ms/epoch - 10ms/step\n",
            "Epoch 981/1000\n",
            "1/1 - 0s - loss: 5.3932e-04 - accuracy: 1.0000 - 10ms/epoch - 10ms/step\n",
            "Epoch 982/1000\n",
            "1/1 - 0s - loss: 5.3819e-04 - accuracy: 1.0000 - 11ms/epoch - 11ms/step\n",
            "Epoch 983/1000\n",
            "1/1 - 0s - loss: 5.3709e-04 - accuracy: 1.0000 - 10ms/epoch - 10ms/step\n",
            "Epoch 984/1000\n",
            "1/1 - 0s - loss: 5.3595e-04 - accuracy: 1.0000 - 11ms/epoch - 11ms/step\n",
            "Epoch 985/1000\n",
            "1/1 - 0s - loss: 5.3481e-04 - accuracy: 1.0000 - 11ms/epoch - 11ms/step\n",
            "Epoch 986/1000\n",
            "1/1 - 0s - loss: 5.3372e-04 - accuracy: 1.0000 - 12ms/epoch - 12ms/step\n",
            "Epoch 987/1000\n",
            "1/1 - 0s - loss: 5.3259e-04 - accuracy: 1.0000 - 11ms/epoch - 11ms/step\n",
            "Epoch 988/1000\n",
            "1/1 - 0s - loss: 5.3148e-04 - accuracy: 1.0000 - 13ms/epoch - 13ms/step\n",
            "Epoch 989/1000\n",
            "1/1 - 0s - loss: 5.3039e-04 - accuracy: 1.0000 - 13ms/epoch - 13ms/step\n",
            "Epoch 990/1000\n",
            "1/1 - 0s - loss: 5.2927e-04 - accuracy: 1.0000 - 14ms/epoch - 14ms/step\n",
            "Epoch 991/1000\n",
            "1/1 - 0s - loss: 5.2818e-04 - accuracy: 1.0000 - 13ms/epoch - 13ms/step\n",
            "Epoch 992/1000\n",
            "1/1 - 0s - loss: 5.2708e-04 - accuracy: 1.0000 - 11ms/epoch - 11ms/step\n",
            "Epoch 993/1000\n",
            "1/1 - 0s - loss: 5.2599e-04 - accuracy: 1.0000 - 12ms/epoch - 12ms/step\n",
            "Epoch 994/1000\n",
            "1/1 - 0s - loss: 5.2490e-04 - accuracy: 1.0000 - 12ms/epoch - 12ms/step\n",
            "Epoch 995/1000\n",
            "1/1 - 0s - loss: 5.2383e-04 - accuracy: 1.0000 - 18ms/epoch - 18ms/step\n",
            "Epoch 996/1000\n",
            "1/1 - 0s - loss: 5.2274e-04 - accuracy: 1.0000 - 12ms/epoch - 12ms/step\n",
            "Epoch 997/1000\n",
            "1/1 - 0s - loss: 5.2168e-04 - accuracy: 1.0000 - 11ms/epoch - 11ms/step\n",
            "Epoch 998/1000\n",
            "1/1 - 0s - loss: 5.2060e-04 - accuracy: 1.0000 - 13ms/epoch - 13ms/step\n",
            "Epoch 999/1000\n",
            "1/1 - 0s - loss: 5.1951e-04 - accuracy: 1.0000 - 10ms/epoch - 10ms/step\n",
            "Epoch 1000/1000\n",
            "1/1 - 0s - loss: 5.1846e-04 - accuracy: 1.0000 - 10ms/epoch - 10ms/step\n"
          ]
        }
      ]
    },
    {
      "cell_type": "code",
      "source": [
        "from matplotlib import pyplot as plt\n",
        "\n",
        "\n",
        "plt.plot(history.history['accuracy'])\n",
        "plt.title('model accuracy')\n",
        "plt.ylabel('accuracy')\n",
        "plt.xlabel('epoch')\n",
        "plt.legend(['accuracy'], loc='upper right')\n",
        "plt.show()\n",
        "\n",
        "plt.plot(history.history['loss'])\n",
        "plt.legend(['loss'], loc='upper right')\n",
        "plt.ylabel('loss')\n",
        "plt.xlabel('epoch')\n",
        "plt.show()"
      ],
      "metadata": {
        "colab": {
          "base_uri": "https://localhost:8080/",
          "height": 904
        },
        "id": "Cwn07TgTPvEh",
        "outputId": "f0466b0f-798b-4014-afab-56894d127cf2"
      },
      "execution_count": 10,
      "outputs": [
        {
          "output_type": "display_data",
          "data": {
            "text/plain": [
              "<Figure size 640x480 with 1 Axes>"
            ],
            "image/png": "[encoded data removed]"
          },
          "metadata": {}
        },
        {
          "output_type": "display_data",
          "data": {
            "text/plain": [
              "<Figure size 640x480 with 1 Axes>"
            ],
            "image/png": "[encoded data removed]"
          },
          "metadata": {}
        }
      ]
    },
    {
      "cell_type": "code",
      "source": [
        "Baseline_model.evaluate(x_test, y_test)"
      ],
      "metadata": {
        "colab": {
          "base_uri": "https://localhost:8080/"
        },
        "id": "yyGH3dmnN8IR",
        "outputId": "f3fe92ef-c9f7-45a3-ecd4-2cc1b01d80c1"
      },
      "execution_count": 11,
      "outputs": [
        {
          "output_type": "stream",
          "name": "stdout",
          "text": [
            "313/313 [==============================] - 1s 3ms/step - loss: 1.6895 - accuracy: 0.6975\n"
          ]
        },
        {
          "output_type": "execute_result",
          "data": {
            "text/plain": [
              "[1.689541718513383, 0.6975]"
            ]
          },
          "metadata": {},
          "execution_count": 11
        }
      ]
    },
    {
      "cell_type": "code",
      "source": [
        "# Function for calculating the KL divergence of 2 distributions from output logit of the neural network\n",
        "def KL_divergence(p_logit, q_logit, value_min = 1e-30):\n",
        "  #Input: p_logit, q_logit : logit values\n",
        "  # value_min: to prevent log(probability) = -inf when the probability is too small\n",
        "  #Output: KL divergence of p_logit and q_logit\n",
        "      p = tf.nn.softmax(p_logit)\n",
        "      q = tf.nn.softmax(q_logit)\n",
        "      return tf.reduce_sum(p*(tf.math.log(p + value_min) - tf.math.log(q + value_min)), axis=1)\n",
        "\n",
        "\n",
        "\n",
        "# Function to obtain a unit vector\n",
        "def normalization(d):\n",
        "    #Input: d: a vector\n",
        "    #Output: an unit vector having same direction as d\n",
        "      d = d/(1e-15 + tf.reduce_max(tf.abs(d), range(1, len(d.get_shape())), keepdims=True))\n",
        "      norm_d = tf.norm(d+1e-15,axis=[1,2])\n",
        "      return (d+1e-15) / tf.reshape(norm_d, [d.shape[0],1,1])\n",
        "\n",
        "\n",
        "\n",
        "#Function for generating the data with virtual adversarial pertubation\n",
        "def generator(x, psi, epsilon):\n",
        "    #Input: x: original input data\n",
        "    # psi: small number\n",
        "    # epsilon: norm of the pertubation term\n",
        "    #Output: add the virtual adversarial pertubation back into the original input\n",
        "      r = psi * normalization(tf.random.normal(shape=tf.shape(x), dtype=tf.float64))\n",
        "      with tf.GradientTape() as tape:\n",
        "        tape.watch(r)\n",
        "        p_logit = VAT_model(x)\n",
        "        p_logit_r = VAT_model(x + r)\n",
        "        kl = tf.reduce_mean(KL_divergence(p_logit , p_logit_r))\n",
        "      grad = tape.gradient(kl, r)\n",
        "      return x + epsilon * normalization(grad)\n",
        "\n",
        "\n",
        "#Function for calculating the virtual adversarial pertubation loss\n",
        "def pertubation_loss(p_logit, p_logit_r):\n",
        "    #Input: p_logit: logit value of train data\n",
        "    # p_logit_r: logit value of train data with virtual adversarial pertubation\n",
        "    #Output: R_vadv of p_logit and p_logit_r\n",
        "      return tf.reduce_mean(KL_divergence(p_logit, p_logit_r))\n",
        "\n",
        "#Function for calculating the cross entropy loss of the labeled data\n",
        "def cross_entropy_loss(y_labeled, logit_labeled):\n",
        "    #Input: y_labled: true value of output\n",
        "    # logit_labeled: predicted logit value for labeled data\n",
        "    #Output: Categorical Cross-Entropy Loss\n",
        "      return tf.keras.losses.CategoricalCrossentropy(from_logits=True).call(y_labeled, logit_labeled)\n",
        "\n",
        "\n",
        "#Calculate the total loss of VAT\n",
        "def vat_loss(logit_p, logit_p_r, y_labeled, logit_labeled, alpha = 1):\n",
        "  #vat_loss = alpha * pertubation_loss + cross_entropy_loss\n",
        "  return pertubation_loss(logit_p, logit_p_r) * alpha + cross_entropy_loss(y_labeled, logit_labeled)"
      ],
      "metadata": {
        "id": "M9BHHSqZMDQ8"
      },
      "execution_count": 12,
      "outputs": []
    },
    {
      "cell_type": "code",
      "source": [
        "n_filters = 5\n",
        "kernel_size = 5\n",
        "pool_size = 2\n",
        "n_classes = 10\n",
        "\n",
        "VAT_model = Sequential([\n",
        "    Conv2D(n_filters,\n",
        "                  kernel_size,\n",
        "                  activation='relu',\n",
        "                  input_shape=(28, 28, 1)),\n",
        "    MaxPooling2D(pool_size=pool_size),\n",
        "    Flatten(),\n",
        "    Dense(10, activation=\"relu\"),\n",
        "    Dense(n_classes, activation='softmax')\n",
        "\n",
        "])"
      ],
      "metadata": {
        "id": "fwryEJoEa1WM"
      },
      "execution_count": 13,
      "outputs": []
    },
    {
      "cell_type": "code",
      "source": [
        "#Implement the network and setting hyperparameters for trainning\n",
        "x_train = tf.constant(x_train, dtype = tf.float64)\n",
        "x_labeled = tf.constant(x_labeled, dtype = tf.float64)\n",
        "EPOCHS = 200 #number of epochs\n",
        "BATCH_SIZE = 256\n",
        "BUFFER_SIZE = 60000\n",
        "DISPLAY_STEP = 1\n",
        "epsilon = 1e-1\n",
        "psi = 1e-6\n",
        "alpha = 2.0\n",
        "lnr = tf.keras.optimizers.schedules.PolynomialDecay(\n",
        "initial_learning_rate = 0.0001, decay_steps=100000, end_learning_rate=0.0000001, power=1.0,\n",
        "cycle=False, name=None) #learning rate\n",
        "optimizer = tf.keras.optimizers.Adam(learning_rate=lnr) #optimizer\n",
        "\n",
        "#Implement training loop\n",
        "@tf.function\n",
        "def train_step(x_train, x_labeled, y_labeled):\n",
        "  x_gen = generator(x_train, psi, epsilon) #generate virtual perturbation\n",
        "  with tf.GradientTape() as tape:\n",
        "    tape.watch(VAT_model.trainable_weights)\n",
        "    logit_p = VAT_model(x_train)\n",
        "    logit_p_r = VAT_model(x_gen)\n",
        "    logit_labeled = VAT_model(x_labeled)\n",
        "    loss = vat_loss(logit_p, logit_p_r, y_labeled, logit_labeled, alpha)\n",
        "  grad = tape.gradient(loss, VAT_model.trainable_weights)\n",
        "  #minimize total loss by updating weight parameters of the neural VAT_model\n",
        "  optimizer.apply_gradients(zip(grad, VAT_model.trainable_weights))\n",
        "\n",
        "\n",
        "#Create training batch and shuffle\n",
        "train_dataset = tf.data.Dataset.from_tensor_slices(x_train).shuffle(BUFFER_SIZE).batch(BATCH_SIZE)\n",
        "Total_loss = []\n",
        "Pertubation_loss = []\n",
        "Cross_entropy_loss = []\n",
        "Test_accuracy = []\n",
        "Epoch = []\n",
        "for epoch in tqdm(np.arange(0,EPOCHS)):\n",
        "    for image_batch in train_dataset:\n",
        "        train_step(image_batch, x_labeled, y_labeled)\n",
        "\n",
        "\n",
        "    if (epoch % DISPLAY_STEP == 0 ) or epoch == 0 or (epoch==EPOCHS-1):\n",
        "        #Calculate loss functions\n",
        "        x_gen = generator(x_train, psi, epsilon)\n",
        "        logit_p = VAT_model(x_train)\n",
        "        logit_p_r = VAT_model(x_gen)\n",
        "        logit_labeled = VAT_model(x_labeled)\n",
        "        per_loss = pertubation_loss(logit_p, logit_p_r)\n",
        "        cross_loss = cross_entropy_loss(y_labeled, logit_labeled)\n",
        "        loss = vat_loss(logit_p, logit_p_r, y_labeled, logit_labeled, alpha)\n",
        "        #Prediction on test set\n",
        "        logit_test = VAT_model(x_test)\n",
        "        test_acc = sum(np.argmax(logit_test, 1)-np.argmax(y_test,1)==0) / 10000\n",
        "        #Save perfomance\n",
        "        Epoch = np.append(Epoch, epoch)\n",
        "        Total_loss = np.append(Total_loss, loss.numpy())\n",
        "        Pertubation_loss = np.append(Pertubation_loss, per_loss.numpy())\n",
        "        Cross_entropy_loss = np.append(Cross_entropy_loss, cross_loss.numpy())\n",
        "        Test_accuracy = np.append(Test_accuracy, test_acc)\n",
        "        print(test_acc) #Print result for each epoch"
      ],
      "metadata": {
        "colab": {
          "base_uri": "https://localhost:8080/"
        },
        "id": "BxBV_Z4fMOoZ",
        "outputId": "008508d1-348b-408c-b3f6-f461f1ebc1d3"
      },
      "execution_count": 14,
      "outputs": [
        {
          "output_type": "stream",
          "name": "stderr",
          "text": [
            "\r  0%|          | 0/200 [00:00<?, ?it/s]/usr/local/lib/python3.10/dist-packages/keras/src/backend.py:5577: UserWarning: \"`categorical_crossentropy` received `from_logits=True`, but the `output` argument was produced by a Softmax activation and thus does not represent logits. Was this intended?\n",
            "  output, from_logits = _get_logits(\n",
            "  0%|          | 1/200 [00:19<1:03:35, 19.17s/it]"
          ]
        },
        {
          "output_type": "stream",
          "name": "stdout",
          "text": [
            "0.3891\n"
          ]
        },
        {
          "output_type": "stream",
          "name": "stderr",
          "text": [
            "\r  1%|          | 2/200 [00:22<33:19, 10.10s/it]  "
          ]
        },
        {
          "output_type": "stream",
          "name": "stdout",
          "text": [
            "0.5752\n"
          ]
        },
        {
          "output_type": "stream",
          "name": "stderr",
          "text": [
            "\r  2%|▏         | 3/200 [00:26<23:29,  7.15s/it]"
          ]
        },
        {
          "output_type": "stream",
          "name": "stdout",
          "text": [
            "0.7034\n"
          ]
        },
        {
          "output_type": "stream",
          "name": "stderr",
          "text": [
            "\r  2%|▏         | 4/200 [00:30<18:46,  5.75s/it]"
          ]
        },
        {
          "output_type": "stream",
          "name": "stdout",
          "text": [
            "0.7263\n"
          ]
        },
        {
          "output_type": "stream",
          "name": "stderr",
          "text": [
            "\r  2%|▎         | 5/200 [00:33<16:14,  5.00s/it]"
          ]
        },
        {
          "output_type": "stream",
          "name": "stdout",
          "text": [
            "0.7318\n"
          ]
        },
        {
          "output_type": "stream",
          "name": "stderr",
          "text": [
            "\r  3%|▎         | 6/200 [00:37<14:39,  4.53s/it]"
          ]
        },
        {
          "output_type": "stream",
          "name": "stdout",
          "text": [
            "0.7354\n"
          ]
        },
        {
          "output_type": "stream",
          "name": "stderr",
          "text": [
            "\r  4%|▎         | 7/200 [00:41<13:33,  4.21s/it]"
          ]
        },
        {
          "output_type": "stream",
          "name": "stdout",
          "text": [
            "0.7375\n"
          ]
        },
        {
          "output_type": "stream",
          "name": "stderr",
          "text": [
            "\r  4%|▍         | 8/200 [00:44<12:49,  4.01s/it]"
          ]
        },
        {
          "output_type": "stream",
          "name": "stdout",
          "text": [
            "0.739\n"
          ]
        },
        {
          "output_type": "stream",
          "name": "stderr",
          "text": [
            "\r  4%|▍         | 9/200 [00:48<12:24,  3.90s/it]"
          ]
        },
        {
          "output_type": "stream",
          "name": "stdout",
          "text": [
            "0.7397\n"
          ]
        },
        {
          "output_type": "stream",
          "name": "stderr",
          "text": [
            "\r  5%|▌         | 10/200 [00:51<12:00,  3.79s/it]"
          ]
        },
        {
          "output_type": "stream",
          "name": "stdout",
          "text": [
            "0.7401\n"
          ]
        },
        {
          "output_type": "stream",
          "name": "stderr",
          "text": [
            "\r  6%|▌         | 11/200 [00:55<11:43,  3.72s/it]"
          ]
        },
        {
          "output_type": "stream",
          "name": "stdout",
          "text": [
            "0.7407\n"
          ]
        },
        {
          "output_type": "stream",
          "name": "stderr",
          "text": [
            "\r  6%|▌         | 12/200 [00:58<11:31,  3.68s/it]"
          ]
        },
        {
          "output_type": "stream",
          "name": "stdout",
          "text": [
            "0.7419\n"
          ]
        },
        {
          "output_type": "stream",
          "name": "stderr",
          "text": [
            "\r  6%|▋         | 13/200 [01:02<11:28,  3.68s/it]"
          ]
        },
        {
          "output_type": "stream",
          "name": "stdout",
          "text": [
            "0.742\n"
          ]
        },
        {
          "output_type": "stream",
          "name": "stderr",
          "text": [
            "\r  7%|▋         | 14/200 [01:06<11:18,  3.65s/it]"
          ]
        },
        {
          "output_type": "stream",
          "name": "stdout",
          "text": [
            "0.7433\n"
          ]
        },
        {
          "output_type": "stream",
          "name": "stderr",
          "text": [
            "\r  8%|▊         | 15/200 [01:09<11:10,  3.62s/it]"
          ]
        },
        {
          "output_type": "stream",
          "name": "stdout",
          "text": [
            "0.7456\n"
          ]
        },
        {
          "output_type": "stream",
          "name": "stderr",
          "text": [
            "\r  8%|▊         | 16/200 [01:13<11:04,  3.61s/it]"
          ]
        },
        {
          "output_type": "stream",
          "name": "stdout",
          "text": [
            "0.7471\n"
          ]
        },
        {
          "output_type": "stream",
          "name": "stderr",
          "text": [
            "\r  8%|▊         | 17/200 [01:17<11:04,  3.63s/it]"
          ]
        },
        {
          "output_type": "stream",
          "name": "stdout",
          "text": [
            "0.7478\n"
          ]
        },
        {
          "output_type": "stream",
          "name": "stderr",
          "text": [
            "\r  9%|▉         | 18/200 [01:20<10:56,  3.61s/it]"
          ]
        },
        {
          "output_type": "stream",
          "name": "stdout",
          "text": [
            "0.7507\n"
          ]
        },
        {
          "output_type": "stream",
          "name": "stderr",
          "text": [
            "\r 10%|▉         | 19/200 [01:24<10:50,  3.59s/it]"
          ]
        },
        {
          "output_type": "stream",
          "name": "stdout",
          "text": [
            "0.7528\n"
          ]
        },
        {
          "output_type": "stream",
          "name": "stderr",
          "text": [
            "\r 10%|█         | 20/200 [01:27<10:54,  3.64s/it]"
          ]
        },
        {
          "output_type": "stream",
          "name": "stdout",
          "text": [
            "0.7547\n"
          ]
        },
        {
          "output_type": "stream",
          "name": "stderr",
          "text": [
            "\r 10%|█         | 21/200 [01:32<11:17,  3.79s/it]"
          ]
        },
        {
          "output_type": "stream",
          "name": "stdout",
          "text": [
            "0.7554\n"
          ]
        },
        {
          "output_type": "stream",
          "name": "stderr",
          "text": [
            "\r 11%|█         | 22/200 [01:35<11:02,  3.72s/it]"
          ]
        },
        {
          "output_type": "stream",
          "name": "stdout",
          "text": [
            "0.7582\n"
          ]
        },
        {
          "output_type": "stream",
          "name": "stderr",
          "text": [
            "\r 12%|█▏        | 23/200 [01:39<11:21,  3.85s/it]"
          ]
        },
        {
          "output_type": "stream",
          "name": "stdout",
          "text": [
            "0.7605\n"
          ]
        },
        {
          "output_type": "stream",
          "name": "stderr",
          "text": [
            "\r 12%|█▏        | 24/200 [01:43<11:08,  3.80s/it]"
          ]
        },
        {
          "output_type": "stream",
          "name": "stdout",
          "text": [
            "0.7629\n"
          ]
        },
        {
          "output_type": "stream",
          "name": "stderr",
          "text": [
            "\r 12%|█▎        | 25/200 [01:47<10:58,  3.76s/it]"
          ]
        },
        {
          "output_type": "stream",
          "name": "stdout",
          "text": [
            "0.7658\n"
          ]
        },
        {
          "output_type": "stream",
          "name": "stderr",
          "text": [
            "\r 13%|█▎        | 26/200 [01:50<10:44,  3.70s/it]"
          ]
        },
        {
          "output_type": "stream",
          "name": "stdout",
          "text": [
            "0.7672\n"
          ]
        },
        {
          "output_type": "stream",
          "name": "stderr",
          "text": [
            "\r 14%|█▎        | 27/200 [01:54<10:34,  3.67s/it]"
          ]
        },
        {
          "output_type": "stream",
          "name": "stdout",
          "text": [
            "0.771\n"
          ]
        },
        {
          "output_type": "stream",
          "name": "stderr",
          "text": [
            "\r 14%|█▍        | 28/200 [01:57<10:30,  3.66s/it]"
          ]
        },
        {
          "output_type": "stream",
          "name": "stdout",
          "text": [
            "0.7729\n"
          ]
        },
        {
          "output_type": "stream",
          "name": "stderr",
          "text": [
            "\r 14%|█▍        | 29/200 [02:01<10:21,  3.63s/it]"
          ]
        },
        {
          "output_type": "stream",
          "name": "stdout",
          "text": [
            "0.7739\n"
          ]
        },
        {
          "output_type": "stream",
          "name": "stderr",
          "text": [
            "\r 15%|█▌        | 30/200 [02:05<10:14,  3.61s/it]"
          ]
        },
        {
          "output_type": "stream",
          "name": "stdout",
          "text": [
            "0.7777\n"
          ]
        },
        {
          "output_type": "stream",
          "name": "stderr",
          "text": [
            "\r 16%|█▌        | 31/200 [02:08<10:08,  3.60s/it]"
          ]
        },
        {
          "output_type": "stream",
          "name": "stdout",
          "text": [
            "0.779\n"
          ]
        },
        {
          "output_type": "stream",
          "name": "stderr",
          "text": [
            "\r 16%|█▌        | 32/200 [02:12<10:30,  3.76s/it]"
          ]
        },
        {
          "output_type": "stream",
          "name": "stdout",
          "text": [
            "0.7806\n"
          ]
        },
        {
          "output_type": "stream",
          "name": "stderr",
          "text": [
            "\r 16%|█▋        | 33/200 [02:16<10:17,  3.70s/it]"
          ]
        },
        {
          "output_type": "stream",
          "name": "stdout",
          "text": [
            "0.7834\n"
          ]
        },
        {
          "output_type": "stream",
          "name": "stderr",
          "text": [
            "\r 17%|█▋        | 34/200 [02:19<10:06,  3.65s/it]"
          ]
        },
        {
          "output_type": "stream",
          "name": "stdout",
          "text": [
            "0.7865\n"
          ]
        },
        {
          "output_type": "stream",
          "name": "stderr",
          "text": [
            "\r 18%|█▊        | 35/200 [02:23<10:01,  3.65s/it]"
          ]
        },
        {
          "output_type": "stream",
          "name": "stdout",
          "text": [
            "0.7889\n"
          ]
        },
        {
          "output_type": "stream",
          "name": "stderr",
          "text": [
            "\r 18%|█▊        | 36/200 [02:27<09:58,  3.65s/it]"
          ]
        },
        {
          "output_type": "stream",
          "name": "stdout",
          "text": [
            "0.7897\n"
          ]
        },
        {
          "output_type": "stream",
          "name": "stderr",
          "text": [
            "\r 18%|█▊        | 37/200 [02:30<09:50,  3.62s/it]"
          ]
        },
        {
          "output_type": "stream",
          "name": "stdout",
          "text": [
            "0.7903\n"
          ]
        },
        {
          "output_type": "stream",
          "name": "stderr",
          "text": [
            "\r 19%|█▉        | 38/200 [02:34<09:43,  3.60s/it]"
          ]
        },
        {
          "output_type": "stream",
          "name": "stdout",
          "text": [
            "0.7941\n"
          ]
        },
        {
          "output_type": "stream",
          "name": "stderr",
          "text": [
            "\r 20%|█▉        | 39/200 [02:37<09:42,  3.62s/it]"
          ]
        },
        {
          "output_type": "stream",
          "name": "stdout",
          "text": [
            "0.7933\n"
          ]
        },
        {
          "output_type": "stream",
          "name": "stderr",
          "text": [
            "\r 20%|██        | 40/200 [02:41<09:38,  3.62s/it]"
          ]
        },
        {
          "output_type": "stream",
          "name": "stdout",
          "text": [
            "0.7972\n"
          ]
        },
        {
          "output_type": "stream",
          "name": "stderr",
          "text": [
            "\r 20%|██        | 41/200 [02:45<09:32,  3.60s/it]"
          ]
        },
        {
          "output_type": "stream",
          "name": "stdout",
          "text": [
            "0.7977\n"
          ]
        },
        {
          "output_type": "stream",
          "name": "stderr",
          "text": [
            "\r 21%|██        | 42/200 [02:48<09:27,  3.59s/it]"
          ]
        },
        {
          "output_type": "stream",
          "name": "stdout",
          "text": [
            "0.7992\n"
          ]
        },
        {
          "output_type": "stream",
          "name": "stderr",
          "text": [
            "\r 22%|██▏       | 43/200 [02:52<09:29,  3.63s/it]"
          ]
        },
        {
          "output_type": "stream",
          "name": "stdout",
          "text": [
            "0.8027\n"
          ]
        },
        {
          "output_type": "stream",
          "name": "stderr",
          "text": [
            "\r 22%|██▏       | 44/200 [02:55<09:22,  3.61s/it]"
          ]
        },
        {
          "output_type": "stream",
          "name": "stdout",
          "text": [
            "0.8021\n"
          ]
        },
        {
          "output_type": "stream",
          "name": "stderr",
          "text": [
            "\r 22%|██▎       | 45/200 [02:59<09:16,  3.59s/it]"
          ]
        },
        {
          "output_type": "stream",
          "name": "stdout",
          "text": [
            "0.8053\n"
          ]
        },
        {
          "output_type": "stream",
          "name": "stderr",
          "text": [
            "\r 23%|██▎       | 46/200 [03:03<09:12,  3.59s/it]"
          ]
        },
        {
          "output_type": "stream",
          "name": "stdout",
          "text": [
            "0.8055\n"
          ]
        },
        {
          "output_type": "stream",
          "name": "stderr",
          "text": [
            "\r 24%|██▎       | 47/200 [03:06<09:13,  3.62s/it]"
          ]
        },
        {
          "output_type": "stream",
          "name": "stdout",
          "text": [
            "0.8078\n"
          ]
        },
        {
          "output_type": "stream",
          "name": "stderr",
          "text": [
            "\r 24%|██▍       | 48/200 [03:10<09:08,  3.61s/it]"
          ]
        },
        {
          "output_type": "stream",
          "name": "stdout",
          "text": [
            "0.8101\n"
          ]
        },
        {
          "output_type": "stream",
          "name": "stderr",
          "text": [
            "\r 24%|██▍       | 49/200 [03:13<09:02,  3.59s/it]"
          ]
        },
        {
          "output_type": "stream",
          "name": "stdout",
          "text": [
            "0.809\n"
          ]
        },
        {
          "output_type": "stream",
          "name": "stderr",
          "text": [
            "\r 25%|██▌       | 50/200 [03:17<09:00,  3.61s/it]"
          ]
        },
        {
          "output_type": "stream",
          "name": "stdout",
          "text": [
            "0.8114\n"
          ]
        },
        {
          "output_type": "stream",
          "name": "stderr",
          "text": [
            "\r 26%|██▌       | 51/200 [03:21<08:58,  3.62s/it]"
          ]
        },
        {
          "output_type": "stream",
          "name": "stdout",
          "text": [
            "0.8128\n"
          ]
        },
        {
          "output_type": "stream",
          "name": "stderr",
          "text": [
            "\r 26%|██▌       | 52/200 [03:24<08:53,  3.60s/it]"
          ]
        },
        {
          "output_type": "stream",
          "name": "stdout",
          "text": [
            "0.8144\n"
          ]
        },
        {
          "output_type": "stream",
          "name": "stderr",
          "text": [
            "\r 26%|██▋       | 53/200 [03:28<08:48,  3.60s/it]"
          ]
        },
        {
          "output_type": "stream",
          "name": "stdout",
          "text": [
            "0.8169\n"
          ]
        },
        {
          "output_type": "stream",
          "name": "stderr",
          "text": [
            "\r 27%|██▋       | 54/200 [03:31<08:47,  3.61s/it]"
          ]
        },
        {
          "output_type": "stream",
          "name": "stdout",
          "text": [
            "0.8178\n"
          ]
        },
        {
          "output_type": "stream",
          "name": "stderr",
          "text": [
            "\r 28%|██▊       | 55/200 [03:35<08:43,  3.61s/it]"
          ]
        },
        {
          "output_type": "stream",
          "name": "stdout",
          "text": [
            "0.8178\n"
          ]
        },
        {
          "output_type": "stream",
          "name": "stderr",
          "text": [
            "\r 28%|██▊       | 56/200 [03:39<08:38,  3.60s/it]"
          ]
        },
        {
          "output_type": "stream",
          "name": "stdout",
          "text": [
            "0.8185\n"
          ]
        },
        {
          "output_type": "stream",
          "name": "stderr",
          "text": [
            "\r 28%|██▊       | 57/200 [03:42<08:33,  3.59s/it]"
          ]
        },
        {
          "output_type": "stream",
          "name": "stdout",
          "text": [
            "0.8192\n"
          ]
        },
        {
          "output_type": "stream",
          "name": "stderr",
          "text": [
            "\r 29%|██▉       | 58/200 [03:46<08:34,  3.62s/it]"
          ]
        },
        {
          "output_type": "stream",
          "name": "stdout",
          "text": [
            "0.8209\n"
          ]
        },
        {
          "output_type": "stream",
          "name": "stderr",
          "text": [
            "\r 30%|██▉       | 59/200 [03:49<08:28,  3.61s/it]"
          ]
        },
        {
          "output_type": "stream",
          "name": "stdout",
          "text": [
            "0.8231\n"
          ]
        },
        {
          "output_type": "stream",
          "name": "stderr",
          "text": [
            "\r 30%|███       | 60/200 [03:53<08:22,  3.59s/it]"
          ]
        },
        {
          "output_type": "stream",
          "name": "stdout",
          "text": [
            "0.8261\n"
          ]
        },
        {
          "output_type": "stream",
          "name": "stderr",
          "text": [
            "\r 30%|███       | 61/200 [03:57<08:18,  3.59s/it]"
          ]
        },
        {
          "output_type": "stream",
          "name": "stdout",
          "text": [
            "0.8248\n"
          ]
        },
        {
          "output_type": "stream",
          "name": "stderr",
          "text": [
            "\r 31%|███       | 62/200 [04:00<08:18,  3.61s/it]"
          ]
        },
        {
          "output_type": "stream",
          "name": "stdout",
          "text": [
            "0.8251\n"
          ]
        },
        {
          "output_type": "stream",
          "name": "stderr",
          "text": [
            "\r 32%|███▏      | 63/200 [04:04<08:12,  3.60s/it]"
          ]
        },
        {
          "output_type": "stream",
          "name": "stdout",
          "text": [
            "0.8259\n"
          ]
        },
        {
          "output_type": "stream",
          "name": "stderr",
          "text": [
            "\r 32%|███▏      | 64/200 [04:07<08:07,  3.59s/it]"
          ]
        },
        {
          "output_type": "stream",
          "name": "stdout",
          "text": [
            "0.8286\n"
          ]
        },
        {
          "output_type": "stream",
          "name": "stderr",
          "text": [
            "\r 32%|███▎      | 65/200 [04:11<08:05,  3.60s/it]"
          ]
        },
        {
          "output_type": "stream",
          "name": "stdout",
          "text": [
            "0.829\n"
          ]
        },
        {
          "output_type": "stream",
          "name": "stderr",
          "text": [
            "\r 33%|███▎      | 66/200 [04:15<08:02,  3.60s/it]"
          ]
        },
        {
          "output_type": "stream",
          "name": "stdout",
          "text": [
            "0.8303\n"
          ]
        },
        {
          "output_type": "stream",
          "name": "stderr",
          "text": [
            "\r 34%|███▎      | 67/200 [04:18<07:57,  3.59s/it]"
          ]
        },
        {
          "output_type": "stream",
          "name": "stdout",
          "text": [
            "0.8315\n"
          ]
        },
        {
          "output_type": "stream",
          "name": "stderr",
          "text": [
            "\r 34%|███▍      | 68/200 [04:22<07:52,  3.58s/it]"
          ]
        },
        {
          "output_type": "stream",
          "name": "stdout",
          "text": [
            "0.8314\n"
          ]
        },
        {
          "output_type": "stream",
          "name": "stderr",
          "text": [
            "\r 34%|███▍      | 69/200 [04:25<07:51,  3.60s/it]"
          ]
        },
        {
          "output_type": "stream",
          "name": "stdout",
          "text": [
            "0.8331\n"
          ]
        },
        {
          "output_type": "stream",
          "name": "stderr",
          "text": [
            "\r 35%|███▌      | 70/200 [04:29<07:47,  3.60s/it]"
          ]
        },
        {
          "output_type": "stream",
          "name": "stdout",
          "text": [
            "0.8335\n"
          ]
        },
        {
          "output_type": "stream",
          "name": "stderr",
          "text": [
            "\r 36%|███▌      | 71/200 [04:33<07:42,  3.59s/it]"
          ]
        },
        {
          "output_type": "stream",
          "name": "stdout",
          "text": [
            "0.8346\n"
          ]
        },
        {
          "output_type": "stream",
          "name": "stderr",
          "text": [
            "\r 36%|███▌      | 72/200 [04:36<07:38,  3.58s/it]"
          ]
        },
        {
          "output_type": "stream",
          "name": "stdout",
          "text": [
            "0.8352\n"
          ]
        },
        {
          "output_type": "stream",
          "name": "stderr",
          "text": [
            "\r 36%|███▋      | 73/200 [04:40<07:39,  3.62s/it]"
          ]
        },
        {
          "output_type": "stream",
          "name": "stdout",
          "text": [
            "0.8353\n"
          ]
        },
        {
          "output_type": "stream",
          "name": "stderr",
          "text": [
            "\r 37%|███▋      | 74/200 [04:43<07:33,  3.60s/it]"
          ]
        },
        {
          "output_type": "stream",
          "name": "stdout",
          "text": [
            "0.8362\n"
          ]
        },
        {
          "output_type": "stream",
          "name": "stderr",
          "text": [
            "\r 38%|███▊      | 75/200 [04:47<07:29,  3.59s/it]"
          ]
        },
        {
          "output_type": "stream",
          "name": "stdout",
          "text": [
            "0.8367\n"
          ]
        },
        {
          "output_type": "stream",
          "name": "stderr",
          "text": [
            "\r 38%|███▊      | 76/200 [04:51<07:24,  3.59s/it]"
          ]
        },
        {
          "output_type": "stream",
          "name": "stdout",
          "text": [
            "0.8373\n"
          ]
        },
        {
          "output_type": "stream",
          "name": "stderr",
          "text": [
            "\r 38%|███▊      | 77/200 [04:54<07:23,  3.61s/it]"
          ]
        },
        {
          "output_type": "stream",
          "name": "stdout",
          "text": [
            "0.8385\n"
          ]
        },
        {
          "output_type": "stream",
          "name": "stderr",
          "text": [
            "\r 39%|███▉      | 78/200 [04:58<07:18,  3.59s/it]"
          ]
        },
        {
          "output_type": "stream",
          "name": "stdout",
          "text": [
            "0.8407\n"
          ]
        },
        {
          "output_type": "stream",
          "name": "stderr",
          "text": [
            "\r 40%|███▉      | 79/200 [05:01<07:13,  3.59s/it]"
          ]
        },
        {
          "output_type": "stream",
          "name": "stdout",
          "text": [
            "0.8396\n"
          ]
        },
        {
          "output_type": "stream",
          "name": "stderr",
          "text": [
            "\r 40%|████      | 80/200 [05:05<07:10,  3.59s/it]"
          ]
        },
        {
          "output_type": "stream",
          "name": "stdout",
          "text": [
            "0.8416\n"
          ]
        },
        {
          "output_type": "stream",
          "name": "stderr",
          "text": [
            "\r 40%|████      | 81/200 [05:09<07:08,  3.60s/it]"
          ]
        },
        {
          "output_type": "stream",
          "name": "stdout",
          "text": [
            "0.8415\n"
          ]
        },
        {
          "output_type": "stream",
          "name": "stderr",
          "text": [
            "\r 41%|████      | 82/200 [05:12<07:03,  3.59s/it]"
          ]
        },
        {
          "output_type": "stream",
          "name": "stdout",
          "text": [
            "0.8442\n"
          ]
        },
        {
          "output_type": "stream",
          "name": "stderr",
          "text": [
            "\r 42%|████▏     | 83/200 [05:16<06:58,  3.58s/it]"
          ]
        },
        {
          "output_type": "stream",
          "name": "stdout",
          "text": [
            "0.8443\n"
          ]
        },
        {
          "output_type": "stream",
          "name": "stderr",
          "text": [
            "\r 42%|████▏     | 84/200 [05:19<06:56,  3.59s/it]"
          ]
        },
        {
          "output_type": "stream",
          "name": "stdout",
          "text": [
            "0.8444\n"
          ]
        },
        {
          "output_type": "stream",
          "name": "stderr",
          "text": [
            "\r 42%|████▎     | 85/200 [05:23<06:54,  3.60s/it]"
          ]
        },
        {
          "output_type": "stream",
          "name": "stdout",
          "text": [
            "0.8452\n"
          ]
        },
        {
          "output_type": "stream",
          "name": "stderr",
          "text": [
            "\r 43%|████▎     | 86/200 [05:26<06:49,  3.59s/it]"
          ]
        },
        {
          "output_type": "stream",
          "name": "stdout",
          "text": [
            "0.8462\n"
          ]
        },
        {
          "output_type": "stream",
          "name": "stderr",
          "text": [
            "\r 44%|████▎     | 87/200 [05:30<06:45,  3.59s/it]"
          ]
        },
        {
          "output_type": "stream",
          "name": "stdout",
          "text": [
            "0.8463\n"
          ]
        },
        {
          "output_type": "stream",
          "name": "stderr",
          "text": [
            "\r 44%|████▍     | 88/200 [05:34<07:00,  3.75s/it]"
          ]
        },
        {
          "output_type": "stream",
          "name": "stdout",
          "text": [
            "0.8464\n"
          ]
        },
        {
          "output_type": "stream",
          "name": "stderr",
          "text": [
            "\r 44%|████▍     | 89/200 [05:38<06:55,  3.74s/it]"
          ]
        },
        {
          "output_type": "stream",
          "name": "stdout",
          "text": [
            "0.8467\n"
          ]
        },
        {
          "output_type": "stream",
          "name": "stderr",
          "text": [
            "\r 45%|████▌     | 90/200 [05:41<06:45,  3.68s/it]"
          ]
        },
        {
          "output_type": "stream",
          "name": "stdout",
          "text": [
            "0.8473\n"
          ]
        },
        {
          "output_type": "stream",
          "name": "stderr",
          "text": [
            "\r 46%|████▌     | 91/200 [05:45<06:38,  3.66s/it]"
          ]
        },
        {
          "output_type": "stream",
          "name": "stdout",
          "text": [
            "0.8486\n"
          ]
        },
        {
          "output_type": "stream",
          "name": "stderr",
          "text": [
            "\r 46%|████▌     | 92/200 [05:49<06:35,  3.66s/it]"
          ]
        },
        {
          "output_type": "stream",
          "name": "stdout",
          "text": [
            "0.8504\n"
          ]
        },
        {
          "output_type": "stream",
          "name": "stderr",
          "text": [
            "\r 46%|████▋     | 93/200 [05:52<06:28,  3.63s/it]"
          ]
        },
        {
          "output_type": "stream",
          "name": "stdout",
          "text": [
            "0.847\n"
          ]
        },
        {
          "output_type": "stream",
          "name": "stderr",
          "text": [
            "\r 47%|████▋     | 94/200 [05:56<06:22,  3.61s/it]"
          ]
        },
        {
          "output_type": "stream",
          "name": "stdout",
          "text": [
            "0.8486\n"
          ]
        },
        {
          "output_type": "stream",
          "name": "stderr",
          "text": [
            "\r 48%|████▊     | 95/200 [05:59<06:18,  3.61s/it]"
          ]
        },
        {
          "output_type": "stream",
          "name": "stdout",
          "text": [
            "0.8482\n"
          ]
        },
        {
          "output_type": "stream",
          "name": "stderr",
          "text": [
            "\r 48%|████▊     | 96/200 [06:03<06:17,  3.63s/it]"
          ]
        },
        {
          "output_type": "stream",
          "name": "stdout",
          "text": [
            "0.8505\n"
          ]
        },
        {
          "output_type": "stream",
          "name": "stderr",
          "text": [
            "\r 48%|████▊     | 97/200 [06:07<06:12,  3.61s/it]"
          ]
        },
        {
          "output_type": "stream",
          "name": "stdout",
          "text": [
            "0.8511\n"
          ]
        },
        {
          "output_type": "stream",
          "name": "stderr",
          "text": [
            "\r 49%|████▉     | 98/200 [06:10<06:06,  3.60s/it]"
          ]
        },
        {
          "output_type": "stream",
          "name": "stdout",
          "text": [
            "0.8518\n"
          ]
        },
        {
          "output_type": "stream",
          "name": "stderr",
          "text": [
            "\r 50%|████▉     | 99/200 [06:14<06:04,  3.61s/it]"
          ]
        },
        {
          "output_type": "stream",
          "name": "stdout",
          "text": [
            "0.8532\n"
          ]
        },
        {
          "output_type": "stream",
          "name": "stderr",
          "text": [
            "\r 50%|█████     | 100/200 [06:18<06:01,  3.61s/it]"
          ]
        },
        {
          "output_type": "stream",
          "name": "stdout",
          "text": [
            "0.8502\n"
          ]
        },
        {
          "output_type": "stream",
          "name": "stderr",
          "text": [
            "\r 50%|█████     | 101/200 [06:21<05:56,  3.60s/it]"
          ]
        },
        {
          "output_type": "stream",
          "name": "stdout",
          "text": [
            "0.8515\n"
          ]
        },
        {
          "output_type": "stream",
          "name": "stderr",
          "text": [
            "\r 51%|█████     | 102/200 [06:25<05:51,  3.58s/it]"
          ]
        },
        {
          "output_type": "stream",
          "name": "stdout",
          "text": [
            "0.8518\n"
          ]
        },
        {
          "output_type": "stream",
          "name": "stderr",
          "text": [
            "\r 52%|█████▏    | 103/200 [06:28<05:49,  3.61s/it]"
          ]
        },
        {
          "output_type": "stream",
          "name": "stdout",
          "text": [
            "0.8537\n"
          ]
        },
        {
          "output_type": "stream",
          "name": "stderr",
          "text": [
            "\r 52%|█████▏    | 104/200 [06:32<05:45,  3.59s/it]"
          ]
        },
        {
          "output_type": "stream",
          "name": "stdout",
          "text": [
            "0.853\n"
          ]
        },
        {
          "output_type": "stream",
          "name": "stderr",
          "text": [
            "\r 52%|█████▎    | 105/200 [06:35<05:40,  3.58s/it]"
          ]
        },
        {
          "output_type": "stream",
          "name": "stdout",
          "text": [
            "0.854\n"
          ]
        },
        {
          "output_type": "stream",
          "name": "stderr",
          "text": [
            "\r 53%|█████▎    | 106/200 [06:39<05:36,  3.58s/it]"
          ]
        },
        {
          "output_type": "stream",
          "name": "stdout",
          "text": [
            "0.8536\n"
          ]
        },
        {
          "output_type": "stream",
          "name": "stderr",
          "text": [
            "\r 54%|█████▎    | 107/200 [06:43<05:35,  3.61s/it]"
          ]
        },
        {
          "output_type": "stream",
          "name": "stdout",
          "text": [
            "0.8513\n"
          ]
        },
        {
          "output_type": "stream",
          "name": "stderr",
          "text": [
            "\r 54%|█████▍    | 108/200 [06:46<05:30,  3.60s/it]"
          ]
        },
        {
          "output_type": "stream",
          "name": "stdout",
          "text": [
            "0.8543\n"
          ]
        },
        {
          "output_type": "stream",
          "name": "stderr",
          "text": [
            "\r 55%|█████▍    | 109/200 [06:50<05:26,  3.59s/it]"
          ]
        },
        {
          "output_type": "stream",
          "name": "stdout",
          "text": [
            "0.8541\n"
          ]
        },
        {
          "output_type": "stream",
          "name": "stderr",
          "text": [
            "\r 55%|█████▌    | 110/200 [06:53<05:22,  3.58s/it]"
          ]
        },
        {
          "output_type": "stream",
          "name": "stdout",
          "text": [
            "0.8534\n"
          ]
        },
        {
          "output_type": "stream",
          "name": "stderr",
          "text": [
            "\r 56%|█████▌    | 111/200 [06:57<05:21,  3.61s/it]"
          ]
        },
        {
          "output_type": "stream",
          "name": "stdout",
          "text": [
            "0.8544\n"
          ]
        },
        {
          "output_type": "stream",
          "name": "stderr",
          "text": [
            "\r 56%|█████▌    | 112/200 [07:01<05:16,  3.60s/it]"
          ]
        },
        {
          "output_type": "stream",
          "name": "stdout",
          "text": [
            "0.8573\n"
          ]
        },
        {
          "output_type": "stream",
          "name": "stderr",
          "text": [
            "\r 56%|█████▋    | 113/200 [07:04<05:11,  3.59s/it]"
          ]
        },
        {
          "output_type": "stream",
          "name": "stdout",
          "text": [
            "0.8555\n"
          ]
        },
        {
          "output_type": "stream",
          "name": "stderr",
          "text": [
            "\r 57%|█████▋    | 114/200 [07:08<05:08,  3.59s/it]"
          ]
        },
        {
          "output_type": "stream",
          "name": "stdout",
          "text": [
            "0.8537\n"
          ]
        },
        {
          "output_type": "stream",
          "name": "stderr",
          "text": [
            "\r 57%|█████▊    | 115/200 [07:11<05:06,  3.61s/it]"
          ]
        },
        {
          "output_type": "stream",
          "name": "stdout",
          "text": [
            "0.8568\n"
          ]
        },
        {
          "output_type": "stream",
          "name": "stderr",
          "text": [
            "\r 58%|█████▊    | 116/200 [07:15<05:01,  3.59s/it]"
          ]
        },
        {
          "output_type": "stream",
          "name": "stdout",
          "text": [
            "0.8569\n"
          ]
        },
        {
          "output_type": "stream",
          "name": "stderr",
          "text": [
            "\r 58%|█████▊    | 117/200 [07:19<04:57,  3.58s/it]"
          ]
        },
        {
          "output_type": "stream",
          "name": "stdout",
          "text": [
            "0.8567\n"
          ]
        },
        {
          "output_type": "stream",
          "name": "stderr",
          "text": [
            "\r 59%|█████▉    | 118/200 [07:22<04:54,  3.59s/it]"
          ]
        },
        {
          "output_type": "stream",
          "name": "stdout",
          "text": [
            "0.8562\n"
          ]
        },
        {
          "output_type": "stream",
          "name": "stderr",
          "text": [
            "\r 60%|█████▉    | 119/200 [07:26<04:50,  3.59s/it]"
          ]
        },
        {
          "output_type": "stream",
          "name": "stdout",
          "text": [
            "0.858\n"
          ]
        },
        {
          "output_type": "stream",
          "name": "stderr",
          "text": [
            "\r 60%|██████    | 120/200 [07:29<04:46,  3.58s/it]"
          ]
        },
        {
          "output_type": "stream",
          "name": "stdout",
          "text": [
            "0.8572\n"
          ]
        },
        {
          "output_type": "stream",
          "name": "stderr",
          "text": [
            "\r 60%|██████    | 121/200 [07:33<04:42,  3.58s/it]"
          ]
        },
        {
          "output_type": "stream",
          "name": "stdout",
          "text": [
            "0.8577\n"
          ]
        },
        {
          "output_type": "stream",
          "name": "stderr",
          "text": [
            "\r 61%|██████    | 122/200 [07:37<04:51,  3.74s/it]"
          ]
        },
        {
          "output_type": "stream",
          "name": "stdout",
          "text": [
            "0.8587\n"
          ]
        },
        {
          "output_type": "stream",
          "name": "stderr",
          "text": [
            "\r 62%|██████▏   | 123/200 [07:41<04:44,  3.70s/it]"
          ]
        },
        {
          "output_type": "stream",
          "name": "stdout",
          "text": [
            "0.8581\n"
          ]
        },
        {
          "output_type": "stream",
          "name": "stderr",
          "text": [
            "\r 62%|██████▏   | 124/200 [07:44<04:37,  3.65s/it]"
          ]
        },
        {
          "output_type": "stream",
          "name": "stdout",
          "text": [
            "0.8581\n"
          ]
        },
        {
          "output_type": "stream",
          "name": "stderr",
          "text": [
            "\r 62%|██████▎   | 125/200 [07:48<04:33,  3.64s/it]"
          ]
        },
        {
          "output_type": "stream",
          "name": "stdout",
          "text": [
            "0.8595\n"
          ]
        },
        {
          "output_type": "stream",
          "name": "stderr",
          "text": [
            "\r 63%|██████▎   | 126/200 [07:51<04:29,  3.64s/it]"
          ]
        },
        {
          "output_type": "stream",
          "name": "stdout",
          "text": [
            "0.8593\n"
          ]
        },
        {
          "output_type": "stream",
          "name": "stderr",
          "text": [
            "\r 64%|██████▎   | 127/200 [07:55<04:23,  3.61s/it]"
          ]
        },
        {
          "output_type": "stream",
          "name": "stdout",
          "text": [
            "0.8586\n"
          ]
        },
        {
          "output_type": "stream",
          "name": "stderr",
          "text": [
            "\r 64%|██████▍   | 128/200 [07:58<04:18,  3.59s/it]"
          ]
        },
        {
          "output_type": "stream",
          "name": "stdout",
          "text": [
            "0.8585\n"
          ]
        },
        {
          "output_type": "stream",
          "name": "stderr",
          "text": [
            "\r 64%|██████▍   | 129/200 [08:02<04:15,  3.60s/it]"
          ]
        },
        {
          "output_type": "stream",
          "name": "stdout",
          "text": [
            "0.8589\n"
          ]
        },
        {
          "output_type": "stream",
          "name": "stderr",
          "text": [
            "\r 65%|██████▌   | 130/200 [08:06<04:11,  3.60s/it]"
          ]
        },
        {
          "output_type": "stream",
          "name": "stdout",
          "text": [
            "0.8606\n"
          ]
        },
        {
          "output_type": "stream",
          "name": "stderr",
          "text": [
            "\r 66%|██████▌   | 131/200 [08:09<04:07,  3.58s/it]"
          ]
        },
        {
          "output_type": "stream",
          "name": "stdout",
          "text": [
            "0.86\n"
          ]
        },
        {
          "output_type": "stream",
          "name": "stderr",
          "text": [
            "\r 66%|██████▌   | 132/200 [08:13<04:03,  3.58s/it]"
          ]
        },
        {
          "output_type": "stream",
          "name": "stdout",
          "text": [
            "0.8616\n"
          ]
        },
        {
          "output_type": "stream",
          "name": "stderr",
          "text": [
            "\r 66%|██████▋   | 133/200 [08:17<04:10,  3.74s/it]"
          ]
        },
        {
          "output_type": "stream",
          "name": "stdout",
          "text": [
            "0.8615\n"
          ]
        },
        {
          "output_type": "stream",
          "name": "stderr",
          "text": [
            "\r 67%|██████▋   | 134/200 [08:20<04:02,  3.68s/it]"
          ]
        },
        {
          "output_type": "stream",
          "name": "stdout",
          "text": [
            "0.8617\n"
          ]
        },
        {
          "output_type": "stream",
          "name": "stderr",
          "text": [
            "\r 68%|██████▊   | 135/200 [08:24<03:56,  3.64s/it]"
          ]
        },
        {
          "output_type": "stream",
          "name": "stdout",
          "text": [
            "0.8623\n"
          ]
        },
        {
          "output_type": "stream",
          "name": "stderr",
          "text": [
            "\r 68%|██████▊   | 136/200 [08:28<04:02,  3.78s/it]"
          ]
        },
        {
          "output_type": "stream",
          "name": "stdout",
          "text": [
            "0.8619\n"
          ]
        },
        {
          "output_type": "stream",
          "name": "stderr",
          "text": [
            "\r 68%|██████▊   | 137/200 [08:32<03:55,  3.73s/it]"
          ]
        },
        {
          "output_type": "stream",
          "name": "stdout",
          "text": [
            "0.8628\n"
          ]
        },
        {
          "output_type": "stream",
          "name": "stderr",
          "text": [
            "\r 69%|██████▉   | 138/200 [08:35<03:48,  3.68s/it]"
          ]
        },
        {
          "output_type": "stream",
          "name": "stdout",
          "text": [
            "0.8613\n"
          ]
        },
        {
          "output_type": "stream",
          "name": "stderr",
          "text": [
            "\r 70%|██████▉   | 139/200 [08:39<03:42,  3.64s/it]"
          ]
        },
        {
          "output_type": "stream",
          "name": "stdout",
          "text": [
            "0.8629\n"
          ]
        },
        {
          "output_type": "stream",
          "name": "stderr",
          "text": [
            "\r 70%|███████   | 140/200 [08:42<03:38,  3.64s/it]"
          ]
        },
        {
          "output_type": "stream",
          "name": "stdout",
          "text": [
            "0.8621\n"
          ]
        },
        {
          "output_type": "stream",
          "name": "stderr",
          "text": [
            "\r 70%|███████   | 141/200 [08:46<03:33,  3.62s/it]"
          ]
        },
        {
          "output_type": "stream",
          "name": "stdout",
          "text": [
            "0.8613\n"
          ]
        },
        {
          "output_type": "stream",
          "name": "stderr",
          "text": [
            "\r 71%|███████   | 142/200 [08:50<03:28,  3.60s/it]"
          ]
        },
        {
          "output_type": "stream",
          "name": "stdout",
          "text": [
            "0.863\n"
          ]
        },
        {
          "output_type": "stream",
          "name": "stderr",
          "text": [
            "\r 72%|███████▏  | 143/200 [08:53<03:24,  3.59s/it]"
          ]
        },
        {
          "output_type": "stream",
          "name": "stdout",
          "text": [
            "0.862\n"
          ]
        },
        {
          "output_type": "stream",
          "name": "stderr",
          "text": [
            "\r 72%|███████▏  | 144/200 [08:57<03:21,  3.61s/it]"
          ]
        },
        {
          "output_type": "stream",
          "name": "stdout",
          "text": [
            "0.8626\n"
          ]
        },
        {
          "output_type": "stream",
          "name": "stderr",
          "text": [
            "\r 72%|███████▎  | 145/200 [09:00<03:17,  3.59s/it]"
          ]
        },
        {
          "output_type": "stream",
          "name": "stdout",
          "text": [
            "0.8638\n"
          ]
        },
        {
          "output_type": "stream",
          "name": "stderr",
          "text": [
            "\r 73%|███████▎  | 146/200 [09:04<03:13,  3.58s/it]"
          ]
        },
        {
          "output_type": "stream",
          "name": "stdout",
          "text": [
            "0.863\n"
          ]
        },
        {
          "output_type": "stream",
          "name": "stderr",
          "text": [
            "\r 74%|███████▎  | 147/200 [09:07<03:09,  3.57s/it]"
          ]
        },
        {
          "output_type": "stream",
          "name": "stdout",
          "text": [
            "0.8635\n"
          ]
        },
        {
          "output_type": "stream",
          "name": "stderr",
          "text": [
            "\r 74%|███████▍  | 148/200 [09:11<03:06,  3.59s/it]"
          ]
        },
        {
          "output_type": "stream",
          "name": "stdout",
          "text": [
            "0.8633\n"
          ]
        },
        {
          "output_type": "stream",
          "name": "stderr",
          "text": [
            "\r 74%|███████▍  | 149/200 [09:15<03:02,  3.58s/it]"
          ]
        },
        {
          "output_type": "stream",
          "name": "stdout",
          "text": [
            "0.8638\n"
          ]
        },
        {
          "output_type": "stream",
          "name": "stderr",
          "text": [
            "\r 75%|███████▌  | 150/200 [09:18<02:58,  3.57s/it]"
          ]
        },
        {
          "output_type": "stream",
          "name": "stdout",
          "text": [
            "0.8653\n"
          ]
        },
        {
          "output_type": "stream",
          "name": "stderr",
          "text": [
            "\r 76%|███████▌  | 151/200 [09:22<02:55,  3.58s/it]"
          ]
        },
        {
          "output_type": "stream",
          "name": "stdout",
          "text": [
            "0.8649\n"
          ]
        },
        {
          "output_type": "stream",
          "name": "stderr",
          "text": [
            "\r 76%|███████▌  | 152/200 [09:25<02:52,  3.59s/it]"
          ]
        },
        {
          "output_type": "stream",
          "name": "stdout",
          "text": [
            "0.8652\n"
          ]
        },
        {
          "output_type": "stream",
          "name": "stderr",
          "text": [
            "\r 76%|███████▋  | 153/200 [09:29<02:48,  3.58s/it]"
          ]
        },
        {
          "output_type": "stream",
          "name": "stdout",
          "text": [
            "0.8653\n"
          ]
        },
        {
          "output_type": "stream",
          "name": "stderr",
          "text": [
            "\r 77%|███████▋  | 154/200 [09:33<02:44,  3.58s/it]"
          ]
        },
        {
          "output_type": "stream",
          "name": "stdout",
          "text": [
            "0.8649\n"
          ]
        },
        {
          "output_type": "stream",
          "name": "stderr",
          "text": [
            "\r 78%|███████▊  | 155/200 [09:36<02:41,  3.59s/it]"
          ]
        },
        {
          "output_type": "stream",
          "name": "stdout",
          "text": [
            "0.8664\n"
          ]
        },
        {
          "output_type": "stream",
          "name": "stderr",
          "text": [
            "\r 78%|███████▊  | 156/200 [09:40<02:38,  3.61s/it]"
          ]
        },
        {
          "output_type": "stream",
          "name": "stdout",
          "text": [
            "0.8658\n"
          ]
        },
        {
          "output_type": "stream",
          "name": "stderr",
          "text": [
            "\r 78%|███████▊  | 157/200 [09:43<02:35,  3.62s/it]"
          ]
        },
        {
          "output_type": "stream",
          "name": "stdout",
          "text": [
            "0.865\n"
          ]
        },
        {
          "output_type": "stream",
          "name": "stderr",
          "text": [
            "\r 79%|███████▉  | 158/200 [09:47<02:31,  3.61s/it]"
          ]
        },
        {
          "output_type": "stream",
          "name": "stdout",
          "text": [
            "0.8647\n"
          ]
        },
        {
          "output_type": "stream",
          "name": "stderr",
          "text": [
            "\r 80%|███████▉  | 159/200 [09:51<02:28,  3.63s/it]"
          ]
        },
        {
          "output_type": "stream",
          "name": "stdout",
          "text": [
            "0.8676\n"
          ]
        },
        {
          "output_type": "stream",
          "name": "stderr",
          "text": [
            "\r 80%|████████  | 160/200 [09:54<02:24,  3.60s/it]"
          ]
        },
        {
          "output_type": "stream",
          "name": "stdout",
          "text": [
            "0.8674\n"
          ]
        },
        {
          "output_type": "stream",
          "name": "stderr",
          "text": [
            "\r 80%|████████  | 161/200 [09:58<02:19,  3.58s/it]"
          ]
        },
        {
          "output_type": "stream",
          "name": "stdout",
          "text": [
            "0.8668\n"
          ]
        },
        {
          "output_type": "stream",
          "name": "stderr",
          "text": [
            "\r 81%|████████  | 162/200 [10:01<02:15,  3.58s/it]"
          ]
        },
        {
          "output_type": "stream",
          "name": "stdout",
          "text": [
            "0.8654\n"
          ]
        },
        {
          "output_type": "stream",
          "name": "stderr",
          "text": [
            "\r 82%|████████▏ | 163/200 [10:05<02:13,  3.60s/it]"
          ]
        },
        {
          "output_type": "stream",
          "name": "stdout",
          "text": [
            "0.8662\n"
          ]
        },
        {
          "output_type": "stream",
          "name": "stderr",
          "text": [
            "\r 82%|████████▏ | 164/200 [10:09<02:09,  3.58s/it]"
          ]
        },
        {
          "output_type": "stream",
          "name": "stdout",
          "text": [
            "0.8675\n"
          ]
        },
        {
          "output_type": "stream",
          "name": "stderr",
          "text": [
            "\r 82%|████████▎ | 165/200 [10:12<02:05,  3.58s/it]"
          ]
        },
        {
          "output_type": "stream",
          "name": "stdout",
          "text": [
            "0.867\n"
          ]
        },
        {
          "output_type": "stream",
          "name": "stderr",
          "text": [
            "\r 83%|████████▎ | 166/200 [10:16<02:01,  3.58s/it]"
          ]
        },
        {
          "output_type": "stream",
          "name": "stdout",
          "text": [
            "0.8676\n"
          ]
        },
        {
          "output_type": "stream",
          "name": "stderr",
          "text": [
            "\r 84%|████████▎ | 167/200 [10:19<01:58,  3.59s/it]"
          ]
        },
        {
          "output_type": "stream",
          "name": "stdout",
          "text": [
            "0.8689\n"
          ]
        },
        {
          "output_type": "stream",
          "name": "stderr",
          "text": [
            "\r 84%|████████▍ | 168/200 [10:23<01:54,  3.58s/it]"
          ]
        },
        {
          "output_type": "stream",
          "name": "stdout",
          "text": [
            "0.8692\n"
          ]
        },
        {
          "output_type": "stream",
          "name": "stderr",
          "text": [
            "\r 84%|████████▍ | 169/200 [10:26<01:50,  3.57s/it]"
          ]
        },
        {
          "output_type": "stream",
          "name": "stdout",
          "text": [
            "0.8685\n"
          ]
        },
        {
          "output_type": "stream",
          "name": "stderr",
          "text": [
            "\r 85%|████████▌ | 170/200 [10:30<01:47,  3.59s/it]"
          ]
        },
        {
          "output_type": "stream",
          "name": "stdout",
          "text": [
            "0.8684\n"
          ]
        },
        {
          "output_type": "stream",
          "name": "stderr",
          "text": [
            "\r 86%|████████▌ | 171/200 [10:34<01:44,  3.59s/it]"
          ]
        },
        {
          "output_type": "stream",
          "name": "stdout",
          "text": [
            "0.8685\n"
          ]
        },
        {
          "output_type": "stream",
          "name": "stderr",
          "text": [
            "\r 86%|████████▌ | 172/200 [10:37<01:40,  3.58s/it]"
          ]
        },
        {
          "output_type": "stream",
          "name": "stdout",
          "text": [
            "0.8697\n"
          ]
        },
        {
          "output_type": "stream",
          "name": "stderr",
          "text": [
            "\r 86%|████████▋ | 173/200 [10:41<01:36,  3.59s/it]"
          ]
        },
        {
          "output_type": "stream",
          "name": "stdout",
          "text": [
            "0.8686\n"
          ]
        },
        {
          "output_type": "stream",
          "name": "stderr",
          "text": [
            "\r 87%|████████▋ | 174/200 [10:45<01:37,  3.74s/it]"
          ]
        },
        {
          "output_type": "stream",
          "name": "stdout",
          "text": [
            "0.869\n"
          ]
        },
        {
          "output_type": "stream",
          "name": "stderr",
          "text": [
            "\r 88%|████████▊ | 175/200 [10:48<01:32,  3.69s/it]"
          ]
        },
        {
          "output_type": "stream",
          "name": "stdout",
          "text": [
            "0.8693\n"
          ]
        },
        {
          "output_type": "stream",
          "name": "stderr",
          "text": [
            "\r 88%|████████▊ | 176/200 [10:52<01:27,  3.65s/it]"
          ]
        },
        {
          "output_type": "stream",
          "name": "stdout",
          "text": [
            "0.8697\n"
          ]
        },
        {
          "output_type": "stream",
          "name": "stderr",
          "text": [
            "\r 88%|████████▊ | 177/200 [10:56<01:27,  3.79s/it]"
          ]
        },
        {
          "output_type": "stream",
          "name": "stdout",
          "text": [
            "0.8689\n"
          ]
        },
        {
          "output_type": "stream",
          "name": "stderr",
          "text": [
            "\r 89%|████████▉ | 178/200 [11:00<01:22,  3.73s/it]"
          ]
        },
        {
          "output_type": "stream",
          "name": "stdout",
          "text": [
            "0.8683\n"
          ]
        },
        {
          "output_type": "stream",
          "name": "stderr",
          "text": [
            "\r 90%|████████▉ | 179/200 [11:03<01:17,  3.68s/it]"
          ]
        },
        {
          "output_type": "stream",
          "name": "stdout",
          "text": [
            "0.8697\n"
          ]
        },
        {
          "output_type": "stream",
          "name": "stderr",
          "text": [
            "\r 90%|█████████ | 180/200 [11:07<01:12,  3.64s/it]"
          ]
        },
        {
          "output_type": "stream",
          "name": "stdout",
          "text": [
            "0.8696\n"
          ]
        },
        {
          "output_type": "stream",
          "name": "stderr",
          "text": [
            "\r 90%|█████████ | 181/200 [11:10<01:09,  3.64s/it]"
          ]
        },
        {
          "output_type": "stream",
          "name": "stdout",
          "text": [
            "0.869\n"
          ]
        },
        {
          "output_type": "stream",
          "name": "stderr",
          "text": [
            "\r 91%|█████████ | 182/200 [11:14<01:04,  3.60s/it]"
          ]
        },
        {
          "output_type": "stream",
          "name": "stdout",
          "text": [
            "0.87\n"
          ]
        },
        {
          "output_type": "stream",
          "name": "stderr",
          "text": [
            "\r 92%|█████████▏| 183/200 [11:18<01:01,  3.59s/it]"
          ]
        },
        {
          "output_type": "stream",
          "name": "stdout",
          "text": [
            "0.8694\n"
          ]
        },
        {
          "output_type": "stream",
          "name": "stderr",
          "text": [
            "\r 92%|█████████▏| 184/200 [11:21<00:57,  3.58s/it]"
          ]
        },
        {
          "output_type": "stream",
          "name": "stdout",
          "text": [
            "0.8711\n"
          ]
        },
        {
          "output_type": "stream",
          "name": "stderr",
          "text": [
            "\r 92%|█████████▎| 185/200 [11:25<00:54,  3.60s/it]"
          ]
        },
        {
          "output_type": "stream",
          "name": "stdout",
          "text": [
            "0.8703\n"
          ]
        },
        {
          "output_type": "stream",
          "name": "stderr",
          "text": [
            "\r 93%|█████████▎| 186/200 [11:28<00:50,  3.59s/it]"
          ]
        },
        {
          "output_type": "stream",
          "name": "stdout",
          "text": [
            "0.8717\n"
          ]
        },
        {
          "output_type": "stream",
          "name": "stderr",
          "text": [
            "\r 94%|█████████▎| 187/200 [11:32<00:48,  3.74s/it]"
          ]
        },
        {
          "output_type": "stream",
          "name": "stdout",
          "text": [
            "0.8698\n"
          ]
        },
        {
          "output_type": "stream",
          "name": "stderr",
          "text": [
            "\r 94%|█████████▍| 188/200 [11:36<00:44,  3.70s/it]"
          ]
        },
        {
          "output_type": "stream",
          "name": "stdout",
          "text": [
            "0.8722\n"
          ]
        },
        {
          "output_type": "stream",
          "name": "stderr",
          "text": [
            "\r 94%|█████████▍| 189/200 [11:40<00:40,  3.68s/it]"
          ]
        },
        {
          "output_type": "stream",
          "name": "stdout",
          "text": [
            "0.8721\n"
          ]
        },
        {
          "output_type": "stream",
          "name": "stderr",
          "text": [
            "\r 95%|█████████▌| 190/200 [11:43<00:36,  3.64s/it]"
          ]
        },
        {
          "output_type": "stream",
          "name": "stdout",
          "text": [
            "0.8706\n"
          ]
        },
        {
          "output_type": "stream",
          "name": "stderr",
          "text": [
            "\r 96%|█████████▌| 191/200 [11:47<00:32,  3.61s/it]"
          ]
        },
        {
          "output_type": "stream",
          "name": "stdout",
          "text": [
            "0.8707\n"
          ]
        },
        {
          "output_type": "stream",
          "name": "stderr",
          "text": [
            "\r 96%|█████████▌| 192/200 [11:50<00:28,  3.61s/it]"
          ]
        },
        {
          "output_type": "stream",
          "name": "stdout",
          "text": [
            "0.8718\n"
          ]
        },
        {
          "output_type": "stream",
          "name": "stderr",
          "text": [
            "\r 96%|█████████▋| 193/200 [11:54<00:25,  3.61s/it]"
          ]
        },
        {
          "output_type": "stream",
          "name": "stdout",
          "text": [
            "0.8719\n"
          ]
        },
        {
          "output_type": "stream",
          "name": "stderr",
          "text": [
            "\r 97%|█████████▋| 194/200 [11:57<00:21,  3.59s/it]"
          ]
        },
        {
          "output_type": "stream",
          "name": "stdout",
          "text": [
            "0.8718\n"
          ]
        },
        {
          "output_type": "stream",
          "name": "stderr",
          "text": [
            "\r 98%|█████████▊| 195/200 [12:01<00:17,  3.58s/it]"
          ]
        },
        {
          "output_type": "stream",
          "name": "stdout",
          "text": [
            "0.8719\n"
          ]
        },
        {
          "output_type": "stream",
          "name": "stderr",
          "text": [
            "\r 98%|█████████▊| 196/200 [12:05<00:14,  3.60s/it]"
          ]
        },
        {
          "output_type": "stream",
          "name": "stdout",
          "text": [
            "0.8727\n"
          ]
        },
        {
          "output_type": "stream",
          "name": "stderr",
          "text": [
            "\r 98%|█████████▊| 197/200 [12:08<00:10,  3.58s/it]"
          ]
        },
        {
          "output_type": "stream",
          "name": "stdout",
          "text": [
            "0.8736\n"
          ]
        },
        {
          "output_type": "stream",
          "name": "stderr",
          "text": [
            "\r 99%|█████████▉| 198/200 [12:12<00:07,  3.57s/it]"
          ]
        },
        {
          "output_type": "stream",
          "name": "stdout",
          "text": [
            "0.8727\n"
          ]
        },
        {
          "output_type": "stream",
          "name": "stderr",
          "text": [
            "\r100%|█████████▉| 199/200 [12:15<00:03,  3.57s/it]"
          ]
        },
        {
          "output_type": "stream",
          "name": "stdout",
          "text": [
            "0.8729\n"
          ]
        },
        {
          "output_type": "stream",
          "name": "stderr",
          "text": [
            "100%|██████████| 200/200 [12:19<00:00,  3.70s/it]"
          ]
        },
        {
          "output_type": "stream",
          "name": "stdout",
          "text": [
            "0.873\n"
          ]
        },
        {
          "output_type": "stream",
          "name": "stderr",
          "text": [
            "\n"
          ]
        }
      ]
    },
    {
      "cell_type": "code",
      "source": [
        "plt.plot(Epoch, Test_accuracy, marker='o', label='Test accuracy')\n",
        "plt.xlabel('Epoch')\n",
        "plt.ylabel('Test accuracy')\n",
        "plt.legend(bbox_to_anchor=( 1.35, 1.))\n",
        "plt.show()"
      ],
      "metadata": {
        "colab": {
          "base_uri": "https://localhost:8080/",
          "height": 449
        },
        "id": "Mp-3ccpDfCkB",
        "outputId": "96a562e9-4013-4edb-c91b-58db193fcd21"
      },
      "execution_count": 46,
      "outputs": [
        {
          "output_type": "display_data",
          "data": {
            "text/plain": [
              "<Figure size 640x480 with 1 Axes>"
            ],
            "image/png": "[encoded data removed]"
          },
          "metadata": {}
        }
      ]
    },
    {
      "cell_type": "code",
      "source": [
        "plt.plot(Epoch,Cross_entropy_loss[0:2000:10], marker='o', label='Cross_entropy_loss')\n",
        "plt.xlabel('Epoch')\n",
        "plt.ylabel('Cross entropy Loss for labeled data')\n",
        "plt.legend(bbox_to_anchor=( 1.35, 1.))\n",
        "plt.show()"
      ],
      "metadata": {
        "colab": {
          "base_uri": "https://localhost:8080/",
          "height": 449
        },
        "id": "t9N_hVOGfBqD",
        "outputId": "9eb0f31d-716c-4b7b-80ce-2ab0a1dda54d"
      },
      "execution_count": 44,
      "outputs": [
        {
          "output_type": "display_data",
          "data": {
            "text/plain": [
              "<Figure size 640x480 with 1 Axes>"
            ],
            "image/png": "[encoded data removed]"
          },
          "metadata": {}
        }
      ]
    },
    {
      "cell_type": "code",
      "source": [
        "plt.plot(Epoch,Pertubation_loss, marker='o', label='Perturbation loss')\n",
        "plt.xlabel('Epoch')\n",
        "plt.ylabel('Perturbation Loss')\n",
        "plt.legend(bbox_to_anchor=( 1.35, 1.))\n",
        "plt.show()"
      ],
      "metadata": {
        "colab": {
          "base_uri": "https://localhost:8080/",
          "height": 449
        },
        "id": "Ej4hmY8LfoGh",
        "outputId": "0b25555f-d846-42a2-c537-1f2ddfc1e21b"
      },
      "execution_count": 42,
      "outputs": [
        {
          "output_type": "display_data",
          "data": {
            "text/plain": [
              "<Figure size 640x480 with 1 Axes>"
            ],
            "image/png": "[encoded data removed]"
          },
          "metadata": {}
        }
      ]
    },
    {
      "cell_type": "code",
      "source": [
        "plt.plot(Epoch, Total_loss[0:2000:10], marker='o', label='Total loss')\n",
        "plt.xlabel('Epoch')\n",
        "plt.ylabel('Total Loss')\n",
        "plt.legend(bbox_to_anchor=( 1.35, 1.))\n",
        "plt.show()"
      ],
      "metadata": {
        "colab": {
          "base_uri": "https://localhost:8080/",
          "height": 449
        },
        "id": "HGAE1O8Mbvct",
        "outputId": "bf42a3b8-8eb1-4ed7-f73a-f560443c8b91"
      },
      "execution_count": 43,
      "outputs": [
        {
          "output_type": "display_data",
          "data": {
            "text/plain": [
              "<Figure size 640x480 with 1 Axes>"
            ],
            "image/png": "[encoded data removed]"
          },
          "metadata": {}
        }
      ]
    }
  ]
}