{
  "cells": [
    {
      "cell_type": "markdown",
      "metadata": {
        "id": "view-in-github",
        "colab_type": "text"
      },
      "source": [
        "<a href=\"https://colab.research.google.com/github/Kenz2000/Deep-Learning-project/blob/main/UDA_Method_Rand_Augment.ipynb\" target=\"_parent\"><img src=\"https://colab.research.google.com/assets/colab-badge.svg\" alt=\"Open In Colab\"/></a>"
      ]
    },
    {
      "cell_type": "markdown",
      "metadata": {
        "id": "USSV_OlCFKOD"
      },
      "source": [
        "# Laod data and prepare it\n",
        "This simple example demonstrates how to plug TensorFlow Datasets (TFDS) into a Keras model.\n"
      ]
    },
    {
      "cell_type": "code",
      "execution_count": 188,
      "metadata": {
        "id": "TTBSvHcSLBzc"
      },
      "outputs": [],
      "source": [
        "import tensorflow as tf\n",
        "import tensorflow_datasets as tfds\n",
        "import numpy as np\n",
        "import matplotlib.pyplot as plt\n",
        "from tensorflow import keras\n",
        "import math\n",
        "import time\n",
        "from tqdm import trange"
      ]
    },
    {
      "cell_type": "code",
      "execution_count": 189,
      "metadata": {
        "colab": {
          "base_uri": "https://localhost:8080/"
        },
        "id": "ZUMhCXhFXdHQ",
        "outputId": "2e752b49-abdf-4190-aa4a-e23599f721b9"
      },
      "outputs": [
        {
          "output_type": "stream",
          "name": "stdout",
          "text": [
            "Number of original training examples: 60000\n",
            "Number of original test examples: 10000\n"
          ]
        }
      ],
      "source": [
        "(x_train, y_train), (x_test, y_test) = tf.keras.datasets.mnist.load_data()\n",
        "\n",
        "# Rescale the images from [0,255] to the [0.0,1.0] range.\n",
        "x_train, x_test = x_train[..., np.newaxis]/255.0, x_test[..., np.newaxis]/255.0\n",
        "\n",
        "print(\"Number of original training examples:\", len(x_train))\n",
        "print(\"Number of original test examples:\", len(x_test))"
      ]
    },
    {
      "cell_type": "code",
      "execution_count": 190,
      "metadata": {
        "colab": {
          "base_uri": "https://localhost:8080/",
          "height": 471
        },
        "id": "n_Ws7js48FGI",
        "outputId": "672521c3-bf72-4c7a-ac7f-d31103983758"
      },
      "outputs": [
        {
          "output_type": "stream",
          "name": "stdout",
          "text": [
            "5\n"
          ]
        },
        {
          "output_type": "execute_result",
          "data": {
            "text/plain": [
              "<matplotlib.colorbar.Colorbar at 0x79f884353ac0>"
            ]
          },
          "metadata": {},
          "execution_count": 190
        },
        {
          "output_type": "display_data",
          "data": {
            "text/plain": [
              "<Figure size 640x480 with 2 Axes>"
            ],
            "image/png": "[encoded data removed]"
          },
          "metadata": {}
        }
      ],
      "source": [
        "print(y_train[0])\n",
        "\n",
        "plt.imshow(x_train[0, :, :, 0])\n",
        "plt.colorbar()"
      ]
    },
    {
      "cell_type": "code",
      "execution_count": 191,
      "metadata": {
        "id": "1rhSpKtEuD6C",
        "colab": {
          "base_uri": "https://localhost:8080/"
        },
        "outputId": "679c9a80-c601-4b9e-f1c3-0b4b177a11d1"
      },
      "outputs": [
        {
          "output_type": "stream",
          "name": "stderr",
          "text": [
            "<ipython-input-191-ea788af0051a>:1: DeprecationWarning: Please use `shift` from the `scipy.ndimage` namespace, the `scipy.ndimage.interpolation` namespace is deprecated.\n",
            "  from scipy.ndimage.interpolation import shift\n"
          ]
        }
      ],
      "source": [
        "from scipy.ndimage.interpolation import shift\n",
        "\n",
        "# Method to shift the image by given dimension\n",
        "def shift_image(image, dx, dy):\n",
        "    image = image.reshape((28, 28))\n",
        "    shifted_image = shift(image, [dy, dx], cval=0, mode=\"constant\")\n",
        "    return shifted_image\n"
      ]
    },
    {
      "cell_type": "code",
      "execution_count": 192,
      "metadata": {
        "id": "18xqJkKTUAh0"
      },
      "outputs": [],
      "source": [
        "idxs = np.ones(100)\n",
        "for digit in range(10):\n",
        "  digit_args = np.argwhere(y_train == digit)[:10,0]\n",
        "  np.random.shuffle(digit_args)\n",
        "  idxs[digit*10:(digit+1)*10] = digit_args\n",
        "np.random.shuffle(idxs)\n",
        "idxs = list(idxs.astype(\"int\"))"
      ]
    },
    {
      "cell_type": "code",
      "execution_count": 193,
      "metadata": {
        "id": "i7nS0QkEvoML"
      },
      "outputs": [],
      "source": [
        "x_train_labeled = x_train[idxs]\n",
        "y_train_labeled = y_train[idxs]\n",
        "x_train_unlabeled_original = np.delete(x_train.copy(), idxs, axis=0)\n",
        "x_train_unlabeled = x_train_unlabeled_original[:int(x_train_unlabeled_original.shape[0]/2)]\n",
        "# Creating Augmented Dataset\n",
        "# x_train_augmented = x_train_unlabeled_original[int(x_train_unlabeled_original.shape[0]/2):]\n",
        "x_train_augmented = []\n",
        "for image in x_train_unlabeled:\n",
        "    x_train_augmented.append(np.expand_dims(shift_image(image, 3, 3), axis=-1))\n",
        "x_train_augmented = np.array(x_train_augmented)"
      ]
    },
    {
      "cell_type": "markdown",
      "metadata": {
        "id": "SwtyPq4_0De9"
      },
      "source": [
        "## Seperate the unlabeled images into original and augmeneted images"
      ]
    },
    {
      "cell_type": "code",
      "execution_count": 194,
      "metadata": {
        "id": "YKigGgCD7z-_"
      },
      "outputs": [],
      "source": [
        "digit_idxs = {}\n",
        "for digit in range(10):\n",
        "  digit_args = np.argwhere(y_train == digit)[:,0]\n",
        "  np.random.shuffle(digit_args)\n",
        "  digit_idxs[digit] = list(digit_args.astype('int'))"
      ]
    },
    {
      "cell_type": "code",
      "execution_count": 195,
      "metadata": {
        "colab": {
          "base_uri": "https://localhost:8080/"
        },
        "id": "AiCgcetk8fIT",
        "outputId": "eb6eb660-77cf-492d-a5df-fc2069bab421"
      },
      "outputs": [
        {
          "output_type": "execute_result",
          "data": {
            "text/plain": [
              "2710"
            ]
          },
          "metadata": {},
          "execution_count": 195
        }
      ],
      "source": [
        "elt_per_class = int(min([len(idxs) for idxs in digit_idxs.values()]) / 2)\n",
        "elt_per_class"
      ]
    },
    {
      "cell_type": "code",
      "execution_count": 196,
      "metadata": {
        "id": "9qT0_vqG9gqV"
      },
      "outputs": [],
      "source": [
        "digit_data = {}\n",
        "digit_label = {}\n",
        "for digit in np.unique(y_train):\n",
        "  digit_data[digit] = ( x_train[ digit_idxs[digit][:elt_per_class] ] , x_train[ digit_idxs[digit][elt_per_class:elt_per_class*2] ])\n",
        "  digit_label[digit] = ( y_train[ digit_idxs[digit][:elt_per_class] ] , y_train[ digit_idxs[digit][elt_per_class:elt_per_class*2] ])"
      ]
    },
    {
      "cell_type": "code",
      "execution_count": 197,
      "metadata": {
        "id": "ZaWtgfQZ_E5M"
      },
      "outputs": [],
      "source": [
        "original_data = None\n",
        "original_labels = None\n",
        "for digit in np.unique(y_train):\n",
        "  if original_data is None:\n",
        "    original_data = digit_data[digit][0]\n",
        "    original_labels = digit_label[digit][0]\n",
        "  else:\n",
        "    original_data = np.concatenate((original_data, digit_data[digit][0]))\n",
        "    original_labels = np.concatenate((original_labels, digit_label[digit][0]))"
      ]
    },
    {
      "cell_type": "code",
      "execution_count": 198,
      "metadata": {
        "id": "nR0cJDbnAxs_"
      },
      "outputs": [],
      "source": [
        "augmented_data = None\n",
        "augmented_labels = None\n",
        "for digit in np.unique(y_train):\n",
        "  if augmented_data is None:\n",
        "    augmented_data = digit_data[digit][1]\n",
        "    augmented_labels = digit_label[digit][1]\n",
        "  else:\n",
        "    augmented_data = np.concatenate((augmented_data, digit_data[digit][1]))\n",
        "    augmented_labels = np.concatenate((augmented_labels, digit_label[digit][1]))"
      ]
    },
    {
      "cell_type": "code",
      "execution_count": 199,
      "metadata": {
        "id": "YDvlNdtuBvkn"
      },
      "outputs": [],
      "source": [
        "permutation = np.random.permutation(original_data.shape[0])\n",
        "augmented_data, original_data, augmented_labels, original_labels = augmented_data[permutation], original_data[permutation], augmented_labels[permutation], original_labels[permutation]"
      ]
    },
    {
      "cell_type": "code",
      "execution_count": 200,
      "metadata": {
        "colab": {
          "base_uri": "https://localhost:8080/"
        },
        "id": "niiyeDsDA2jH",
        "outputId": "61c7b256-074c-49c4-cc9d-af894644dfed"
      },
      "outputs": [
        {
          "output_type": "execute_result",
          "data": {
            "text/plain": [
              "array([ True])"
            ]
          },
          "metadata": {},
          "execution_count": 200
        }
      ],
      "source": [
        "np.unique(np.equal(augmented_labels, original_labels))"
      ]
    },
    {
      "cell_type": "code",
      "execution_count": 201,
      "metadata": {
        "colab": {
          "base_uri": "https://localhost:8080/"
        },
        "id": "4ZUKNoFt5rzZ",
        "outputId": "da61bb82-6bc7-49e6-c7b0-b96d631ac75b"
      },
      "outputs": [
        {
          "output_type": "execute_result",
          "data": {
            "text/plain": [
              "(27100, 28, 28, 1)"
            ]
          },
          "metadata": {},
          "execution_count": 201
        }
      ],
      "source": [
        "augmented_data.shape"
      ]
    },
    {
      "cell_type": "code",
      "execution_count": 202,
      "metadata": {
        "colab": {
          "base_uri": "https://localhost:8080/"
        },
        "id": "WPIlp8pt5uNa",
        "outputId": "033c2fdf-e858-4393-b368-e8c9224a4e75"
      },
      "outputs": [
        {
          "output_type": "execute_result",
          "data": {
            "text/plain": [
              "(27100, 28, 28, 1)"
            ]
          },
          "metadata": {},
          "execution_count": 202
        }
      ],
      "source": [
        "original_data.shape"
      ]
    },
    {
      "cell_type": "code",
      "execution_count": 203,
      "metadata": {
        "colab": {
          "base_uri": "https://localhost:8080/",
          "height": 466
        },
        "id": "J4mLEfhOPliJ",
        "outputId": "1ba4b415-21e4-4d41-8bb0-a4905bad08c2"
      },
      "outputs": [
        {
          "output_type": "stream",
          "name": "stdout",
          "text": [
            "4\n"
          ]
        },
        {
          "output_type": "execute_result",
          "data": {
            "text/plain": [
              "<matplotlib.image.AxesImage at 0x79f8843b0eb0>"
            ]
          },
          "metadata": {},
          "execution_count": 203
        },
        {
          "output_type": "display_data",
          "data": {
            "text/plain": [
              "<Figure size 640x480 with 1 Axes>"
            ],
            "image/png": "[encoded data removed]"
          },
          "metadata": {}
        }
      ],
      "source": [
        "print(augmented_labels[0])\n",
        "\n",
        "plt.imshow(augmented_data[0, :, :, 0])\n"
      ]
    },
    {
      "cell_type": "code",
      "execution_count": 204,
      "metadata": {
        "colab": {
          "base_uri": "https://localhost:8080/",
          "height": 448
        },
        "id": "p9E9qXEo6AW6",
        "outputId": "261cf690-f9a7-4c1d-bf25-482fe7fedb2e"
      },
      "outputs": [
        {
          "output_type": "execute_result",
          "data": {
            "text/plain": [
              "<matplotlib.image.AxesImage at 0x79f887705660>"
            ]
          },
          "metadata": {},
          "execution_count": 204
        },
        {
          "output_type": "display_data",
          "data": {
            "text/plain": [
              "<Figure size 640x480 with 1 Axes>"
            ],
            "image/png": "[encoded data removed]"
          },
          "metadata": {}
        }
      ],
      "source": [
        "plt.imshow(original_data[0, :, :, 0])\n"
      ]
    },
    {
      "cell_type": "markdown",
      "metadata": {
        "id": "Neovg7jzeGyQ"
      },
      "source": [
        "# New Baseline"
      ]
    },
    {
      "cell_type": "code",
      "execution_count": 205,
      "metadata": {
        "id": "sFn6gBX4Xr7_"
      },
      "outputs": [],
      "source": [
        "inputs = keras.Input(shape=(28,28), name=\"digits\")\n",
        "x1 = keras.layers.Dense(128, activation=\"relu\")(inputs)\n",
        "outputs = keras.layers.Dense(10, name=\"predictions\")(x1)\n",
        "model = keras.Model(inputs=inputs, outputs=outputs)"
      ]
    },
    {
      "cell_type": "code",
      "execution_count": 206,
      "metadata": {
        "id": "a960ShGDbsop"
      },
      "outputs": [],
      "source": [
        "model = keras.Sequential([\n",
        "        tf.keras.layers.Flatten(input_shape=(28, 28)),\n",
        "        tf.keras.layers.Dense(128, activation='relu', kernel_regularizer=keras.regularizers.l2(5e-4),\n",
        "                              # kernel_initializer=keras.initializers.he_normal\n",
        "                             ),\n",
        "        tf.keras.layers.Dense(10, name=\"classifier\")\n",
        "])"
      ]
    },
    {
      "cell_type": "code",
      "execution_count": 207,
      "metadata": {
        "id": "eJtguCpGX8JO"
      },
      "outputs": [],
      "source": [
        "optimizer = keras.optimizers.Adam()\n",
        "loss_fn = keras.losses.SparseCategoricalCrossentropy(from_logits=True)\n",
        "train_acc_metric = keras.metrics.SparseCategoricalAccuracy()\n",
        "val_acc_metric = keras.metrics.SparseCategoricalAccuracy()\n",
        "batch_size = 128"
      ]
    },
    {
      "cell_type": "code",
      "execution_count": 208,
      "metadata": {
        "id": "WIfpIc2oYgh0"
      },
      "outputs": [],
      "source": [
        "labels_per_batch=10\n",
        "unlabels_per_batch=59\n",
        "all_x = None\n",
        "for i in range(int(100/labels_per_batch)):\n",
        "    if all_x is None:\n",
        "        all_x = np.concatenate((x_train_labeled[i*labels_per_batch:i*labels_per_batch+labels_per_batch], x_train_unlabeled[i*unlabels_per_batch : i*unlabels_per_batch+unlabels_per_batch], x_train_augmented[i*unlabels_per_batch: i*unlabels_per_batch+unlabels_per_batch]))\n",
        "    else:\n",
        "        all_x = np.concatenate((all_x,x_train_labeled[i*labels_per_batch:i*labels_per_batch+labels_per_batch], x_train_unlabeled[i*unlabels_per_batch : i*unlabels_per_batch+unlabels_per_batch], x_train_augmented[i*unlabels_per_batch: i*unlabels_per_batch+unlabels_per_batch]))"
      ]
    },
    {
      "cell_type": "code",
      "execution_count": 209,
      "metadata": {
        "colab": {
          "base_uri": "https://localhost:8080/"
        },
        "id": "KY1O4vZ-dVNm",
        "outputId": "2b8f86f1-eee2-4120-9658-cd1931d0254c"
      },
      "outputs": [
        {
          "output_type": "execute_result",
          "data": {
            "text/plain": [
              "(1280, 28, 28, 1)"
            ]
          },
          "metadata": {},
          "execution_count": 209
        }
      ],
      "source": [
        "all_x.shape"
      ]
    },
    {
      "cell_type": "code",
      "execution_count": 210,
      "metadata": {
        "id": "3JpHTH_LcWJd"
      },
      "outputs": [],
      "source": [
        "@tf.function\n",
        "def test_step(x, y):\n",
        "    val_logits = model(x, training=False)\n",
        "    val_acc_metric.update_state(y, val_logits)"
      ]
    },
    {
      "cell_type": "code",
      "execution_count": 211,
      "metadata": {
        "id": "zMBWC3G0ctWM"
      },
      "outputs": [],
      "source": [
        "val_dataset = tf.data.Dataset.from_tensor_slices((x_test, y_test))\n",
        "val_dataset = val_dataset.batch(64)"
      ]
    },
    {
      "cell_type": "code",
      "execution_count": 212,
      "metadata": {
        "colab": {
          "base_uri": "https://localhost:8080/"
        },
        "id": "pH8a26LvYI6_",
        "outputId": "99b68383-87a8-43c9-b4c0-85c029e352d6"
      },
      "outputs": [
        {
          "output_type": "stream",
          "name": "stdout",
          "text": [
            "\n",
            "Start of epoch 0\n",
            "Training loss (for one batch) at step 0: 2.2261\n",
            "Seen so far: 64 samples\n",
            "Training acc over epoch: 0.2200\n",
            "\n",
            "Start of epoch 1\n",
            "Training loss (for one batch) at step 0: 1.3101\n",
            "Seen so far: 64 samples\n",
            "Training acc over epoch: 0.8000\n",
            "\n",
            "Start of epoch 2\n",
            "Training loss (for one batch) at step 0: 0.9801\n",
            "Seen so far: 64 samples\n",
            "Training acc over epoch: 0.9000\n",
            "\n",
            "Start of epoch 3\n",
            "Training loss (for one batch) at step 0: 0.6102\n",
            "Seen so far: 64 samples\n",
            "Training acc over epoch: 0.9500\n",
            "\n",
            "Start of epoch 4\n",
            "Training loss (for one batch) at step 0: 0.3849\n",
            "Seen so far: 64 samples\n",
            "Training acc over epoch: 0.9800\n",
            "\n",
            "Start of epoch 5\n",
            "Training loss (for one batch) at step 0: 0.2564\n",
            "Seen so far: 64 samples\n",
            "Training acc over epoch: 0.9900\n",
            "\n",
            "Start of epoch 6\n",
            "Training loss (for one batch) at step 0: 0.1774\n",
            "Seen so far: 64 samples\n",
            "Training acc over epoch: 0.9900\n",
            "\n",
            "Start of epoch 7\n",
            "Training loss (for one batch) at step 0: 0.1290\n",
            "Seen so far: 64 samples\n",
            "Training acc over epoch: 0.9900\n",
            "\n",
            "Start of epoch 8\n",
            "Training loss (for one batch) at step 0: 0.0987\n",
            "Seen so far: 64 samples\n",
            "Training acc over epoch: 0.9900\n",
            "\n",
            "Start of epoch 9\n",
            "Training loss (for one batch) at step 0: 0.0786\n",
            "Seen so far: 64 samples\n",
            "Training acc over epoch: 1.0000\n"
          ]
        }
      ],
      "source": [
        "epochs = 10\n",
        "for epoch in range(epochs):\n",
        "    print(\"\\nStart of epoch %d\" % (epoch,))\n",
        "\n",
        "    # Iterate over the batches of the dataset.\n",
        "    for step in range(math.ceil(all_x.shape[0]/batch_size)):\n",
        "        x_batch_train = all_x[step*batch_size:step*batch_size+labels_per_batch]\n",
        "        y_batch_train = y_train_labeled[step*labels_per_batch:step*labels_per_batch+labels_per_batch]\n",
        "\n",
        "        # x_train_unlabeled[i*unlabels_per_batch : i*unlabels_per_batch+unlabels_per_batch]\n",
        "        # x_train_augmented[i*unlabels_per_batch: i*unlabels_per_batch+unlabels_per_batch]\n",
        "        # Open a GradientTape to record the operations run\n",
        "        # during the forward pass, which enables auto-differentiation.\n",
        "        with tf.GradientTape() as tape:\n",
        "\n",
        "            # Run the forward pass of the layer.\n",
        "            # The operations that the layer applies\n",
        "            # to its inputs are going to be recorded\n",
        "            # on the GradientTape.\n",
        "            logits = model(x_batch_train, training=True)  # Logits for this minibatch\n",
        "            # Compute the loss value for this minibatch.\n",
        "            loss_value = loss_fn(y_batch_train, logits[:labels_per_batch])\n",
        "\n",
        "        # Use the gradient tape to automatically retrieve\n",
        "        # the gradients of the trainable variables with respect to the loss.\n",
        "        grads = tape.gradient(loss_value, model.trainable_weights)\n",
        "\n",
        "        # Run one step of gradient descent by updating\n",
        "        # the value of the variables to minimize the loss.\n",
        "        optimizer.apply_gradients(zip(grads, model.trainable_weights))\n",
        "\n",
        "        # Update training metric.\n",
        "        train_acc_metric.update_state(y_batch_train, logits[:labels_per_batch])\n",
        "\n",
        "        # Log every 200 batches.\n",
        "        if step % 200 == 0:\n",
        "            print(\n",
        "                \"Training loss (for one batch) at step %d: %.4f\"\n",
        "                % (step, float(loss_value))\n",
        "            )\n",
        "            print(\"Seen so far: %s samples\" % ((step + 1) * 64))\n",
        "\n",
        "    # Display metrics at the end of each epoch.\n",
        "    train_acc = train_acc_metric.result()\n",
        "    print(\"Training acc over epoch: %.4f\" % (float(train_acc),))\n",
        "\n",
        "    # Reset training metrics at the end of each epoch\n",
        "    train_acc_metric.reset_states()"
      ]
    },
    {
      "cell_type": "code",
      "execution_count": 213,
      "metadata": {
        "colab": {
          "base_uri": "https://localhost:8080/"
        },
        "id": "kUeE13HCcm1c",
        "outputId": "a79bbc45-8b60-4aa5-8890-0d1a26c8fbd0"
      },
      "outputs": [
        {
          "output_type": "stream",
          "name": "stdout",
          "text": [
            "Validation acc: 0.7002\n"
          ]
        }
      ],
      "source": [
        "for x_batch_val, y_batch_val in val_dataset:\n",
        "    val_logits = model(x_batch_val, training=False)\n",
        "    # Update val metrics\n",
        "    val_acc_metric.update_state(y_batch_val, val_logits)\n",
        "val_acc = val_acc_metric.result()\n",
        "val_acc_metric.reset_states()\n",
        "print(\"Validation acc: %.4f\" % (float(val_acc),))"
      ]
    },
    {
      "cell_type": "markdown",
      "metadata": {
        "id": "IaztNgM9gBj-"
      },
      "source": [
        "# Research Paper Implementation"
      ]
    },
    {
      "cell_type": "code",
      "execution_count": 214,
      "metadata": {
        "id": "-t_1pH5MgORE"
      },
      "outputs": [],
      "source": [
        "def _kl_divergence_with_logits(p_logits, q_logits):\n",
        "  p = tf.nn.softmax(p_logits)\n",
        "  log_p = tf.nn.log_softmax(p_logits)\n",
        "  log_q = tf.nn.log_softmax(q_logits)\n",
        "\n",
        "  kl = tf.reduce_sum(p * (log_p - log_q), -1)\n",
        "  return kl"
      ]
    },
    {
      "cell_type": "code",
      "execution_count": 215,
      "metadata": {
        "id": "-5mnovqSa-Vz"
      },
      "outputs": [],
      "source": [
        "def get_ent(logits, return_mean=True):\n",
        "  log_prob = tf.nn.log_softmax(logits, axis=-1)\n",
        "  prob = tf.exp(log_prob)\n",
        "  ent = tf.reduce_sum(-prob * log_prob, axis=-1)\n",
        "  if return_mean:\n",
        "    ent = tf.reduce_mean(ent)\n",
        "  return ent"
      ]
    },
    {
      "cell_type": "code",
      "execution_count": 216,
      "metadata": {
        "id": "RGgYZnz_UsHy"
      },
      "outputs": [],
      "source": [
        "def get_tsa_threshold(schedule, global_step, num_train_steps, start, end):\n",
        "    step_ratio = float(global_step) / float(num_train_steps)\n",
        "    if schedule == \"linear_schedule\":\n",
        "        coeff = step_ratio\n",
        "    elif schedule == \"exp_schedule\":\n",
        "        scale = 5\n",
        "        # [exp(-5), exp(0)] = [1e-2, 1]\n",
        "        coeff = tf.exp((step_ratio - 1) * scale)\n",
        "    elif schedule == \"log_schedule\":\n",
        "        scale = 5\n",
        "    # [1 - exp(0), 1 - exp(-5)] = [0, 0.99]\n",
        "        coeff = 1 - tf.exp((-step_ratio) * scale)\n",
        "    return coeff * (end - start) + start"
      ]
    },
    {
      "cell_type": "code",
      "execution_count": 217,
      "metadata": {
        "id": "3Qgn7O0jUkF5"
      },
      "outputs": [],
      "source": [
        "def anneal_sup_loss(sup_logits, sup_labels, sup_loss, global_step, nbr_steps, num_classes, tsa_schedule):\n",
        "  tsa_start = 1. / num_classes\n",
        "  eff_train_prob_threshold = get_tsa_threshold(\n",
        "      tsa_schedule, global_step, nbr_steps,\n",
        "      tsa_start, end=1)\n",
        "  one_hot_labels = tf.one_hot(\n",
        "      sup_labels, depth=num_classes, dtype=tf.float32)\n",
        "  sup_probs = tf.nn.softmax(sup_logits, axis=-1)\n",
        "  correct_label_probs = tf.reduce_sum(\n",
        "      one_hot_labels * sup_probs, axis=-1)\n",
        "  larger_than_threshold = tf.greater(\n",
        "      correct_label_probs, eff_train_prob_threshold)\n",
        "  loss_mask = 1 - tf.cast(larger_than_threshold, tf.float32)\n",
        "  loss_mask = tf.stop_gradient(loss_mask)\n",
        "  sup_loss = sup_loss * loss_mask\n",
        "  avg_sup_loss = (tf.reduce_sum(sup_loss) /\n",
        "                  tf.maximum(tf.reduce_sum(loss_mask), 1))\n",
        "  return sup_loss, avg_sup_loss"
      ]
    },
    {
      "cell_type": "markdown",
      "metadata": {
        "id": "2t6TZmlrqEd2"
      },
      "source": [
        "# Model v2"
      ]
    },
    {
      "cell_type": "code",
      "execution_count": 218,
      "metadata": {
        "id": "bCYF7QA_qGHu"
      },
      "outputs": [],
      "source": [
        "import copy\n",
        "\n",
        "def create_train(hyper, epochs=10, pretraining=False, verbose=False):\n",
        "\n",
        "    hyper = copy.deepcopy(hyper)\n",
        "    model = keras.Sequential([\n",
        "        tf.keras.layers.Flatten(input_shape=(28, 28)),\n",
        "        tf.keras.layers.Dense(256, activation='relu', kernel_regularizer=keras.regularizers.l2(hyper[\"l2\"]),\n",
        "                              # kernel_initializer=keras.initializers.he_normal\n",
        "                             ),\n",
        "        tf.keras.layers.Dropout(hyper[\"dropout\"]),\n",
        "        tf.keras.layers.Dense(128, activation='relu', kernel_regularizer=keras.regularizers.l2(hyper[\"l2\"]),\n",
        "                              # kernel_initializer=keras.initializers.he_normal\n",
        "                             ),\n",
        "        tf.keras.layers.Dropout(hyper[\"dropout\"]),\n",
        "                              # kernel_initializer=keras.initializers.he_normal\n",
        "\n",
        "        tf.keras.layers.Dense(10, name=\"classifier\")\n",
        "    ])\n",
        "\n",
        "    hyper[\"optimizer\"] = keras.optimizers.Adam()\n",
        "    hyper[\"loss_fn\"] = keras.losses.SparseCategoricalCrossentropy(from_logits=True)\n",
        "    hyper[\"train_acc_metric\"] = keras.metrics.SparseCategoricalAccuracy()\n",
        "    hyper[\"val_acc_metric\"] = keras.metrics.SparseCategoricalAccuracy()\n",
        "\n",
        "    val_dataset = tf.data.Dataset.from_tensor_slices((x_test, y_test))\n",
        "    val_dataset = val_dataset.batch(128)\n",
        "\n",
        "    if pretraining:\n",
        "        print(\"Starting Pretraining\")\n",
        "        pretrain(model, x_train_labeled, y_train_labeled, val_dataset, epochs)\n",
        "    print(\"Starting Training\")\n",
        "    acc,history =train(model, x_train_labeled,original_data,augmented_data, val_dataset, hyper, epochs, verbose=verbose )\n",
        "    print(history)\n",
        "    import pandas as pd\n",
        "    df1= pd.DataFrame(data = history)\n",
        "    plt.plot(df1.epoch, df1.val_acc, marker='o', label=' Test accuracy')\n",
        "    plt.plot(df1.epoch, df1.train_acc, marker='o', label='train accuracy')\n",
        "    plt.xlabel('Epoch')\n",
        "    plt.ylabel('Test & train accuracy')\n",
        "    plt.legend(bbox_to_anchor=( 1.35, 1.))\n",
        "    plt.show()"
      ]
    },
    {
      "cell_type": "code",
      "execution_count": 219,
      "metadata": {
        "id": "tNSsWB_nqG-s"
      },
      "outputs": [],
      "source": [
        "def pretrain(model, x_train, y_train,val_dataset, epochs=10, verbose=False):\n",
        "    model.compile(\n",
        "        optimizer=tf.keras.optimizers.Adam(),\n",
        "        loss=tf.keras.losses.SparseCategoricalCrossentropy(from_logits=True),\n",
        "        metrics=[tf.keras.metrics.SparseCategoricalAccuracy()],\n",
        "    )\n",
        "\n",
        "    model.fit(\n",
        "        x_train, y_train,\n",
        "        epochs=epochs,\n",
        "        validation_data=val_dataset,\n",
        "        verbose=0\n",
        "    )\n",
        "    print(\"Pretraining Validation Accuracy: %.4f \\n\\n\" % model.evaluate(val_dataset, batch_size=128)[1])"
      ]
    },
    {
      "cell_type": "code",
      "execution_count": 220,
      "metadata": {
        "id": "G8XnFzMxqMXq"
      },
      "outputs": [],
      "source": [
        "def train(model,x_train_labeled,original_data,augmented_data,val_dataset, hyper, epochs=10, verbose=False):\n",
        "\n",
        "    @tf.function\n",
        "    def test_step(x, y):\n",
        "        val_logits = model(x, training=False)\n",
        "        val_acc_metric.update_state(y, val_logits)\n",
        "\n",
        "    unlabels_per_batch = hyper[\"unlabels_per_batch\"]\n",
        "    batch_unique_labels = hyper[\"batch_unique_labels\"]\n",
        "    labels_per_batch = hyper[\"labels_per_batch\"]\n",
        "    hyper[\"labels_per_batch\"]\n",
        "\n",
        "    optimizer = hyper[\"optimizer\"]\n",
        "    loss_fn = hyper[\"loss_fn\"]\n",
        "    train_acc_metric = hyper[\"train_acc_metric\"]\n",
        "    val_acc_metric = hyper[\"val_acc_metric\"]\n",
        "    tsa_schedule = hyper[\"tsa_schedule\"]\n",
        "    num_classes = hyper[\"num_classes\"]\n",
        "    uda_softmax_temp = hyper[\"uda_softmax_temp\"]\n",
        "    uda_confidence_thresh = hyper[\"uda_confidence_thresh\"]\n",
        "    ent_min_coeff = hyper[\"ent_min_coeff\"]\n",
        "    lamd = hyper[\"lamd\"]\n",
        "    history={'val_acc':[],'train_acc':[],'epoch':[],'loss':[]}\n",
        "    for epoch in trange(epochs):\n",
        "        if(verbose):\n",
        "            print(\"\\nStart of epoch %d\" % (epoch,))\n",
        "        start_time = time.time()\n",
        "\n",
        "        # Iterate over the batches of the dataset.\n",
        "        for step in range(int(original_data.shape[0]/unlabels_per_batch)):\n",
        "            sup_images = x_train_labeled[int(step % batch_unique_labels)*labels_per_batch:int(step % batch_unique_labels)*labels_per_batch+labels_per_batch]\n",
        "            ori_images = original_data[step*unlabels_per_batch: step*unlabels_per_batch+unlabels_per_batch]\n",
        "            aug_images = augmented_data[step*unlabels_per_batch: step*unlabels_per_batch+unlabels_per_batch]\n",
        "\n",
        "            # x_batch_train = all_x[step*batch_size:step*batch_size+batch_size]\n",
        "            x_batch_train = np.concatenate((sup_images, ori_images, aug_images))\n",
        "            y_batch_train = y_train_labeled[int(step % batch_unique_labels)*labels_per_batch:int(step % batch_unique_labels)*labels_per_batch+labels_per_batch]\n",
        "\n",
        "            # x_train_unlabeled[i*unlabels_per_batch : i*unlabels_per_batch+unlabels_per_batch]\n",
        "            # x_train_augmented[i*unlabels_per_batch: i*unlabels_per_batch+unlabels_per_batch]\n",
        "            # Open a GradientTape to record the operations run\n",
        "            # during the forward pass, which enables auto-differentiation.\n",
        "            with tf.GradientTape() as tape:\n",
        "\n",
        "                # Run the forward pass of the layer.\n",
        "                # The operations that the layer applies\n",
        "                # to its inputs are going to be recorded\n",
        "                # on the GradientTape.\n",
        "                logits = model(x_batch_train, training=True)  # Logits for this minibatch\n",
        "                # Compute the loss value for this minibatch.\n",
        "                sup_logits = logits[:labels_per_batch]\n",
        "                sup_loss = loss_fn(y_batch_train, sup_logits)\n",
        "\n",
        "                # Use TSA training loss\n",
        "                if tsa_schedule:\n",
        "                    sup_loss, avg_sup_loss = anneal_sup_loss(sup_logits, y_batch_train, sup_loss, epoch, epochs, num_classes, tsa_schedule)\n",
        "                else:\n",
        "                    avg_sup_loss = tf.reduce_mean(sup_loss)\n",
        "                total_loss = avg_sup_loss\n",
        "\n",
        "                # Get loss from the unlabled data\n",
        "\n",
        "                # logits of unlabled real images\n",
        "                ori_logits = logits[labels_per_batch : labels_per_batch + unlabels_per_batch]\n",
        "                # logits of unlabeled augmented images\n",
        "                aug_logits = logits[labels_per_batch + unlabels_per_batch : ]\n",
        "\n",
        "                #Sharpening predictions for the kl divergence\n",
        "                if uda_softmax_temp != -1:\n",
        "                    ori_logits_tgt = ori_logits / uda_softmax_temp\n",
        "                else:\n",
        "                    ori_logits_tgt = ori_logits\n",
        "\n",
        "                # Calculate KL divergence\n",
        "                aug_loss = _kl_divergence_with_logits(\n",
        "                    p_logits=tf.stop_gradient(ori_logits_tgt),\n",
        "                    q_logits=aug_logits)\n",
        "\n",
        "                if uda_confidence_thresh != -1:\n",
        "                    ori_prob = tf.nn.softmax(ori_logits, axis=-1)\n",
        "                    largest_prob = tf.reduce_max(ori_prob, axis=-1)\n",
        "                    loss_mask = tf.cast(tf.greater(\n",
        "                        largest_prob, uda_confidence_thresh), tf.float32)\n",
        "                    loss_mask = tf.stop_gradient(loss_mask)\n",
        "                    aug_loss = aug_loss * loss_mask\n",
        "\n",
        "                if ent_min_coeff > 0:\n",
        "                    per_example_ent = get_ent(ori_logits)\n",
        "                    ent_min_loss = tf.reduce_mean(per_example_ent)\n",
        "                    total_loss = total_loss + ent_min_coeff * ent_min_loss\n",
        "\n",
        "                avg_unsup_loss = tf.reduce_mean(aug_loss)\n",
        "\n",
        "                total_loss += lamd * avg_unsup_loss\n",
        "\n",
        "\n",
        "            # Use the gradient tape to automatically retrieve\n",
        "            # the gradients of the trainable variables with respect to the loss.\n",
        "            grads = tape.gradient(total_loss, model.trainable_weights)\n",
        "\n",
        "            # Run one step of gradient descent by updating\n",
        "            # the value of the variables to minimize the loss.\n",
        "            optimizer.apply_gradients(zip(grads, model.trainable_weights))\n",
        "\n",
        "            # Update training metric.\n",
        "            train_acc_metric.update_state(y_batch_train, logits[:labels_per_batch])\n",
        "\n",
        "            if verbose:\n",
        "                # Log every 200 batches.\n",
        "                if step % 50 == 0:\n",
        "                    print(\n",
        "                        \"Training loss (for one batch) at step %d: %.4f\"\n",
        "                        % (step, float(total_loss))\n",
        "                    )\n",
        "\n",
        "                    print(\"Seen so far: %s samples\" % ((step + 1) * batch_size))\n",
        "\n",
        "        # Display metrics at the end of each epoch.\n",
        "        train_acc = train_acc_metric.result()\n",
        "        history['train_acc'].append(float(train_acc))\n",
        "        history['epoch'].append(epoch)\n",
        "        history['loss'].append(float(total_loss))\n",
        "        print(\"Training acc over epoch: %.4f\" % (float(train_acc),))\n",
        "\n",
        "        # Reset training metrics at the end of each epoch\n",
        "        train_acc_metric.reset_states()\n",
        "\n",
        "\n",
        "        # Run a validation loop at the end of each epoch.\n",
        "        for x_batch_val, y_batch_val in val_dataset:\n",
        "            test_step(x_batch_val, y_batch_val)\n",
        "\n",
        "        val_acc = val_acc_metric.result()\n",
        "        val_acc_metric.reset_states()\n",
        "        print(\"Validation acc: %.4f\" % (float(val_acc),))\n",
        "        history['val_acc'].append(float(val_acc))\n",
        "        if verbose:\n",
        "            print(\"Time taken: %.2fs \\n\" % (time.time() - start_time))\n",
        "    return float(val_acc) ,history"
      ]
    },
    {
      "cell_type": "code",
      "execution_count": 221,
      "metadata": {
        "id": "WlWKPDuT1yr4"
      },
      "outputs": [],
      "source": [
        "\n",
        "val_dataset = tf.data.Dataset.from_tensor_slices((x_test, y_test))\n",
        "val_dataset = val_dataset.batch(128)"
      ]
    },
    {
      "cell_type": "code",
      "execution_count": 222,
      "metadata": {
        "id": "zZVTyyvYqPVu"
      },
      "outputs": [],
      "source": [
        "labels_per_batch = 50\n",
        "batch_size = 128\n",
        "\n",
        "hyper = {\n",
        "    \"labels_per_batch\":labels_per_batch,\n",
        "    \"batch_size\" : batch_size,\n",
        "    \"batch_unique_labels\":100/labels_per_batch,\n",
        "    \"unlabels_per_batch\":int((batch_size-labels_per_batch)/2),\n",
        "    \"nbr_batch\" : 100,\n",
        "    \"lamd\" : 1,\n",
        "    \"tsa_schedule\":\"exp_schedule\",\n",
        "    # tsa_schedule=\"\"\n",
        "    \"num_classes\" : 10,\n",
        "    \"uda_softmax_temp\" : 0.9,\n",
        "    \"uda_confidence_thresh\" : 0.8,\n",
        "    \"ent_min_coeff\" : 0.5,\n",
        "\n",
        "    \"num_classes\" : 10,\n",
        "    \"decay_steps\" : 1000,\n",
        "    \"moving_average_decay\":0.9999,\n",
        "    \"initial_learning_rate\":1e-2,\n",
        "    \"dropout\":0.8,\n",
        "    \"l2\": 0.1\n",
        "}"
      ]
    },
    {
      "cell_type": "code",
      "execution_count": 224,
      "metadata": {
        "colab": {
          "base_uri": "https://localhost:8080/",
          "height": 1000
        },
        "id": "tHYqopfXqQie",
        "outputId": "fa512c71-a872-4143-8b1b-1e6fddd2c287"
      },
      "outputs": [
        {
          "output_type": "stream",
          "name": "stdout",
          "text": [
            "Starting Training\n"
          ]
        },
        {
          "output_type": "stream",
          "name": "stderr",
          "text": [
            "\r  0%|          | 0/20 [00:00<?, ?it/s]"
          ]
        },
        {
          "output_type": "stream",
          "name": "stdout",
          "text": [
            "Training acc over epoch: 0.6927\n"
          ]
        },
        {
          "output_type": "stream",
          "name": "stderr",
          "text": [
            "\r  5%|▌         | 1/20 [00:35<11:23, 35.99s/it]"
          ]
        },
        {
          "output_type": "stream",
          "name": "stdout",
          "text": [
            "Validation acc: 0.7770\n",
            "Training acc over epoch: 0.9095\n"
          ]
        },
        {
          "output_type": "stream",
          "name": "stderr",
          "text": [
            "\r 10%|█         | 2/20 [01:10<10:27, 34.88s/it]"
          ]
        },
        {
          "output_type": "stream",
          "name": "stdout",
          "text": [
            "Validation acc: 0.7844\n",
            "Training acc over epoch: 0.9320\n"
          ]
        },
        {
          "output_type": "stream",
          "name": "stderr",
          "text": [
            "\r 15%|█▌        | 3/20 [01:45<09:55, 35.06s/it]"
          ]
        },
        {
          "output_type": "stream",
          "name": "stdout",
          "text": [
            "Validation acc: 0.7691\n",
            "Training acc over epoch: 0.9421\n"
          ]
        },
        {
          "output_type": "stream",
          "name": "stderr",
          "text": [
            "\r 20%|██        | 4/20 [02:20<09:18, 34.93s/it]"
          ]
        },
        {
          "output_type": "stream",
          "name": "stdout",
          "text": [
            "Validation acc: 0.7832\n",
            "Training acc over epoch: 0.9458\n"
          ]
        },
        {
          "output_type": "stream",
          "name": "stderr",
          "text": [
            "\r 25%|██▌       | 5/20 [02:56<08:54, 35.63s/it]"
          ]
        },
        {
          "output_type": "stream",
          "name": "stdout",
          "text": [
            "Validation acc: 0.8051\n",
            "Training acc over epoch: 0.9490\n"
          ]
        },
        {
          "output_type": "stream",
          "name": "stderr",
          "text": [
            "\r 30%|███       | 6/20 [03:31<08:12, 35.18s/it]"
          ]
        },
        {
          "output_type": "stream",
          "name": "stdout",
          "text": [
            "Validation acc: 0.8009\n",
            "Training acc over epoch: 0.9558\n"
          ]
        },
        {
          "output_type": "stream",
          "name": "stderr",
          "text": [
            "\r 35%|███▌      | 7/20 [04:06<07:38, 35.23s/it]"
          ]
        },
        {
          "output_type": "stream",
          "name": "stdout",
          "text": [
            "Validation acc: 0.8260\n",
            "Training acc over epoch: 0.9589\n"
          ]
        },
        {
          "output_type": "stream",
          "name": "stderr",
          "text": [
            "\r 40%|████      | 8/20 [04:40<06:58, 34.89s/it]"
          ]
        },
        {
          "output_type": "stream",
          "name": "stdout",
          "text": [
            "Validation acc: 0.8377\n",
            "Training acc over epoch: 0.9597\n"
          ]
        },
        {
          "output_type": "stream",
          "name": "stderr",
          "text": [
            "\r 45%|████▌     | 9/20 [05:14<06:20, 34.58s/it]"
          ]
        },
        {
          "output_type": "stream",
          "name": "stdout",
          "text": [
            "Validation acc: 0.8391\n",
            "Training acc over epoch: 0.9629\n"
          ]
        },
        {
          "output_type": "stream",
          "name": "stderr",
          "text": [
            "\r 50%|█████     | 10/20 [05:49<05:47, 34.74s/it]"
          ]
        },
        {
          "output_type": "stream",
          "name": "stdout",
          "text": [
            "Validation acc: 0.8373\n",
            "Training acc over epoch: 0.9638\n"
          ]
        },
        {
          "output_type": "stream",
          "name": "stderr",
          "text": [
            "\r 55%|█████▌    | 11/20 [06:23<05:10, 34.53s/it]"
          ]
        },
        {
          "output_type": "stream",
          "name": "stdout",
          "text": [
            "Validation acc: 0.8355\n",
            "Training acc over epoch: 0.9672\n"
          ]
        },
        {
          "output_type": "stream",
          "name": "stderr",
          "text": [
            "\r 60%|██████    | 12/20 [06:59<04:37, 34.73s/it]"
          ]
        },
        {
          "output_type": "stream",
          "name": "stdout",
          "text": [
            "Validation acc: 0.8455\n",
            "Training acc over epoch: 0.9674\n"
          ]
        },
        {
          "output_type": "stream",
          "name": "stderr",
          "text": [
            "\r 65%|██████▌   | 13/20 [07:34<04:04, 34.91s/it]"
          ]
        },
        {
          "output_type": "stream",
          "name": "stdout",
          "text": [
            "Validation acc: 0.8446\n",
            "Training acc over epoch: 0.9697\n"
          ]
        },
        {
          "output_type": "stream",
          "name": "stderr",
          "text": [
            "\r 70%|███████   | 14/20 [08:10<03:30, 35.15s/it]"
          ]
        },
        {
          "output_type": "stream",
          "name": "stdout",
          "text": [
            "Validation acc: 0.8458\n",
            "Training acc over epoch: 0.9708\n"
          ]
        },
        {
          "output_type": "stream",
          "name": "stderr",
          "text": [
            "\r 75%|███████▌  | 15/20 [08:44<02:54, 34.92s/it]"
          ]
        },
        {
          "output_type": "stream",
          "name": "stdout",
          "text": [
            "Validation acc: 0.8445\n",
            "Training acc over epoch: 0.9722\n"
          ]
        },
        {
          "output_type": "stream",
          "name": "stderr",
          "text": [
            "\r 80%|████████  | 16/20 [09:21<02:22, 35.55s/it]"
          ]
        },
        {
          "output_type": "stream",
          "name": "stdout",
          "text": [
            "Validation acc: 0.8477\n",
            "Training acc over epoch: 0.9732\n"
          ]
        },
        {
          "output_type": "stream",
          "name": "stderr",
          "text": [
            "\r 85%|████████▌ | 17/20 [09:56<01:45, 35.33s/it]"
          ]
        },
        {
          "output_type": "stream",
          "name": "stdout",
          "text": [
            "Validation acc: 0.8453\n",
            "Training acc over epoch: 0.9744\n"
          ]
        },
        {
          "output_type": "stream",
          "name": "stderr",
          "text": [
            "\r 90%|█████████ | 18/20 [10:31<01:10, 35.26s/it]"
          ]
        },
        {
          "output_type": "stream",
          "name": "stdout",
          "text": [
            "Validation acc: 0.8501\n",
            "Training acc over epoch: 0.9764\n"
          ]
        },
        {
          "output_type": "stream",
          "name": "stderr",
          "text": [
            "\r 95%|█████████▌| 19/20 [11:06<00:35, 35.10s/it]"
          ]
        },
        {
          "output_type": "stream",
          "name": "stdout",
          "text": [
            "Validation acc: 0.8490\n",
            "Training acc over epoch: 0.9768\n"
          ]
        },
        {
          "output_type": "stream",
          "name": "stderr",
          "text": [
            "100%|██████████| 20/20 [11:42<00:00, 35.15s/it]"
          ]
        },
        {
          "output_type": "stream",
          "name": "stdout",
          "text": [
            "Validation acc: 0.8471\n",
            "{'val_acc': [0.7770000100135803, 0.7843999862670898, 0.76910001039505, 0.7832000255584717, 0.8051000237464905, 0.8008999824523926, 0.8259999752044678, 0.8377000093460083, 0.8391000032424927, 0.8373000025749207, 0.8355000019073486, 0.8454999923706055, 0.8446000218391418, 0.84579998254776, 0.8445000052452087, 0.8476999998092651, 0.845300018787384, 0.8500999808311462, 0.8489999771118164, 0.847100019454956], 'train_acc': [0.6927089095115662, 0.9094524383544922, 0.9319596290588379, 0.9421325922012329, 0.9457637071609497, 0.9489625096321106, 0.9558213353157043, 0.9588760733604431, 0.9597117900848389, 0.962881863117218, 0.9638328552246094, 0.967233419418335, 0.9674351811408997, 0.9696542024612427, 0.9708357453346252, 0.9721614122390747, 0.9731700420379639, 0.9744380116462708, 0.9763689041137695, 0.9767723083496094], 'epoch': [0, 1, 2, 3, 4, 5, 6, 7, 8, 9, 10, 11, 12, 13, 14, 15, 16, 17, 18, 19], 'loss': [1.2168673276901245, 0.8386294841766357, 0.8584009408950806, 1.12019681930542, 0.6477091312408447, 0.9388695359230042, 0.4867846965789795, 1.1347970962524414, 0.5504274368286133, 1.0490899085998535, 0.6223915815353394, 0.6604090332984924, 1.079249382019043, 0.5974324345588684, 0.5408914089202881, 0.5911030769348145, 0.6389029622077942, 1.5135608911514282, 0.9834213256835938, 0.7125425338745117]}\n"
          ]
        },
        {
          "output_type": "stream",
          "name": "stderr",
          "text": [
            "\n"
          ]
        },
        {
          "output_type": "display_data",
          "data": {
            "text/plain": [
              "<Figure size 640x480 with 1 Axes>"
            ],
            "image/png": "[encoded data removed]"
          },
          "metadata": {}
        }
      ],
      "source": [
        "create_train(hyper, epochs=20, pretraining=False, verbose=False)"
      ]
    }
  ],
  "metadata": {
    "colab": {
      "provenance": [],
      "include_colab_link": true
    },
    "kernelspec": {
      "display_name": "default:Python",
      "language": "python",
      "name": "conda-env-default-py"
    },
    "language_info": {
      "codemirror_mode": {
        "name": "ipython",
        "version": 3
      },
      "file_extension": ".py",
      "mimetype": "text/x-python",
      "name": "python",
      "nbconvert_exporter": "python",
      "pygments_lexer": "ipython3",
      "version": "3.9.7"
    }
  },
  "nbformat": 4,
  "nbformat_minor": 0
}